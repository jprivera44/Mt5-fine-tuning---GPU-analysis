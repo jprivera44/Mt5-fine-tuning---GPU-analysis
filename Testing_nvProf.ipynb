{
 "cells": [
  {
   "cell_type": "code",
   "execution_count": 7,
   "metadata": {
    "colab": {
     "base_uri": "https://localhost:8080/"
    },
    "executionInfo": {
     "elapsed": 54402,
     "status": "ok",
     "timestamp": 1689362350613,
     "user": {
      "displayName": "Juan Pablo Rivera",
      "userId": "03568374008336128025"
     },
     "user_tz": 420
    },
    "id": "3OKrIZ0R1ub3",
    "outputId": "2cf34eb5-9d26-4262-fc4d-e43367a12f13"
   },
   "outputs": [
    {
     "name": "stdout",
     "output_type": "stream",
     "text": [
      "Mounted at /content/drive\n"
     ]
    }
   ],
   "source": [
    "#mounting my local drive\n",
    "from google.colab import drive\n",
    "drive.mount('/content/drive')"
   ]
  },
  {
   "cell_type": "code",
   "execution_count": 8,
   "metadata": {
    "colab": {
     "base_uri": "https://localhost:8080/"
    },
    "executionInfo": {
     "elapsed": 162,
     "status": "ok",
     "timestamp": 1689362455329,
     "user": {
      "displayName": "Juan Pablo Rivera",
      "userId": "03568374008336128025"
     },
     "user_tz": 420
    },
    "id": "yFMFufu22UTZ",
    "outputId": "9b1735c7-8baa-4757-c02f-352167f48880"
   },
   "outputs": [
    {
     "name": "stdout",
     "output_type": "stream",
     "text": [
      "drive  sample_data  simple_model.py\n"
     ]
    }
   ],
   "source": [
    "!ls"
   ]
  },
  {
   "cell_type": "code",
   "execution_count": 9,
   "metadata": {
    "executionInfo": {
     "elapsed": 147,
     "status": "ok",
     "timestamp": 1689362485604,
     "user": {
      "displayName": "Juan Pablo Rivera",
      "userId": "03568374008336128025"
     },
     "user_tz": 420
    },
    "id": "seF-lPGq2WR_"
   },
   "outputs": [],
   "source": [
    "!cd drive/MyDrive/Colab\\ Notebooks/GPT-J-Comparison\n"
   ]
  },
  {
   "cell_type": "code",
   "execution_count": 10,
   "metadata": {
    "colab": {
     "base_uri": "https://localhost:8080/"
    },
    "executionInfo": {
     "elapsed": 6,
     "status": "ok",
     "timestamp": 1689362491749,
     "user": {
      "displayName": "Juan Pablo Rivera",
      "userId": "03568374008336128025"
     },
     "user_tz": 420
    },
    "id": "DetConoq2dsP",
    "outputId": "9ca09e38-daeb-40fa-97e2-aa1ebb2a75ff"
   },
   "outputs": [
    {
     "name": "stdout",
     "output_type": "stream",
     "text": [
      "drive  sample_data  simple_model.py\n"
     ]
    }
   ],
   "source": [
    "!ls"
   ]
  },
  {
   "cell_type": "code",
   "execution_count": 11,
   "metadata": {
    "executionInfo": {
     "elapsed": 2575,
     "status": "ok",
     "timestamp": 1689362503471,
     "user": {
      "displayName": "Juan Pablo Rivera",
      "userId": "03568374008336128025"
     },
     "user_tz": 420
    },
    "id": "KeAEEOo41RP0"
   },
   "outputs": [],
   "source": [
    "! python simple_model.py"
   ]
  },
  {
   "cell_type": "code",
   "execution_count": 12,
   "metadata": {
    "colab": {
     "base_uri": "https://localhost:8080/"
    },
    "executionInfo": {
     "elapsed": 2930,
     "status": "ok",
     "timestamp": 1689362512174,
     "user": {
      "displayName": "Juan Pablo Rivera",
      "userId": "03568374008336128025"
     },
     "user_tz": 420
    },
    "id": "fVLZClVK0wdJ",
    "outputId": "42ade275-ba05-46f5-b00a-9f77c09a514c"
   },
   "outputs": [
    {
     "name": "stdout",
     "output_type": "stream",
     "text": [
      "======== Warning: unable to locate cuda driver library, GPU profiling skipped\n",
      "======== Warning: No profile data collected.\n"
     ]
    }
   ],
   "source": [
    "!nvprof python ./simple_model.py\n"
   ]
  },
  {
   "cell_type": "code",
   "execution_count": null,
   "metadata": {
    "id": "DtWSQiHJ0wUP"
   },
   "outputs": [],
   "source": []
  }
 ],
 "metadata": {
  "colab": {
   "authorship_tag": "ABX9TyObqbyVFDIdHq6VLXVzcRzO",
   "provenance": []
  },
  "kernelspec": {
   "display_name": "Python 3 (ipykernel)",
   "language": "python",
   "name": "python3"
  },
  "language_info": {
   "codemirror_mode": {
    "name": "ipython",
    "version": 3
   },
   "file_extension": ".py",
   "mimetype": "text/x-python",
   "name": "python",
   "nbconvert_exporter": "python",
   "pygments_lexer": "ipython3",
   "version": "3.9.16"
  }
 },
 "nbformat": 4,
 "nbformat_minor": 4
}
