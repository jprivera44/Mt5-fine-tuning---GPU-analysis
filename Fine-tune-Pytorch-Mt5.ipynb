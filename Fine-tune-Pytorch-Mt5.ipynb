{
 "cells": [
  {
   "cell_type": "code",
   "execution_count": 1,
   "id": "360ef5c5-b207-4afa-888f-0bbfcf904c47",
   "metadata": {
    "execution": {
     "iopub.status.idle": "2023-07-17T18:03:59.186200Z",
     "shell.execute_reply": "2023-07-17T18:03:59.185588Z",
     "shell.execute_reply.started": "2023-07-17T18:03:58.908581Z"
    }
   },
   "outputs": [],
   "source": [
    "#steps\n",
    "import sqlite3\n",
    "import pandas as pd\n",
    "\n",
    "# Import large Mt5 model\n",
    "# bring in dataset\n",
    "# Fine tune\n",
    "# Evaluate"
   ]
  },
  {
   "cell_type": "markdown",
   "id": "f75d9c96-64c4-4be2-aed6-c1a5b635d2b5",
   "metadata": {},
   "source": [
    "## Data Conversion"
   ]
  },
  {
   "cell_type": "code",
   "execution_count": 2,
   "id": "99c06b9a-5d1e-439e-a47d-71ea3e04eba5",
   "metadata": {
    "execution": {
     "iopub.execute_input": "2023-07-17T18:03:59.187607Z",
     "iopub.status.busy": "2023-07-17T18:03:59.187357Z",
     "iopub.status.idle": "2023-07-17T18:04:04.177793Z",
     "shell.execute_reply": "2023-07-17T18:04:04.177070Z",
     "shell.execute_reply.started": "2023-07-17T18:03:59.187589Z"
    }
   },
   "outputs": [
    {
     "name": "stderr",
     "output_type": "stream",
     "text": [
      "Reusing dataset squad_es (/root/.cache/huggingface/datasets/squad_es/v1.1.0/1.1.0/bcada4f600192451443b95e24f609325705c5185b8aad97bffa8bc3784a867ad)\n"
     ]
    },
    {
     "data": {
      "application/vnd.jupyter.widget-view+json": {
       "model_id": "38a6aae4ac4943b78e351fe4ed4b4c4f",
       "version_major": 2,
       "version_minor": 0
      },
      "text/plain": [
       "  0%|          | 0/2 [00:00<?, ?it/s]"
      ]
     },
     "metadata": {},
     "output_type": "display_data"
    },
    {
     "name": "stderr",
     "output_type": "stream",
     "text": [
      "/usr/local/lib/python3.9/dist-packages/transformers/convert_slow_tokenizer.py:434: UserWarning: The sentencepiece tokenizer that you are converting to a fast tokenizer uses the byte fallback option which is not implemented in the fast tokenizers. In practice this means that the fast version of the tokenizer can produce unknown tokens whereas the sentencepiece version would have converted these unknown tokens into a sequence of byte tokens matching the original piece of text.\n",
      "  warnings.warn(\n"
     ]
    }
   ],
   "source": [
    "##Bring in dataset\n",
    "\n",
    "from datasets import load_dataset\n",
    "\n",
    "from transformers import MT5ForConditionalGeneration, Trainer, TrainingArguments\n",
    "\n",
    "dataset = load_dataset(\"squad_es\",'v1.1.0')\n",
    "\n",
    "# Step 1 and 2: Combine context and question, format the answer\n",
    "from transformers import T5TokenizerFast\n",
    "\n",
    "# Load the tokenizer\n",
    "tokenizer = T5TokenizerFast.from_pretrained('google/mt5-base')"
   ]
  },
  {
   "cell_type": "code",
   "execution_count": null,
   "id": "61fb5acb-0525-4188-a5fe-831a2cb79ccc",
   "metadata": {
    "execution": {
     "iopub.execute_input": "2023-07-17T18:04:04.186422Z",
     "iopub.status.busy": "2023-07-17T18:04:04.186280Z",
     "iopub.status.idle": "2023-07-17T18:04:05.148485Z"
    }
   },
   "outputs": [
    {
     "data": {
      "text/plain": [
       "'Santa Bernadette Soubirous'"
      ]
     },
     "execution_count": 3,
     "metadata": {},
     "output_type": "execute_result"
    }
   ],
   "source": [
    "dataset['train']['answers'][0]['text'][0]"
   ]
  },
  {
   "cell_type": "code",
   "execution_count": null,
   "id": "094a6a02-7272-42cd-bb16-10c5f4c38f88",
   "metadata": {
    "execution": {
     "iopub.execute_input": "2023-07-17T18:04:05.150808Z",
     "iopub.status.busy": "2023-07-17T18:04:05.150655Z",
     "iopub.status.idle": "2023-07-17T18:04:06.651262Z"
    }
   },
   "outputs": [],
   "source": [
    "\n",
    "# Step 1 and 2: Combine context and question, format the answer\n",
    "from transformers import T5TokenizerFast\n",
    "\n",
    "# Load the tokenizer\n",
    "tokenizer = T5TokenizerFast.from_pretrained('google/mt5-base')\n",
    "\n",
    "\n",
    "def prep_data(train_subset):\n",
    "\n",
    "    # Create new lists for our inputs and answers\n",
    "    input_ids = []\n",
    "    input_attn_msk = []\n",
    "    answers_ids = []\n",
    "\n",
    "    for id_value, title_value, context_value, q_value, a_value in zip(train_subset['id'], train_subset['title'], train_subset['context'],train_subset['question'],train_subset['answers']):\n",
    "\n",
    "        #INPUTS\n",
    "        # Combine the context and question into a single string\n",
    "        input_str = context_value + \" \" + q_value\n",
    "        #print(input_str)\n",
    "\n",
    "        #tokenize the inputs\n",
    "        inputs = tokenizer(input_str, truncation=True, padding='max_length', max_length=512)\n",
    "        #print(inputs.input_ids)\n",
    "        input_ids.append(inputs.input_ids)\n",
    "        input_attn_msk.append(inputs.attention_mask)\n",
    "\n",
    "\n",
    "        #ANSWERS\n",
    "        answers = a_value['text'][0]\n",
    "        answers_tokens = tokenizer(answers, truncation=True, padding='max_length', max_length=128)\n",
    "        answers_ids.append(answers_tokens.input_ids)\n",
    "\n",
    "\n",
    "    result_list = []\n",
    "\n",
    "\n",
    "    # Iterate over the values from each list\n",
    "    for input_id, attention_mask, label  in zip(input_ids, input_attn_msk, answers_ids):\n",
    "        # Create a dictionary with the desired keys\n",
    "        data_dict = {\n",
    "            'input_ids': torch.tensor(input_id),\n",
    "            'attention_mask': torch.tensor(attention_mask),\n",
    "            'labels': torch.tensor(label)\n",
    "\n",
    "        }\n",
    "\n",
    "        # Append the dictionary to the result list\n",
    "        result_list.append(data_dict)\n",
    "\n",
    "    return(result_list)\n",
    "\n",
    "\n",
    "    \n"
   ]
  },
  {
   "cell_type": "code",
   "execution_count": null,
   "id": "f7c27194-b09d-4733-ae89-7758756ce27f",
   "metadata": {
    "execution": {
     "iopub.execute_input": "2023-07-17T18:04:06.653835Z",
     "iopub.status.busy": "2023-07-17T18:04:06.653525Z",
     "iopub.status.idle": "2023-07-17T18:04:08.891446Z"
    }
   },
   "outputs": [],
   "source": [
    "import torch\n",
    "# Start with a subset of your data for testing\n",
    "train_subset = dataset['train'][:3000]  # Adjust this as needed\n",
    "\n",
    "model_train_data = prep_data(train_subset)\n",
    "\n",
    "\n",
    "# Start with a subset of your data for testing\n",
    "val_subset = dataset['validation'][:500]  # Adjust this as needed\n",
    "\n",
    "model_val_data = prep_data(val_subset)\n",
    "          \n",
    "          "
   ]
  },
  {
   "cell_type": "markdown",
   "id": "1f65aea7-c5fc-406a-99e3-7c81f75492a8",
   "metadata": {},
   "source": [
    "## Data ready test"
   ]
  },
  {
   "cell_type": "code",
   "execution_count": null,
   "id": "243cc01a-bef7-40c6-bc18-dccfc03fd5e8",
   "metadata": {
    "execution": {
     "iopub.execute_input": "2023-07-17T18:04:08.894034Z",
     "iopub.status.busy": "2023-07-17T18:04:08.893514Z",
     "iopub.status.idle": "2023-07-17T18:04:08.898814Z"
    }
   },
   "outputs": [
    {
     "name": "stdout",
     "output_type": "stream",
     "text": [
      "Your dataset appears to be correctly structured for Trainer.\n"
     ]
    }
   ],
   "source": [
    "# replace 'train_dataset' with your dataset variable\n",
    "sample = model_train_data[0]\n",
    "\n",
    "assert isinstance(sample, dict), \"Each item in dataset must be a dictionary\"\n",
    "assert 'input_ids' in sample, \"input_ids must be in the dataset\"\n",
    "assert 'attention_mask' in sample, \"attention_mask must be in the dataset\"\n",
    "assert 'labels' in sample, \"labels must be in the dataset\"\n",
    "\n",
    "print(\"Your dataset appears to be correctly structured for Trainer.\")\n"
   ]
  },
  {
   "cell_type": "code",
   "execution_count": null,
   "id": "1628ea9a-ace1-4609-a954-ffefdb2de12e",
   "metadata": {
    "execution": {
     "iopub.execute_input": "2023-07-17T18:04:08.903182Z",
     "iopub.status.busy": "2023-07-17T18:04:08.903024Z",
     "iopub.status.idle": "2023-07-17T18:04:08.908144Z"
    }
   },
   "outputs": [
    {
     "name": "stdout",
     "output_type": "stream",
     "text": [
      "Your dataset appears to be correctly structured for Trainer.\n"
     ]
    }
   ],
   "source": [
    "# replace 'train_dataset' with your dataset variable\n",
    "sample = model_val_data[0]\n",
    "\n",
    "assert isinstance(sample, dict), \"Each item in dataset must be a dictionary\"\n",
    "assert 'input_ids' in sample, \"input_ids must be in the dataset\"\n",
    "assert 'attention_mask' in sample, \"attention_mask must be in the dataset\"\n",
    "assert 'labels' in sample, \"labels must be in the dataset\"\n",
    "\n",
    "print(\"Your dataset appears to be correctly structured for Trainer.\")\n"
   ]
  },
  {
   "cell_type": "code",
   "execution_count": null,
   "id": "5dc3b1ce-6b19-4b5d-86b2-231153552e14",
   "metadata": {
    "execution": {
     "iopub.execute_input": "2023-07-17T18:04:08.910580Z",
     "iopub.status.busy": "2023-07-17T18:04:08.910405Z",
     "iopub.status.idle": "2023-07-17T18:04:08.914406Z"
    }
   },
   "outputs": [
    {
     "name": "stdout",
     "output_type": "stream",
     "text": [
      "torch.Size([512])\n",
      "torch.Size([512])\n",
      "torch.Size([128])\n"
     ]
    }
   ],
   "source": [
    "print(model_val_data[0]['input_ids'].shape)\n",
    "print(model_val_data[0]['attention_mask'].shape)\n",
    "print(model_val_data[0]['labels'].shape)\n",
    "                        "
   ]
  },
  {
   "cell_type": "code",
   "execution_count": null,
   "id": "4f261f6d-2d1a-452b-9ccf-c46b7eeb67ee",
   "metadata": {},
   "outputs": [],
   "source": []
  },
  {
   "cell_type": "markdown",
   "id": "3d9f781b-e08d-4151-b3a1-bda9cd7f04f4",
   "metadata": {},
   "source": [
    "## Fine Tuning"
   ]
  },
  {
   "cell_type": "code",
   "execution_count": null,
   "id": "c8231375-e644-444d-94b6-d00528777b99",
   "metadata": {
    "execution": {
     "iopub.execute_input": "2023-07-17T18:04:08.916924Z",
     "iopub.status.busy": "2023-07-17T18:04:08.916763Z",
     "iopub.status.idle": "2023-07-17T18:04:21.531219Z"
    }
   },
   "outputs": [
    {
     "name": "stdout",
     "output_type": "stream",
     "text": [
      "huggingface/tokenizers: The current process just got forked, after parallelism has already been used. Disabling parallelism to avoid deadlocks...\n",
      "To disable this warning, you can either:\n",
      "\t- Avoid using `tokenizers` before the fork if possible\n",
      "\t- Explicitly set the environment variable TOKENIZERS_PARALLELISM=(true | false)\n",
      "huggingface/tokenizers: The current process just got forked, after parallelism has already been used. Disabling parallelism to avoid deadlocks...\n",
      "To disable this warning, you can either:\n",
      "\t- Avoid using `tokenizers` before the fork if possible\n",
      "\t- Explicitly set the environment variable TOKENIZERS_PARALLELISM=(true | false)\n",
      "huggingface/tokenizers: The current process just got forked, after parallelism has already been used. Disabling parallelism to avoid deadlocks...\n",
      "To disable this warning, you can either:\n",
      "\t- Avoid using `tokenizers` before the fork if possible\n",
      "\t- Explicitly set the environment variable TOKENIZERS_PARALLELISM=(true | false)\n",
      "huggingface/tokenizers: The current process just got forked, after parallelism has already been used. Disabling parallelism to avoid deadlocks...\n",
      "To disable this warning, you can either:\n",
      "\t- Avoid using `tokenizers` before the fork if possible\n",
      "\t- Explicitly set the environment variable TOKENIZERS_PARALLELISM=(true | false)\n"
     ]
    },
    {
     "name": "stderr",
     "output_type": "stream",
     "text": [
      "\u001b[34m\u001b[1mwandb\u001b[0m: Currently logged in as: \u001b[33mjprivera44\u001b[0m (\u001b[33mcs7643_jp\u001b[0m). Use \u001b[1m`wandb login --relogin`\u001b[0m to force relogin\n"
     ]
    },
    {
     "name": "stdout",
     "output_type": "stream",
     "text": [
      "huggingface/tokenizers: The current process just got forked, after parallelism has already been used. Disabling parallelism to avoid deadlocks...\n",
      "To disable this warning, you can either:\n",
      "\t- Avoid using `tokenizers` before the fork if possible\n",
      "\t- Explicitly set the environment variable TOKENIZERS_PARALLELISM=(true | false)\n",
      "huggingface/tokenizers: The current process just got forked, after parallelism has already been used. Disabling parallelism to avoid deadlocks...\n",
      "To disable this warning, you can either:\n",
      "\t- Avoid using `tokenizers` before the fork if possible\n",
      "\t- Explicitly set the environment variable TOKENIZERS_PARALLELISM=(true | false)\n"
     ]
    },
    {
     "data": {
      "text/html": [
       "wandb version 0.15.5 is available!  To upgrade, please run:\n",
       " $ pip install wandb --upgrade"
      ],
      "text/plain": [
       "<IPython.core.display.HTML object>"
      ]
     },
     "metadata": {},
     "output_type": "display_data"
    },
    {
     "data": {
      "text/html": [
       "Tracking run with wandb version 0.13.4"
      ],
      "text/plain": [
       "<IPython.core.display.HTML object>"
      ]
     },
     "metadata": {},
     "output_type": "display_data"
    },
    {
     "data": {
      "text/html": [
       "Run data is saved locally in <code>/notebooks/Mt5-model-comparison/wandb/run-20230717_180418-lxib8gpq</code>"
      ],
      "text/plain": [
       "<IPython.core.display.HTML object>"
      ]
     },
     "metadata": {},
     "output_type": "display_data"
    },
    {
     "data": {
      "text/html": [
       "Syncing run <strong><a href=\"https://wandb.ai/cs7643_jp/mt5_fine_tune/runs/lxib8gpq\" target=\"_blank\">training_run</a></strong> to <a href=\"https://wandb.ai/cs7643_jp/mt5_fine_tune\" target=\"_blank\">Weights & Biases</a> (<a href=\"https://wandb.me/run\" target=\"_blank\">docs</a>)<br/>"
      ],
      "text/plain": [
       "<IPython.core.display.HTML object>"
      ]
     },
     "metadata": {},
     "output_type": "display_data"
    }
   ],
   "source": [
    "from transformers import MT5ForConditionalGeneration, Trainer, TrainingArguments\n",
    "import wandb\n",
    "\n",
    "# Initialize the model\n",
    "model = MT5ForConditionalGeneration.from_pretrained(\"google/mt5-base\")\n",
    "\n",
    "wandb.init(project=\"mt5_fine_tune\", name=\"training_run\")\n",
    "\n",
    "# Initialize the training arguments\n",
    "training_args = TrainingArguments(\n",
    "    output_dir=\"./results\",          # output directory\n",
    "    num_train_epochs=3,              # total number of training epochs\n",
    "    per_device_train_batch_size=4,  # batch size per device during training\n",
    "    per_device_eval_batch_size=10,   # batch size for evaluation\n",
    "    warmup_steps=500,                # number of warmup steps for learning rate scheduler\n",
    "    weight_decay=0.01,               # strength of weight decay\n",
    "    logging_dir='./logs',            # directory for storing logs\n",
    "    logging_steps=10,\n",
    ")\n",
    "\n",
    "\n",
    "\n",
    "'''\n",
    "training_args = TrainingArguments(\n",
    "    output_dir='./results',  # output directory\n",
    "    num_train_epochs=3,     # total number of training epochs\n",
    "    per_device_train_batch_size=3,  # batch size per device during training\n",
    "    per_device_eval_batch_size=10,   # batch size for evaluation\n",
    "    warmup_steps=500,       # number of warmup steps for learning rate scheduler\n",
    "    weight_decay=0.01,      # strength of weight decay\n",
    "    logging_dir='./logs',   # directory for storing logs\n",
    "    logging_steps=10,       # when to print log\n",
    "    do_train=True,\n",
    "    do_eval=True,\n",
    "    evaluation_strategy=\"steps\", # evaluation is done at every logging step\n",
    "    load_best_model_at_end=True, # the best model is loaded at the end of training (might be slower with big datasets)\n",
    "    metric_for_best_model=\"loss\", # the metric to use to compare models\n",
    "    run_name=\"run_name\", # Wandb run name\n",
    ")\n",
    "\n",
    "'''\n",
    "\n",
    "\n",
    "# Define the compute metrics function\n",
    "def compute_metrics(eval_pred):\n",
    "    predictions, labels = eval_pred\n",
    "    predictions = np.argmax(predictions, axis=1)\n",
    "    return {\"accuracy\": (predictions == labels).mean()}\n",
    "\n",
    "# Initialize the Trainer\n",
    "trainer = Trainer(\n",
    "    model=model,                         # the instantiated 🤗 Transformers model to be trained\n",
    "    args=training_args,                  # training arguments, defined above\n",
    "    train_dataset=model_train_data,            # training dataset\n",
    "    eval_dataset=model_val_data,         # evaluation dataset\n",
    "    compute_metrics=compute_metrics,     # the callback that computes metrics of interest\n",
    ")\n",
    "\n",
    "# Train the model\n",
    "#trainer.train()\n"
   ]
  },
  {
   "cell_type": "code",
   "execution_count": null,
   "id": "db512dea-1e4b-4ca9-83b8-746bbba72916",
   "metadata": {
    "execution": {
     "iopub.execute_input": "2023-07-17T18:04:21.534496Z",
     "iopub.status.busy": "2023-07-17T18:04:21.534323Z",
     "iopub.status.idle": "2023-07-17T18:04:26.130382Z"
    }
   },
   "outputs": [
    {
     "name": "stderr",
     "output_type": "stream",
     "text": [
      "Configuration saved in model_input/model/config.json\n",
      "Model weights saved in model_input/model/pytorch_model.bin\n"
     ]
    }
   ],
   "source": [
    "#saving data to disk\n",
    "\n",
    "import torch\n",
    "\n",
    "# Save the model and training_args\n",
    "#torch.save(model.state_dict(), 'model_input/model.pth')\n",
    "model.save_pretrained('model_input/model')\n",
    "torch.save(training_args, 'model_input/training_args.pth')\n",
    "\n",
    "import pickle\n",
    "\n",
    "with open('model_input/train_data.pkl', 'wb') as f:\n",
    "    pickle.dump(model_train_data, f)\n",
    "\n",
    "with open('model_input/val_data.pkl', 'wb') as f:\n",
    "    pickle.dump(model_val_data, f)\n",
    "\n",
    "# Here, compute_metrics is a function. You cannot save it directly, but you can define it in your script or import it from a shared Python module.\n"
   ]
  },
  {
   "cell_type": "code",
   "execution_count": null,
   "id": "3a11a14f-7131-41e6-aaec-1bd13cf238a0",
   "metadata": {
    "execution": {
     "iopub.execute_input": "2023-07-17T18:04:26.132671Z",
     "iopub.status.busy": "2023-07-17T18:04:26.132513Z",
     "iopub.status.idle": "2023-07-17T18:23:30.556358Z"
    }
   },
   "outputs": [
    {
     "name": "stdout",
     "output_type": "stream",
     "text": [
      "huggingface/tokenizers: The current process just got forked, after parallelism has already been used. Disabling parallelism to avoid deadlocks...\n",
      "To disable this warning, you can either:\n",
      "\t- Avoid using `tokenizers` before the fork if possible\n",
      "\t- Explicitly set the environment variable TOKENIZERS_PARALLELISM=(true | false)\n",
      "Warning: LBR backtrace method is not supported on this platform. DWARF backtrace method will be used.\n",
      "/usr/local/lib/python3.9/dist-packages/transformers/optimization.py:306: FutureWarning: This implementation of AdamW is deprecated and will be removed in a future version. Use the PyTorch implementation torch.optim.AdamW instead, or set `no_deprecation_warning=True` to disable this warning\n",
      "  warnings.warn(\n",
      "***** Running training *****\n",
      "  Num examples = 3000\n",
      "  Num Epochs = 3\n",
      "  Instantaneous batch size per device = 4\n",
      "  Total train batch size (w. parallel, distributed & accumulation) = 4\n",
      "  Gradient Accumulation steps = 1\n",
      "  Total optimization steps = 2250\n",
      "Automatic Weights & Biases logging enabled, to disable set os.environ[\"WANDB_DISABLED\"] = \"true\"\n",
      "wandb: Currently logged in as: jprivera44 (cs7643_jp). Use `wandb login --relogin` to force relogin\n",
      "wandb: wandb version 0.15.5 is available!  To upgrade, please run:\n",
      "wandb:  $ pip install wandb --upgrade\n",
      "wandb: Tracking run with wandb version 0.13.4\n",
      "wandb: Run data is saved locally in /notebooks/Mt5-model-comparison/wandb/run-20230717_180441-3mgmfjuc\n",
      "wandb: Run `wandb offline` to turn off syncing.\n",
      "wandb: Syncing run ./results\n",
      "wandb: ⭐️ View project at https://wandb.ai/cs7643_jp/huggingface\n",
      "wandb: 🚀 View run at https://wandb.ai/cs7643_jp/huggingface/runs/3mgmfjuc\n",
      " 22%|██▏       | 500/2250 [02:55<13:14,  2.20it/s]Saving model checkpoint to ./results/checkpoint-500\n",
      "Configuration saved in ./results/checkpoint-500/config.json\n",
      "Model weights saved in ./results/checkpoint-500/pytorch_model.bin\n",
      " 44%|████▍     | 1000/2250 [06:02<09:29,  2.20it/s]Saving model checkpoint to ./results/checkpoint-1000\n",
      "Configuration saved in ./results/checkpoint-1000/config.json\n",
      "Model weights saved in ./results/checkpoint-1000/pytorch_model.bin\n",
      "{'loss': 49.5114, 'learning_rate': 1.0000000000000002e-06, 'epoch': 0.01}\n",
      "{'loss': 47.9094, 'learning_rate': 2.0000000000000003e-06, 'epoch': 0.03}\n",
      "{'loss': 47.7466, 'learning_rate': 3e-06, 'epoch': 0.04}\n",
      "{'loss': 47.9179, 'learning_rate': 4.000000000000001e-06, 'epoch': 0.05}\n",
      "{'loss': 47.669, 'learning_rate': 5e-06, 'epoch': 0.07}\n",
      "{'loss': 46.7611, 'learning_rate': 6e-06, 'epoch': 0.08}\n",
      "{'loss': 46.6311, 'learning_rate': 7.000000000000001e-06, 'epoch': 0.09}\n",
      "{'loss': 45.5875, 'learning_rate': 8.000000000000001e-06, 'epoch': 0.11}\n",
      "{'loss': 46.2205, 'learning_rate': 9e-06, 'epoch': 0.12}\n",
      "{'loss': 44.7196, 'learning_rate': 1e-05, 'epoch': 0.13}\n",
      "{'loss': 43.6108, 'learning_rate': 1.1000000000000001e-05, 'epoch': 0.15}\n",
      "{'loss': 43.3444, 'learning_rate': 1.2e-05, 'epoch': 0.16}\n",
      "{'loss': 42.6203, 'learning_rate': 1.3000000000000001e-05, 'epoch': 0.17}\n",
      "{'loss': 41.7709, 'learning_rate': 1.4000000000000001e-05, 'epoch': 0.19}\n",
      "{'loss': 40.3529, 'learning_rate': 1.5e-05, 'epoch': 0.2}\n",
      "{'loss': 39.5078, 'learning_rate': 1.6000000000000003e-05, 'epoch': 0.21}\n",
      "{'loss': 38.4452, 'learning_rate': 1.7000000000000003e-05, 'epoch': 0.23}\n",
      "{'loss': 37.1443, 'learning_rate': 1.8e-05, 'epoch': 0.24}\n",
      "{'loss': 36.6947, 'learning_rate': 1.9e-05, 'epoch': 0.25}\n",
      "{'loss': 35.4521, 'learning_rate': 2e-05, 'epoch': 0.27}\n",
      "{'loss': 35.0016, 'learning_rate': 2.1e-05, 'epoch': 0.28}\n",
      "{'loss': 33.9945, 'learning_rate': 2.2000000000000003e-05, 'epoch': 0.29}\n",
      "{'loss': 32.7605, 'learning_rate': 2.3000000000000003e-05, 'epoch': 0.31}\n",
      "{'loss': 31.8246, 'learning_rate': 2.4e-05, 'epoch': 0.32}\n",
      "{'loss': 30.9909, 'learning_rate': 2.5e-05, 'epoch': 0.33}\n",
      "{'loss': 30.1109, 'learning_rate': 2.6000000000000002e-05, 'epoch': 0.35}\n",
      "{'loss': 28.1236, 'learning_rate': 2.7000000000000002e-05, 'epoch': 0.36}\n",
      "{'loss': 26.9478, 'learning_rate': 2.8000000000000003e-05, 'epoch': 0.37}\n",
      "{'loss': 25.7552, 'learning_rate': 2.9e-05, 'epoch': 0.39}\n",
      "{'loss': 24.7384, 'learning_rate': 3e-05, 'epoch': 0.4}\n",
      "{'loss': 23.6992, 'learning_rate': 3.1e-05, 'epoch': 0.41}\n",
      "{'loss': 23.0544, 'learning_rate': 3.2000000000000005e-05, 'epoch': 0.43}\n",
      "{'loss': 19.5024, 'learning_rate': 3.3e-05, 'epoch': 0.44}\n",
      "{'loss': 18.2618, 'learning_rate': 3.4000000000000007e-05, 'epoch': 0.45}\n",
      "{'loss': 17.2714, 'learning_rate': 3.5e-05, 'epoch': 0.47}\n",
      "{'loss': 17.4493, 'learning_rate': 3.6e-05, 'epoch': 0.48}\n",
      "{'loss': 13.345, 'learning_rate': 3.7e-05, 'epoch': 0.49}\n",
      "{'loss': 12.6779, 'learning_rate': 3.8e-05, 'epoch': 0.51}\n",
      "{'loss': 11.5191, 'learning_rate': 3.9000000000000006e-05, 'epoch': 0.52}\n",
      "{'loss': 8.8871, 'learning_rate': 4e-05, 'epoch': 0.53}\n",
      "{'loss': 7.5493, 'learning_rate': 4.1e-05, 'epoch': 0.55}\n",
      "{'loss': 7.9362, 'learning_rate': 4.2e-05, 'epoch': 0.56}\n",
      "{'loss': 5.596, 'learning_rate': 4.3e-05, 'epoch': 0.57}\n",
      "{'loss': 4.8342, 'learning_rate': 4.4000000000000006e-05, 'epoch': 0.59}\n",
      "{'loss': 4.7238, 'learning_rate': 4.5e-05, 'epoch': 0.6}\n",
      "{'loss': 4.2977, 'learning_rate': 4.600000000000001e-05, 'epoch': 0.61}\n",
      "{'loss': 4.2139, 'learning_rate': 4.7e-05, 'epoch': 0.63}\n",
      "{'loss': 3.0161, 'learning_rate': 4.8e-05, 'epoch': 0.64}\n",
      "{'loss': 3.4751, 'learning_rate': 4.9e-05, 'epoch': 0.65}\n",
      "{'loss': 3.3021, 'learning_rate': 5e-05, 'epoch': 0.67}\n",
      "{'loss': 2.4228, 'learning_rate': 4.971428571428572e-05, 'epoch': 0.68}\n",
      "{'loss': 2.3656, 'learning_rate': 4.942857142857143e-05, 'epoch': 0.69}\n",
      "{'loss': 1.3536, 'learning_rate': 4.9142857142857144e-05, 'epoch': 0.71}\n",
      "{'loss': 1.2306, 'learning_rate': 4.885714285714286e-05, 'epoch': 0.72}\n",
      "{'loss': 1.1921, 'learning_rate': 4.8571428571428576e-05, 'epoch': 0.73}\n",
      "{'loss': 1.6956, 'learning_rate': 4.828571428571429e-05, 'epoch': 0.75}\n",
      "{'loss': 1.3321, 'learning_rate': 4.8e-05, 'epoch': 0.76}\n",
      "{'loss': 0.9734, 'learning_rate': 4.771428571428572e-05, 'epoch': 0.77}\n",
      "{'loss': 0.8107, 'learning_rate': 4.742857142857143e-05, 'epoch': 0.79}\n",
      "{'loss': 0.7796, 'learning_rate': 4.714285714285714e-05, 'epoch': 0.8}\n",
      "{'loss': 0.7843, 'learning_rate': 4.685714285714286e-05, 'epoch': 0.81}\n",
      "{'loss': 0.8162, 'learning_rate': 4.6571428571428575e-05, 'epoch': 0.83}\n",
      "{'loss': 0.8534, 'learning_rate': 4.628571428571429e-05, 'epoch': 0.84}\n",
      "{'loss': 0.8027, 'learning_rate': 4.600000000000001e-05, 'epoch': 0.85}\n",
      "{'loss': 0.9448, 'learning_rate': 4.5714285714285716e-05, 'epoch': 0.87}\n",
      "{'loss': 1.4369, 'learning_rate': 4.542857142857143e-05, 'epoch': 0.88}\n",
      "{'loss': 0.7309, 'learning_rate': 4.514285714285714e-05, 'epoch': 0.89}\n",
      "{'loss': 1.0628, 'learning_rate': 4.485714285714286e-05, 'epoch': 0.91}\n",
      "{'loss': 0.647, 'learning_rate': 4.4571428571428574e-05, 'epoch': 0.92}\n",
      "{'loss': 0.7066, 'learning_rate': 4.428571428571428e-05, 'epoch': 0.93}\n",
      "{'loss': 0.6983, 'learning_rate': 4.4000000000000006e-05, 'epoch': 0.95}\n",
      "{'loss': 0.7537, 'learning_rate': 4.371428571428572e-05, 'epoch': 0.96}\n",
      "{'loss': 0.6064, 'learning_rate': 4.342857142857143e-05, 'epoch': 0.97}\n",
      "{'loss': 0.6731, 'learning_rate': 4.314285714285715e-05, 'epoch': 0.99}\n",
      "{'loss': 1.0319, 'learning_rate': 4.2857142857142856e-05, 'epoch': 1.0}\n",
      "{'loss': 0.6824, 'learning_rate': 4.257142857142857e-05, 'epoch': 1.01}\n",
      "{'loss': 0.6284, 'learning_rate': 4.228571428571429e-05, 'epoch': 1.03}\n",
      "{'loss': 0.6361, 'learning_rate': 4.2e-05, 'epoch': 1.04}\n",
      "{'loss': 0.5557, 'learning_rate': 4.1714285714285714e-05, 'epoch': 1.05}\n",
      "{'loss': 0.5863, 'learning_rate': 4.1428571428571437e-05, 'epoch': 1.07}\n",
      "{'loss': 0.5509, 'learning_rate': 4.1142857142857146e-05, 'epoch': 1.08}\n",
      "{'loss': 0.4696, 'learning_rate': 4.085714285714286e-05, 'epoch': 1.09}\n",
      "{'loss': 0.4925, 'learning_rate': 4.057142857142857e-05, 'epoch': 1.11}\n",
      "{'loss': 0.5944, 'learning_rate': 4.028571428571429e-05, 'epoch': 1.12}\n",
      "{'loss': 0.5572, 'learning_rate': 4e-05, 'epoch': 1.13}\n",
      "{'loss': 0.5265, 'learning_rate': 3.971428571428571e-05, 'epoch': 1.15}\n",
      "{'loss': 0.5481, 'learning_rate': 3.942857142857143e-05, 'epoch': 1.16}\n",
      "{'loss': 0.506, 'learning_rate': 3.9142857142857145e-05, 'epoch': 1.17}\n",
      "{'loss': 0.4462, 'learning_rate': 3.885714285714286e-05, 'epoch': 1.19}\n",
      "{'loss': 0.4771, 'learning_rate': 3.857142857142858e-05, 'epoch': 1.2}\n",
      "{'loss': 0.4466, 'learning_rate': 3.8285714285714286e-05, 'epoch': 1.21}\n",
      "{'loss': 0.5262, 'learning_rate': 3.8e-05, 'epoch': 1.23}\n",
      "{'loss': 0.4922, 'learning_rate': 3.771428571428572e-05, 'epoch': 1.24}\n",
      "{'loss': 0.4425, 'learning_rate': 3.742857142857143e-05, 'epoch': 1.25}\n",
      "{'loss': 0.3965, 'learning_rate': 3.7142857142857143e-05, 'epoch': 1.27}\n",
      "{'loss': 0.4047, 'learning_rate': 3.685714285714286e-05, 'epoch': 1.28}\n",
      "{'loss': 0.4379, 'learning_rate': 3.6571428571428576e-05, 'epoch': 1.29}\n",
      "{'loss': 0.4241, 'learning_rate': 3.628571428571429e-05, 'epoch': 1.31}\n",
      "{'loss': 0.4087, 'learning_rate': 3.6e-05, 'epoch': 1.32}\n",
      "{'loss': 0.425, 'learning_rate': 3.571428571428572e-05, 'epoch': 1.33}\n",
      "{'loss': 0.4988, 'learning_rate': 3.5428571428571426e-05, 'epoch': 1.35}\n",
      "{'loss': 0.457, 'learning_rate': 3.514285714285714e-05, 'epoch': 1.36}\n",
      "{'loss': 0.3961, 'learning_rate': 3.485714285714286e-05, 'epoch': 1.37}\n",
      "{'loss': 0.8002, 'learning_rate': 3.4571428571428574e-05, 'epoch': 1.39}\n",
      "{'loss': 0.4196, 'learning_rate': 3.428571428571429e-05, 'epoch': 1.4}\n",
      "{'loss': 0.6142, 'learning_rate': 3.4000000000000007e-05, 'epoch': 1.41}\n",
      "{'loss': 0.5083, 'learning_rate': 3.3714285714285716e-05, 'epoch': 1.43}\n",
      "{'loss': 0.5787, 'learning_rate': 3.342857142857143e-05, 'epoch': 1.44}\n",
      "{'loss': 0.3899, 'learning_rate': 3.314285714285714e-05, 'epoch': 1.45}\n",
      "{'loss': 0.3627, 'learning_rate': 3.285714285714286e-05, 'epoch': 1.47}\n",
      "{'loss': 0.3606, 'learning_rate': 3.257142857142857e-05, 'epoch': 1.48}\n",
      "{'loss': 0.3901, 'learning_rate': 3.228571428571428e-05, 'epoch': 1.49}\n",
      "{'loss': 0.3463, 'learning_rate': 3.2000000000000005e-05, 'epoch': 1.51}\n",
      "{'loss': 0.3336, 'learning_rate': 3.1714285714285715e-05, 'epoch': 1.52}\n",
      "{'loss': 0.3219, 'learning_rate': 3.142857142857143e-05, 'epoch': 1.53}\n",
      "{'loss': 0.3419, 'learning_rate': 3.114285714285715e-05, 'epoch': 1.55}\n",
      "{'loss': 0.3484, 'learning_rate': 3.0857142857142856e-05, 'epoch': 1.56}\n",
      "{'loss': 0.3068, 'learning_rate': 3.057142857142857e-05, 'epoch': 1.57}\n",
      "{'loss': 0.3981, 'learning_rate': 3.0285714285714288e-05, 'epoch': 1.59}\n",
      "{'loss': 0.3192, 'learning_rate': 3e-05, 'epoch': 1.6}\n",
      " 67%|██████▋   | 1500/2250 [09:09<05:50,  2.14it/s]Saving model checkpoint to ./results/checkpoint-1500\n",
      "Configuration saved in ./results/checkpoint-1500/config.json\n",
      "Model weights saved in ./results/checkpoint-1500/pytorch_model.bin\n",
      " 89%|████████▉ | 2000/2250 [12:17<01:54,  2.19it/s]Saving model checkpoint to ./results/checkpoint-2000\n",
      "Configuration saved in ./results/checkpoint-2000/config.json\n",
      "Model weights saved in ./results/checkpoint-2000/pytorch_model.bin\n",
      "100%|██████████| 2250/2250 [13:57<00:00,  2.90it/s]\n",
      "\n",
      "Training completed. Do not forget to share your model on huggingface.co/models =)\n",
      "\n",
      "\n",
      "100%|██████████| 2250/2250 [13:57<00:00,  2.69it/s]\n",
      "{'loss': 0.2814, 'learning_rate': 2.9714285714285717e-05, 'epoch': 1.61}\n",
      "{'loss': 0.3593, 'learning_rate': 2.9428571428571426e-05, 'epoch': 1.63}\n",
      "{'loss': 0.4346, 'learning_rate': 2.9142857142857146e-05, 'epoch': 1.64}\n",
      "{'loss': 0.3303, 'learning_rate': 2.885714285714286e-05, 'epoch': 1.65}\n",
      "{'loss': 0.5906, 'learning_rate': 2.857142857142857e-05, 'epoch': 1.67}\n",
      "{'loss': 0.339, 'learning_rate': 2.8285714285714287e-05, 'epoch': 1.68}\n",
      "{'loss': 0.4664, 'learning_rate': 2.8000000000000003e-05, 'epoch': 1.69}\n",
      "{'loss': 0.39, 'learning_rate': 2.7714285714285716e-05, 'epoch': 1.71}\n",
      "{'loss': 0.4084, 'learning_rate': 2.742857142857143e-05, 'epoch': 1.72}\n",
      "{'loss': 0.3911, 'learning_rate': 2.714285714285714e-05, 'epoch': 1.73}\n",
      "{'loss': 0.5858, 'learning_rate': 2.6857142857142857e-05, 'epoch': 1.75}\n",
      "{'loss': 0.8134, 'learning_rate': 2.6571428571428576e-05, 'epoch': 1.76}\n",
      "{'loss': 0.8134, 'learning_rate': 2.6285714285714286e-05, 'epoch': 1.77}\n",
      "{'loss': 0.8151, 'learning_rate': 2.6000000000000002e-05, 'epoch': 1.79}\n",
      "{'loss': 3.1262, 'learning_rate': 2.5714285714285714e-05, 'epoch': 1.8}\n",
      "{'loss': 7.2578, 'learning_rate': 2.542857142857143e-05, 'epoch': 1.81}\n",
      "{'loss': 7.3639, 'learning_rate': 2.5142857142857147e-05, 'epoch': 1.83}\n",
      "{'loss': 6.5497, 'learning_rate': 2.485714285714286e-05, 'epoch': 1.84}\n",
      "{'loss': 3.0451, 'learning_rate': 2.4571428571428572e-05, 'epoch': 1.85}\n",
      "{'loss': 2.4348, 'learning_rate': 2.4285714285714288e-05, 'epoch': 1.87}\n",
      "{'loss': 1.5519, 'learning_rate': 2.4e-05, 'epoch': 1.88}\n",
      "{'loss': 2.7553, 'learning_rate': 2.3714285714285717e-05, 'epoch': 1.89}\n",
      "{'loss': 2.433, 'learning_rate': 2.342857142857143e-05, 'epoch': 1.91}\n",
      "{'loss': 1.8959, 'learning_rate': 2.3142857142857145e-05, 'epoch': 1.92}\n",
      "{'loss': 2.2976, 'learning_rate': 2.2857142857142858e-05, 'epoch': 1.93}\n",
      "{'loss': 2.8767, 'learning_rate': 2.257142857142857e-05, 'epoch': 1.95}\n",
      "{'loss': 2.0373, 'learning_rate': 2.2285714285714287e-05, 'epoch': 1.96}\n",
      "{'loss': 0.8141, 'learning_rate': 2.2000000000000003e-05, 'epoch': 1.97}\n",
      "{'loss': 0.8714, 'learning_rate': 2.1714285714285715e-05, 'epoch': 1.99}\n",
      "{'loss': 0.815, 'learning_rate': 2.1428571428571428e-05, 'epoch': 2.0}\n",
      "{'loss': 0.9755, 'learning_rate': 2.1142857142857144e-05, 'epoch': 2.01}\n",
      "{'loss': 1.0397, 'learning_rate': 2.0857142857142857e-05, 'epoch': 2.03}\n",
      "{'loss': 0.8261, 'learning_rate': 2.0571428571428573e-05, 'epoch': 2.04}\n",
      "{'loss': 0.484, 'learning_rate': 2.0285714285714286e-05, 'epoch': 2.05}\n",
      "{'loss': 0.3924, 'learning_rate': 2e-05, 'epoch': 2.07}\n",
      "{'loss': 0.3535, 'learning_rate': 1.9714285714285714e-05, 'epoch': 2.08}\n",
      "{'loss': 0.4613, 'learning_rate': 1.942857142857143e-05, 'epoch': 2.09}\n",
      "{'loss': 0.5026, 'learning_rate': 1.9142857142857143e-05, 'epoch': 2.11}\n",
      "{'loss': 0.645, 'learning_rate': 1.885714285714286e-05, 'epoch': 2.12}\n",
      "{'loss': 0.5418, 'learning_rate': 1.8571428571428572e-05, 'epoch': 2.13}\n",
      "{'loss': 0.7353, 'learning_rate': 1.8285714285714288e-05, 'epoch': 2.15}\n",
      "{'loss': 0.8207, 'learning_rate': 1.8e-05, 'epoch': 2.16}\n",
      "{'loss': 0.9754, 'learning_rate': 1.7714285714285713e-05, 'epoch': 2.17}\n",
      "{'loss': 1.5763, 'learning_rate': 1.742857142857143e-05, 'epoch': 2.19}\n",
      "{'loss': 1.5978, 'learning_rate': 1.7142857142857145e-05, 'epoch': 2.2}\n",
      "{'loss': 2.1658, 'learning_rate': 1.6857142857142858e-05, 'epoch': 2.21}\n",
      "{'loss': 2.8996, 'learning_rate': 1.657142857142857e-05, 'epoch': 2.23}\n",
      "{'loss': 3.9978, 'learning_rate': 1.6285714285714287e-05, 'epoch': 2.24}\n",
      "{'loss': 4.0964, 'learning_rate': 1.6000000000000003e-05, 'epoch': 2.25}\n",
      "{'loss': 4.5429, 'learning_rate': 1.5714285714285715e-05, 'epoch': 2.27}\n",
      "{'loss': 4.3282, 'learning_rate': 1.5428571428571428e-05, 'epoch': 2.28}\n",
      "{'loss': 3.6322, 'learning_rate': 1.5142857142857144e-05, 'epoch': 2.29}\n",
      "{'loss': 3.6809, 'learning_rate': 1.4857142857142858e-05, 'epoch': 2.31}\n",
      "{'loss': 3.5866, 'learning_rate': 1.4571428571428573e-05, 'epoch': 2.32}\n",
      "{'loss': 3.1858, 'learning_rate': 1.4285714285714285e-05, 'epoch': 2.33}\n",
      "{'loss': 3.6397, 'learning_rate': 1.4000000000000001e-05, 'epoch': 2.35}\n",
      "{'loss': 3.1092, 'learning_rate': 1.3714285714285716e-05, 'epoch': 2.36}\n",
      "{'loss': 3.3172, 'learning_rate': 1.3428571428571429e-05, 'epoch': 2.37}\n",
      "{'loss': 3.2281, 'learning_rate': 1.3142857142857143e-05, 'epoch': 2.39}\n",
      "{'loss': 3.1731, 'learning_rate': 1.2857142857142857e-05, 'epoch': 2.4}\n",
      "{'loss': 3.198, 'learning_rate': 1.2571428571428573e-05, 'epoch': 2.41}\n",
      "{'loss': 3.5117, 'learning_rate': 1.2285714285714286e-05, 'epoch': 2.43}\n",
      "{'loss': 3.5976, 'learning_rate': 1.2e-05, 'epoch': 2.44}\n",
      "{'loss': 3.9471, 'learning_rate': 1.1714285714285715e-05, 'epoch': 2.45}\n",
      "{'loss': 3.7327, 'learning_rate': 1.1428571428571429e-05, 'epoch': 2.47}\n",
      "{'loss': 3.7012, 'learning_rate': 1.1142857142857143e-05, 'epoch': 2.48}\n",
      "{'loss': 3.4057, 'learning_rate': 1.0857142857142858e-05, 'epoch': 2.49}\n",
      "{'loss': 3.4306, 'learning_rate': 1.0571428571428572e-05, 'epoch': 2.51}\n",
      "{'loss': 2.8595, 'learning_rate': 1.0285714285714286e-05, 'epoch': 2.52}\n",
      "{'loss': 3.4008, 'learning_rate': 1e-05, 'epoch': 2.53}\n",
      "{'loss': 2.7199, 'learning_rate': 9.714285714285715e-06, 'epoch': 2.55}\n",
      "{'loss': 2.9636, 'learning_rate': 9.42857142857143e-06, 'epoch': 2.56}\n",
      "{'loss': 2.5594, 'learning_rate': 9.142857142857144e-06, 'epoch': 2.57}\n",
      "{'loss': 2.1081, 'learning_rate': 8.857142857142857e-06, 'epoch': 2.59}\n",
      "{'loss': 1.5578, 'learning_rate': 8.571428571428573e-06, 'epoch': 2.6}\n",
      "{'loss': 2.0275, 'learning_rate': 8.285714285714285e-06, 'epoch': 2.61}\n",
      "{'loss': 2.0052, 'learning_rate': 8.000000000000001e-06, 'epoch': 2.63}\n",
      "{'loss': 1.7287, 'learning_rate': 7.714285714285714e-06, 'epoch': 2.64}\n",
      "{'loss': 1.3689, 'learning_rate': 7.428571428571429e-06, 'epoch': 2.65}\n",
      "{'loss': 1.6674, 'learning_rate': 7.142857142857143e-06, 'epoch': 2.67}\n",
      "{'loss': 1.9619, 'learning_rate': 6.857142857142858e-06, 'epoch': 2.68}\n",
      "{'loss': 1.9537, 'learning_rate': 6.5714285714285714e-06, 'epoch': 2.69}\n",
      "{'loss': 1.6142, 'learning_rate': 6.285714285714287e-06, 'epoch': 2.71}\n",
      "{'loss': 1.6946, 'learning_rate': 6e-06, 'epoch': 2.72}\n",
      "{'loss': 1.6691, 'learning_rate': 5.7142857142857145e-06, 'epoch': 2.73}\n",
      "{'loss': 1.4193, 'learning_rate': 5.428571428571429e-06, 'epoch': 2.75}\n",
      "{'loss': 1.0612, 'learning_rate': 5.142857142857143e-06, 'epoch': 2.76}\n",
      "{'loss': 0.9543, 'learning_rate': 4.857142857142858e-06, 'epoch': 2.77}\n",
      "{'loss': 0.7463, 'learning_rate': 4.571428571428572e-06, 'epoch': 2.79}\n",
      "{'loss': 0.7766, 'learning_rate': 4.285714285714286e-06, 'epoch': 2.8}\n",
      "{'loss': 0.8163, 'learning_rate': 4.000000000000001e-06, 'epoch': 2.81}\n",
      "{'loss': 0.7467, 'learning_rate': 3.7142857142857146e-06, 'epoch': 2.83}\n",
      "{'loss': 0.6062, 'learning_rate': 3.428571428571429e-06, 'epoch': 2.84}\n",
      "{'loss': 0.8687, 'learning_rate': 3.1428571428571433e-06, 'epoch': 2.85}\n",
      "{'loss': 1.0968, 'learning_rate': 2.8571428571428573e-06, 'epoch': 2.87}\n",
      "{'loss': 0.7037, 'learning_rate': 2.5714285714285716e-06, 'epoch': 2.88}\n",
      "{'loss': 0.7247, 'learning_rate': 2.285714285714286e-06, 'epoch': 2.89}\n",
      "{'loss': 0.7717, 'learning_rate': 2.0000000000000003e-06, 'epoch': 2.91}\n",
      "{'loss': 0.8161, 'learning_rate': 1.7142857142857145e-06, 'epoch': 2.92}\n",
      "{'loss': 0.865, 'learning_rate': 1.4285714285714286e-06, 'epoch': 2.93}\n",
      "{'loss': 0.6593, 'learning_rate': 1.142857142857143e-06, 'epoch': 2.95}\n",
      "{'loss': 0.7384, 'learning_rate': 8.571428571428572e-07, 'epoch': 2.96}\n",
      "{'loss': 0.6882, 'learning_rate': 5.714285714285715e-07, 'epoch': 2.97}\n",
      "{'loss': 0.6323, 'learning_rate': 2.8571428571428575e-07, 'epoch': 2.99}\n",
      "{'loss': 0.6642, 'learning_rate': 0.0, 'epoch': 3.0}\n",
      "{'train_runtime': 838.8531, 'train_samples_per_second': 10.729, 'train_steps_per_second': 2.682, 'train_loss': 7.256588554488288, 'epoch': 3.0}\n",
      "Generating '/tmp/nsys-report-56f4.qdstrm'\n",
      "[1/6] [============55%             ] report_mt5.nsys-rep^C\n"
     ]
    }
   ],
   "source": [
    "!nsys profile --trace=cuda --stats=true -o report_mt5 --force-overwrite=true python3 Mt5-fine-tuning.py --model 'model_input/model' --training_args 'model_input/training_args.pth' --train_data_path 'model_input/train_data.pkl' --val_data_path 'model_input/val_data.pkl'\n",
    "\n",
    "\n"
   ]
  },
  {
   "cell_type": "markdown",
   "id": "52f0a923-6264-416e-bdbd-8f923d33ced4",
   "metadata": {
    "execution": {
     "iopub.execute_input": "2023-07-17T07:23:35.717758Z",
     "iopub.status.busy": "2023-07-17T07:23:35.717575Z",
     "iopub.status.idle": "2023-07-17T07:23:35.730185Z",
     "shell.execute_reply": "2023-07-17T07:23:35.729756Z",
     "shell.execute_reply.started": "2023-07-17T07:23:35.717734Z"
    }
   },
   "source": [
    "## Analyze CUDA"
   ]
  },
  {
   "cell_type": "code",
   "execution_count": 18,
   "id": "8fda9076-cf58-49b8-b544-ccfc43984051",
   "metadata": {
    "execution": {
     "iopub.execute_input": "2023-07-17T18:23:50.868969Z",
     "iopub.status.busy": "2023-07-17T18:23:50.868771Z",
     "iopub.status.idle": "2023-07-17T18:23:50.876375Z",
     "shell.execute_reply": "2023-07-17T18:23:50.875912Z",
     "shell.execute_reply.started": "2023-07-17T18:23:50.868913Z"
    }
   },
   "outputs": [
    {
     "name": "stdout",
     "output_type": "stream",
     "text": [
      "[('StringIds',), ('ProcessStreams',), ('TARGET_INFO_SYSTEM_ENV',), ('TARGET_INFO_SESSION_START_TIME',), ('ANALYSIS_DETAILS',), ('PROCESSES',), ('PROFILER_OVERHEAD',), ('CUPTI_ACTIVITY_KIND_RUNTIME',), ('CUPTI_ACTIVITY_KIND_MEMCPY',), ('CUPTI_ACTIVITY_KIND_SYNCHRONIZATION',), ('CUPTI_ACTIVITY_KIND_KERNEL',), ('CUPTI_ACTIVITY_KIND_MEMSET',), ('ThreadNames',), ('TARGET_INFO_GPU',), ('TARGET_INFO_CUDA_NULL_STREAM',), ('TARGET_INFO_CUDA_STREAM',), ('EXPORT_META_DATA',)]\n"
     ]
    }
   ],
   "source": [
    "#Importing files\n",
    "\n",
    "# Connecting the output sql file rom nsys\n",
    "conn = sqlite3.connect('report_mt5.sqlite')\n",
    "cursor = conn.cursor()\n",
    "cursor.execute(\"SELECT name FROM sqlite_master WHERE type='table';\")\n",
    "print(cursor.fetchall())"
   ]
  },
  {
   "cell_type": "code",
   "execution_count": 19,
   "id": "3e0968d8-9cc9-43ca-a795-fcb5affd0039",
   "metadata": {
    "execution": {
     "iopub.execute_input": "2023-07-17T18:24:08.856582Z",
     "iopub.status.busy": "2023-07-17T18:24:08.855965Z",
     "iopub.status.idle": "2023-07-17T18:24:08.865937Z",
     "shell.execute_reply": "2023-07-17T18:24:08.865281Z",
     "shell.execute_reply.started": "2023-07-17T18:24:08.856550Z"
    }
   },
   "outputs": [
    {
     "name": "stdout",
     "output_type": "stream",
     "text": [
      "[(281474976710656, 0, 'NVIDIA RTX A6000', '0000:00:05.0', 1, 6291456, 51041271808, 768096000000, 1800000000, 84, 0, '082f4df2-ec32-4027-334d-5914b2d3d62e', 0, 'GA102', 0, '', '', 161, 0, 65536, 4, 65536, 49152, 101376, 102400, 65536, 32, 2, 48, 16, 1024, 1024, 1024, 64, 2147483647, 65535, 65535, 8, 6, 8, 6)]\n"
     ]
    }
   ],
   "source": [
    "import sqlite3\n",
    "\n",
    "def query_db(query):\n",
    "    conn = sqlite3.connect('report_mt5.sqlite')\n",
    "    cursor = conn.execute(query)\n",
    "    result = cursor.fetchall()\n",
    "    conn.close()\n",
    "    return result\n",
    "\n",
    "# Query GPU details\n",
    "print(query_db(\"SELECT * FROM TARGET_INFO_GPU;\"))\n",
    "\n",
    "# Query Kernel execution details\n",
    "#print(query_db(\"SELECT * FROM CUPTI_ACTIVITY_KIND_KERNEL;\"))\n",
    "\n",
    "# Query Memory copy/set operations details\n",
    "#print(query_db(\"SELECT * FROM CUPTI_ACTIVITY_KIND_MEMCPY;\"))\n",
    "#print(query_db(\"SELECT * FROM CUPTI_ACTIVITY_KIND_MEMSET;\"))\n"
   ]
  },
  {
   "cell_type": "code",
   "execution_count": null,
   "id": "6a2bc367-dfad-4275-b1be-a61c1ef39f5c",
   "metadata": {},
   "outputs": [],
   "source": []
  },
  {
   "cell_type": "code",
   "execution_count": 20,
   "id": "58bfb0b5-8489-4b78-bd03-fe7d17393fa9",
   "metadata": {
    "execution": {
     "iopub.execute_input": "2023-07-17T18:24:12.687117Z",
     "iopub.status.busy": "2023-07-17T18:24:12.686477Z",
     "iopub.status.idle": "2023-07-17T18:24:16.702484Z",
     "shell.execute_reply": "2023-07-17T18:24:16.701776Z",
     "shell.execute_reply.started": "2023-07-17T18:24:12.687092Z"
    }
   },
   "outputs": [],
   "source": [
    "# Connect to the SQLite database\n",
    "conn = sqlite3.connect('report_mt5.sqlite')\n",
    "\n",
    "# Run the query and load the results into a pandas DataFrame\n",
    "query = \"SELECT * FROM CUPTI_ACTIVITY_KIND_KERNEL\"\n",
    "df_kernel_data = pd.read_sql_query(query, conn)\n",
    "\n",
    "# Close the connection\n",
    "conn.close()\n",
    "\n"
   ]
  },
  {
   "cell_type": "code",
   "execution_count": null,
   "id": "0f040ef9-a6b2-441f-8a99-42a1b9f8d968",
   "metadata": {
    "execution": {
     "iopub.execute_input": "2023-07-17T18:23:34.919103Z",
     "iopub.status.busy": "2023-07-17T18:23:34.918894Z",
     "iopub.status.idle": "2023-07-17T18:23:35.071888Z"
    }
   },
   "outputs": [
    {
     "data": {
      "text/html": [
       "<div>\n",
       "<style scoped>\n",
       "    .dataframe tbody tr th:only-of-type {\n",
       "        vertical-align: middle;\n",
       "    }\n",
       "\n",
       "    .dataframe tbody tr th {\n",
       "        vertical-align: top;\n",
       "    }\n",
       "\n",
       "    .dataframe thead th {\n",
       "        text-align: right;\n",
       "    }\n",
       "</style>\n",
       "<table border=\"1\" class=\"dataframe\">\n",
       "  <thead>\n",
       "    <tr style=\"text-align: right;\">\n",
       "      <th></th>\n",
       "      <th>start</th>\n",
       "      <th>end</th>\n",
       "      <th>deviceId</th>\n",
       "      <th>contextId</th>\n",
       "      <th>streamId</th>\n",
       "      <th>correlationId</th>\n",
       "      <th>globalPid</th>\n",
       "      <th>demangledName</th>\n",
       "      <th>shortName</th>\n",
       "      <th>mangledName</th>\n",
       "      <th>...</th>\n",
       "      <th>blockY</th>\n",
       "      <th>blockZ</th>\n",
       "      <th>staticSharedMemory</th>\n",
       "      <th>dynamicSharedMemory</th>\n",
       "      <th>localMemoryPerThread</th>\n",
       "      <th>localMemoryTotal</th>\n",
       "      <th>gridId</th>\n",
       "      <th>sharedMemoryExecuted</th>\n",
       "      <th>graphNodeId</th>\n",
       "      <th>sharedMemoryLimitConfig</th>\n",
       "    </tr>\n",
       "  </thead>\n",
       "  <tbody>\n",
       "    <tr>\n",
       "      <th>0</th>\n",
       "      <td>14653005663</td>\n",
       "      <td>14653024765</td>\n",
       "      <td>0</td>\n",
       "      <td>1</td>\n",
       "      <td>7</td>\n",
       "      <td>3680</td>\n",
       "      <td>281489807769600</td>\n",
       "      <td>67</td>\n",
       "      <td>68</td>\n",
       "      <td>56</td>\n",
       "      <td>...</td>\n",
       "      <td>1</td>\n",
       "      <td>1</td>\n",
       "      <td>0</td>\n",
       "      <td>0</td>\n",
       "      <td>0</td>\n",
       "      <td>121110528</td>\n",
       "      <td>1</td>\n",
       "      <td>16384</td>\n",
       "      <td>None</td>\n",
       "      <td>0</td>\n",
       "    </tr>\n",
       "    <tr>\n",
       "      <th>1</th>\n",
       "      <td>14653276249</td>\n",
       "      <td>14653280824</td>\n",
       "      <td>0</td>\n",
       "      <td>1</td>\n",
       "      <td>7</td>\n",
       "      <td>3692</td>\n",
       "      <td>281489807769600</td>\n",
       "      <td>70</td>\n",
       "      <td>71</td>\n",
       "      <td>57</td>\n",
       "      <td>...</td>\n",
       "      <td>1</td>\n",
       "      <td>1</td>\n",
       "      <td>0</td>\n",
       "      <td>0</td>\n",
       "      <td>0</td>\n",
       "      <td>121110528</td>\n",
       "      <td>2</td>\n",
       "      <td>16384</td>\n",
       "      <td>None</td>\n",
       "      <td>0</td>\n",
       "    </tr>\n",
       "    <tr>\n",
       "      <th>2</th>\n",
       "      <td>14653423909</td>\n",
       "      <td>14653426244</td>\n",
       "      <td>0</td>\n",
       "      <td>1</td>\n",
       "      <td>7</td>\n",
       "      <td>3701</td>\n",
       "      <td>281489807769600</td>\n",
       "      <td>72</td>\n",
       "      <td>73</td>\n",
       "      <td>58</td>\n",
       "      <td>...</td>\n",
       "      <td>1</td>\n",
       "      <td>1</td>\n",
       "      <td>0</td>\n",
       "      <td>0</td>\n",
       "      <td>0</td>\n",
       "      <td>121110528</td>\n",
       "      <td>3</td>\n",
       "      <td>16384</td>\n",
       "      <td>None</td>\n",
       "      <td>0</td>\n",
       "    </tr>\n",
       "    <tr>\n",
       "      <th>3</th>\n",
       "      <td>14653509721</td>\n",
       "      <td>14653512216</td>\n",
       "      <td>0</td>\n",
       "      <td>1</td>\n",
       "      <td>7</td>\n",
       "      <td>3709</td>\n",
       "      <td>281489807769600</td>\n",
       "      <td>74</td>\n",
       "      <td>73</td>\n",
       "      <td>59</td>\n",
       "      <td>...</td>\n",
       "      <td>1</td>\n",
       "      <td>1</td>\n",
       "      <td>0</td>\n",
       "      <td>0</td>\n",
       "      <td>0</td>\n",
       "      <td>121110528</td>\n",
       "      <td>4</td>\n",
       "      <td>16384</td>\n",
       "      <td>None</td>\n",
       "      <td>0</td>\n",
       "    </tr>\n",
       "    <tr>\n",
       "      <th>4</th>\n",
       "      <td>14653721787</td>\n",
       "      <td>14653745240</td>\n",
       "      <td>0</td>\n",
       "      <td>1</td>\n",
       "      <td>7</td>\n",
       "      <td>3731</td>\n",
       "      <td>281489807769600</td>\n",
       "      <td>75</td>\n",
       "      <td>76</td>\n",
       "      <td>60</td>\n",
       "      <td>...</td>\n",
       "      <td>1</td>\n",
       "      <td>1</td>\n",
       "      <td>0</td>\n",
       "      <td>0</td>\n",
       "      <td>0</td>\n",
       "      <td>121110528</td>\n",
       "      <td>5</td>\n",
       "      <td>8192</td>\n",
       "      <td>None</td>\n",
       "      <td>0</td>\n",
       "    </tr>\n",
       "    <tr>\n",
       "      <th>...</th>\n",
       "      <td>...</td>\n",
       "      <td>...</td>\n",
       "      <td>...</td>\n",
       "      <td>...</td>\n",
       "      <td>...</td>\n",
       "      <td>...</td>\n",
       "      <td>...</td>\n",
       "      <td>...</td>\n",
       "      <td>...</td>\n",
       "      <td>...</td>\n",
       "      <td>...</td>\n",
       "      <td>...</td>\n",
       "      <td>...</td>\n",
       "      <td>...</td>\n",
       "      <td>...</td>\n",
       "      <td>...</td>\n",
       "      <td>...</td>\n",
       "      <td>...</td>\n",
       "      <td>...</td>\n",
       "      <td>...</td>\n",
       "      <td>...</td>\n",
       "    </tr>\n",
       "    <tr>\n",
       "      <th>521391</th>\n",
       "      <td>41566418470</td>\n",
       "      <td>41566429445</td>\n",
       "      <td>0</td>\n",
       "      <td>1</td>\n",
       "      <td>7</td>\n",
       "      <td>5107211</td>\n",
       "      <td>281489807769600</td>\n",
       "      <td>170</td>\n",
       "      <td>73</td>\n",
       "      <td>114</td>\n",
       "      <td>...</td>\n",
       "      <td>1</td>\n",
       "      <td>1</td>\n",
       "      <td>0</td>\n",
       "      <td>0</td>\n",
       "      <td>0</td>\n",
       "      <td>121110528</td>\n",
       "      <td>527392</td>\n",
       "      <td>16384</td>\n",
       "      <td>None</td>\n",
       "      <td>0</td>\n",
       "    </tr>\n",
       "    <tr>\n",
       "      <th>521392</th>\n",
       "      <td>41566430181</td>\n",
       "      <td>41566440932</td>\n",
       "      <td>0</td>\n",
       "      <td>1</td>\n",
       "      <td>7</td>\n",
       "      <td>5107218</td>\n",
       "      <td>281489807769600</td>\n",
       "      <td>170</td>\n",
       "      <td>73</td>\n",
       "      <td>114</td>\n",
       "      <td>...</td>\n",
       "      <td>1</td>\n",
       "      <td>1</td>\n",
       "      <td>0</td>\n",
       "      <td>0</td>\n",
       "      <td>0</td>\n",
       "      <td>121110528</td>\n",
       "      <td>527393</td>\n",
       "      <td>16384</td>\n",
       "      <td>None</td>\n",
       "      <td>0</td>\n",
       "    </tr>\n",
       "    <tr>\n",
       "      <th>521393</th>\n",
       "      <td>41566441603</td>\n",
       "      <td>41566443875</td>\n",
       "      <td>0</td>\n",
       "      <td>1</td>\n",
       "      <td>7</td>\n",
       "      <td>5107225</td>\n",
       "      <td>281489807769600</td>\n",
       "      <td>170</td>\n",
       "      <td>73</td>\n",
       "      <td>114</td>\n",
       "      <td>...</td>\n",
       "      <td>1</td>\n",
       "      <td>1</td>\n",
       "      <td>0</td>\n",
       "      <td>0</td>\n",
       "      <td>0</td>\n",
       "      <td>121110528</td>\n",
       "      <td>527394</td>\n",
       "      <td>16384</td>\n",
       "      <td>None</td>\n",
       "      <td>0</td>\n",
       "    </tr>\n",
       "    <tr>\n",
       "      <th>521394</th>\n",
       "      <td>41566444515</td>\n",
       "      <td>41566446594</td>\n",
       "      <td>0</td>\n",
       "      <td>1</td>\n",
       "      <td>7</td>\n",
       "      <td>5107232</td>\n",
       "      <td>281489807769600</td>\n",
       "      <td>170</td>\n",
       "      <td>73</td>\n",
       "      <td>114</td>\n",
       "      <td>...</td>\n",
       "      <td>1</td>\n",
       "      <td>1</td>\n",
       "      <td>0</td>\n",
       "      <td>0</td>\n",
       "      <td>0</td>\n",
       "      <td>121110528</td>\n",
       "      <td>527395</td>\n",
       "      <td>16384</td>\n",
       "      <td>None</td>\n",
       "      <td>0</td>\n",
       "    </tr>\n",
       "    <tr>\n",
       "      <th>521395</th>\n",
       "      <td>41566447299</td>\n",
       "      <td>41567523244</td>\n",
       "      <td>0</td>\n",
       "      <td>1</td>\n",
       "      <td>7</td>\n",
       "      <td>5107239</td>\n",
       "      <td>281489807769600</td>\n",
       "      <td>170</td>\n",
       "      <td>73</td>\n",
       "      <td>114</td>\n",
       "      <td>...</td>\n",
       "      <td>1</td>\n",
       "      <td>1</td>\n",
       "      <td>0</td>\n",
       "      <td>0</td>\n",
       "      <td>0</td>\n",
       "      <td>121110528</td>\n",
       "      <td>527396</td>\n",
       "      <td>16384</td>\n",
       "      <td>None</td>\n",
       "      <td>0</td>\n",
       "    </tr>\n",
       "  </tbody>\n",
       "</table>\n",
       "<p>521396 rows × 27 columns</p>\n",
       "</div>"
      ],
      "text/plain": [
       "              start          end  deviceId  contextId  streamId  \\\n",
       "0       14653005663  14653024765         0          1         7   \n",
       "1       14653276249  14653280824         0          1         7   \n",
       "2       14653423909  14653426244         0          1         7   \n",
       "3       14653509721  14653512216         0          1         7   \n",
       "4       14653721787  14653745240         0          1         7   \n",
       "...             ...          ...       ...        ...       ...   \n",
       "521391  41566418470  41566429445         0          1         7   \n",
       "521392  41566430181  41566440932         0          1         7   \n",
       "521393  41566441603  41566443875         0          1         7   \n",
       "521394  41566444515  41566446594         0          1         7   \n",
       "521395  41566447299  41567523244         0          1         7   \n",
       "\n",
       "        correlationId        globalPid  demangledName  shortName  mangledName  \\\n",
       "0                3680  281489807769600             67         68           56   \n",
       "1                3692  281489807769600             70         71           57   \n",
       "2                3701  281489807769600             72         73           58   \n",
       "3                3709  281489807769600             74         73           59   \n",
       "4                3731  281489807769600             75         76           60   \n",
       "...               ...              ...            ...        ...          ...   \n",
       "521391        5107211  281489807769600            170         73          114   \n",
       "521392        5107218  281489807769600            170         73          114   \n",
       "521393        5107225  281489807769600            170         73          114   \n",
       "521394        5107232  281489807769600            170         73          114   \n",
       "521395        5107239  281489807769600            170         73          114   \n",
       "\n",
       "        ...  blockY  blockZ  staticSharedMemory  dynamicSharedMemory  \\\n",
       "0       ...       1       1                   0                    0   \n",
       "1       ...       1       1                   0                    0   \n",
       "2       ...       1       1                   0                    0   \n",
       "3       ...       1       1                   0                    0   \n",
       "4       ...       1       1                   0                    0   \n",
       "...     ...     ...     ...                 ...                  ...   \n",
       "521391  ...       1       1                   0                    0   \n",
       "521392  ...       1       1                   0                    0   \n",
       "521393  ...       1       1                   0                    0   \n",
       "521394  ...       1       1                   0                    0   \n",
       "521395  ...       1       1                   0                    0   \n",
       "\n",
       "        localMemoryPerThread  localMemoryTotal  gridId  sharedMemoryExecuted  \\\n",
       "0                          0         121110528       1                 16384   \n",
       "1                          0         121110528       2                 16384   \n",
       "2                          0         121110528       3                 16384   \n",
       "3                          0         121110528       4                 16384   \n",
       "4                          0         121110528       5                  8192   \n",
       "...                      ...               ...     ...                   ...   \n",
       "521391                     0         121110528  527392                 16384   \n",
       "521392                     0         121110528  527393                 16384   \n",
       "521393                     0         121110528  527394                 16384   \n",
       "521394                     0         121110528  527395                 16384   \n",
       "521395                     0         121110528  527396                 16384   \n",
       "\n",
       "        graphNodeId  sharedMemoryLimitConfig  \n",
       "0              None                        0  \n",
       "1              None                        0  \n",
       "2              None                        0  \n",
       "3              None                        0  \n",
       "4              None                        0  \n",
       "...             ...                      ...  \n",
       "521391         None                        0  \n",
       "521392         None                        0  \n",
       "521393         None                        0  \n",
       "521394         None                        0  \n",
       "521395         None                        0  \n",
       "\n",
       "[521396 rows x 27 columns]"
      ]
     },
     "execution_count": 15,
     "metadata": {},
     "output_type": "execute_result"
    }
   ],
   "source": [
    "df_kernel_data"
   ]
  },
  {
   "cell_type": "code",
   "execution_count": 21,
   "id": "affcba4d-569d-4ce9-afa8-86cf6ae6c054",
   "metadata": {
    "execution": {
     "iopub.execute_input": "2023-07-17T18:26:12.577454Z",
     "iopub.status.busy": "2023-07-17T18:26:12.576758Z",
     "iopub.status.idle": "2023-07-17T18:26:26.618586Z",
     "shell.execute_reply": "2023-07-17T18:26:26.618051Z",
     "shell.execute_reply.started": "2023-07-17T18:26:12.577422Z"
    }
   },
   "outputs": [
    {
     "data": {
      "image/png": "[encoded data removed]",
      "text/plain": [
       "<Figure size 1000x600 with 1 Axes>"
      ]
     },
     "metadata": {},
     "output_type": "display_data"
    },
    {
     "data": {
      "image/png": "[encoded data removed]",
      "text/plain": [
       "<Figure size 1000x600 with 1 Axes>"
      ]
     },
     "metadata": {},
     "output_type": "display_data"
    },
    {
     "data": {
      "image/png": "[encoded data removed]",
      "text/plain": [
       "<Figure size 1000x600 with 1 Axes>"
      ]
     },
     "metadata": {},
     "output_type": "display_data"
    },
    {
     "data": {
      "image/png": "[encoded data removed]",
      "text/plain": [
       "<Figure size 1000x600 with 1 Axes>"
      ]
     },
     "metadata": {},
     "output_type": "display_data"
    }
   ],
   "source": [
    "import matplotlib.pyplot as plt\n",
    "\n",
    "# Calculate the execution time for each kernel in microseconds\n",
    "df_kernel_data['execution_time_us'] = df_kernel_data['end'] - df_kernel_data['start']\n",
    "\n",
    "# Define a function to create a histogram\n",
    "def plot_histogram(data, title, xlabel, ylabel, bins='auto'):\n",
    "    plt.figure(figsize=(10,6))\n",
    "    plt.hist(data, bins=bins, edgecolor='black')\n",
    "    plt.title(title)\n",
    "    plt.xlabel(xlabel)\n",
    "    plt.ylabel(ylabel)\n",
    "    plt.grid(True)\n",
    "    plt.show()\n",
    "\n",
    "# Plot a histogram of the kernel execution times\n",
    "plot_histogram(df_kernel_data['execution_time_us'], \n",
    "               'Histogram of Kernel Execution Time', \n",
    "               'Execution Time (us)', \n",
    "               'Frequency')\n",
    "\n",
    "\n",
    "# Analyzing block size\n",
    "block_columns = ['blockX', 'blockY', 'blockZ']\n",
    "for col in block_columns:\n",
    "    plot_histogram(df_kernel_data[col], \n",
    "                   f'Histogram of {col}', \n",
    "                   'Block Size', \n",
    "                   'Frequency')\n"
   ]
  },
  {
   "cell_type": "code",
   "execution_count": null,
   "id": "3c6f2cf9-4fda-4e88-8c33-9899150878c2",
   "metadata": {
    "execution": {
     "iopub.execute_input": "2023-07-17T18:23:48.703423Z",
     "iopub.status.busy": "2023-07-17T18:23:48.702491Z",
     "iopub.status.idle": "2023-07-17T18:23:50.864447Z"
    }
   },
   "outputs": [],
   "source": [
    "df_kernel_data.to_csv('kernel_activity.csv', index=False)\n"
   ]
  }
 ],
 "metadata": {
  "kernelspec": {
   "display_name": "Python 3 (ipykernel)",
   "language": "python",
   "name": "python3"
  },
  "language_info": {
   "codemirror_mode": {
    "name": "ipython",
    "version": 3
   },
   "file_extension": ".py",
   "mimetype": "text/x-python",
   "name": "python",
   "nbconvert_exporter": "python",
   "pygments_lexer": "ipython3",
   "version": "3.9.16"
  }
 },
 "nbformat": 4,
 "nbformat_minor": 5
}
