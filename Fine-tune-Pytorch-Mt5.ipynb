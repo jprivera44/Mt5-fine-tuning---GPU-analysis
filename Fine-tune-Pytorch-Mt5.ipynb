{
 "cells": [
  {
   "cell_type": "code",
   "execution_count": 1,
   "id": "360ef5c5-b207-4afa-888f-0bbfcf904c47",
   "metadata": {
    "execution": {
     "iopub.execute_input": "2023-07-17T07:29:52.148575Z",
     "iopub.status.busy": "2023-07-17T07:29:52.148088Z",
     "iopub.status.idle": "2023-07-17T07:29:52.396069Z",
     "shell.execute_reply": "2023-07-17T07:29:52.395504Z",
     "shell.execute_reply.started": "2023-07-17T07:29:52.148554Z"
    }
   },
   "outputs": [],
   "source": [
    "#steps\n",
    "import sqlite3\n",
    "import pandas as pd\n",
    "\n",
    "# Import large Mt5 model\n",
    "# bring in dataset\n",
    "# Fine tune\n",
    "# Evaluate"
   ]
  },
  {
   "cell_type": "markdown",
   "id": "f75d9c96-64c4-4be2-aed6-c1a5b635d2b5",
   "metadata": {},
   "source": [
    "## Data Conversion"
   ]
  },
  {
   "cell_type": "code",
   "execution_count": 2,
   "id": "99c06b9a-5d1e-439e-a47d-71ea3e04eba5",
   "metadata": {
    "execution": {
     "iopub.execute_input": "2023-07-17T07:29:52.397306Z",
     "iopub.status.busy": "2023-07-17T07:29:52.397068Z",
     "iopub.status.idle": "2023-07-17T07:30:01.912647Z",
     "shell.execute_reply": "2023-07-17T07:30:01.912040Z",
     "shell.execute_reply.started": "2023-07-17T07:29:52.397287Z"
    }
   },
   "outputs": [
    {
     "name": "stderr",
     "output_type": "stream",
     "text": [
      "Reusing dataset squad_es (/root/.cache/huggingface/datasets/squad_es/v1.1.0/1.1.0/bcada4f600192451443b95e24f609325705c5185b8aad97bffa8bc3784a867ad)\n"
     ]
    },
    {
     "data": {
      "application/vnd.jupyter.widget-view+json": {
       "model_id": "ae7dd224ea264436a8a81d01d46e6682",
       "version_major": 2,
       "version_minor": 0
      },
      "text/plain": [
       "  0%|          | 0/2 [00:00<?, ?it/s]"
      ]
     },
     "metadata": {},
     "output_type": "display_data"
    },
    {
     "name": "stderr",
     "output_type": "stream",
     "text": [
      "/usr/local/lib/python3.9/dist-packages/transformers/convert_slow_tokenizer.py:434: UserWarning: The sentencepiece tokenizer that you are converting to a fast tokenizer uses the byte fallback option which is not implemented in the fast tokenizers. In practice this means that the fast version of the tokenizer can produce unknown tokens whereas the sentencepiece version would have converted these unknown tokens into a sequence of byte tokens matching the original piece of text.\n",
      "  warnings.warn(\n"
     ]
    }
   ],
   "source": [
    "##Bring in dataset\n",
    "\n",
    "from datasets import load_dataset\n",
    "\n",
    "from transformers import MT5ForConditionalGeneration, Trainer, TrainingArguments\n",
    "\n",
    "dataset = load_dataset(\"squad_es\",'v1.1.0')\n",
    "\n",
    "# Step 1 and 2: Combine context and question, format the answer\n",
    "from transformers import T5TokenizerFast\n",
    "\n",
    "# Load the tokenizer\n",
    "tokenizer = T5TokenizerFast.from_pretrained('google/mt5-base')"
   ]
  },
  {
   "cell_type": "code",
   "execution_count": 3,
   "id": "61fb5acb-0525-4188-a5fe-831a2cb79ccc",
   "metadata": {
    "execution": {
     "iopub.execute_input": "2023-07-17T07:30:01.913809Z",
     "iopub.status.busy": "2023-07-17T07:30:01.913424Z",
     "iopub.status.idle": "2023-07-17T07:30:02.851906Z",
     "shell.execute_reply": "2023-07-17T07:30:02.851405Z",
     "shell.execute_reply.started": "2023-07-17T07:30:01.913789Z"
    }
   },
   "outputs": [
    {
     "data": {
      "text/plain": [
       "'Santa Bernadette Soubirous'"
      ]
     },
     "execution_count": 3,
     "metadata": {},
     "output_type": "execute_result"
    }
   ],
   "source": [
    "dataset['train']['answers'][0]['text'][0]"
   ]
  },
  {
   "cell_type": "code",
   "execution_count": 4,
   "id": "094a6a02-7272-42cd-bb16-10c5f4c38f88",
   "metadata": {
    "execution": {
     "iopub.execute_input": "2023-07-17T07:30:02.853564Z",
     "iopub.status.busy": "2023-07-17T07:30:02.853199Z",
     "iopub.status.idle": "2023-07-17T07:30:04.297841Z",
     "shell.execute_reply": "2023-07-17T07:30:04.297105Z",
     "shell.execute_reply.started": "2023-07-17T07:30:02.853547Z"
    }
   },
   "outputs": [],
   "source": [
    "\n",
    "# Step 1 and 2: Combine context and question, format the answer\n",
    "from transformers import T5TokenizerFast\n",
    "\n",
    "# Load the tokenizer\n",
    "tokenizer = T5TokenizerFast.from_pretrained('google/mt5-base')\n",
    "\n",
    "\n",
    "def prep_data(train_subset):\n",
    "\n",
    "    # Create new lists for our inputs and answers\n",
    "    input_ids = []\n",
    "    input_attn_msk = []\n",
    "    answers_ids = []\n",
    "\n",
    "    for id_value, title_value, context_value, q_value, a_value in zip(train_subset['id'], train_subset['title'], train_subset['context'],train_subset['question'],train_subset['answers']):\n",
    "\n",
    "        #INPUTS\n",
    "        # Combine the context and question into a single string\n",
    "        input_str = context_value + \" \" + q_value\n",
    "        #print(input_str)\n",
    "\n",
    "        #tokenize the inputs\n",
    "        inputs = tokenizer(input_str, truncation=True, padding='max_length', max_length=512)\n",
    "        #print(inputs.input_ids)\n",
    "        input_ids.append(inputs.input_ids)\n",
    "        input_attn_msk.append(inputs.attention_mask)\n",
    "\n",
    "\n",
    "        #ANSWERS\n",
    "        answers = a_value['text'][0]\n",
    "        answers_tokens = tokenizer(answers, truncation=True, padding='max_length', max_length=128)\n",
    "        answers_ids.append(answers_tokens.input_ids)\n",
    "\n",
    "\n",
    "    result_list = []\n",
    "\n",
    "\n",
    "    # Iterate over the values from each list\n",
    "    for input_id, attention_mask, label  in zip(input_ids, input_attn_msk, answers_ids):\n",
    "        # Create a dictionary with the desired keys\n",
    "        data_dict = {\n",
    "            'input_ids': torch.tensor(input_id),\n",
    "            'attention_mask': torch.tensor(attention_mask),\n",
    "            'labels': torch.tensor(label)\n",
    "\n",
    "        }\n",
    "\n",
    "        # Append the dictionary to the result list\n",
    "        result_list.append(data_dict)\n",
    "\n",
    "    return(result_list)\n",
    "\n",
    "\n",
    "    \n"
   ]
  },
  {
   "cell_type": "code",
   "execution_count": 5,
   "id": "f7c27194-b09d-4733-ae89-7758756ce27f",
   "metadata": {
    "execution": {
     "iopub.execute_input": "2023-07-17T07:30:04.300378Z",
     "iopub.status.busy": "2023-07-17T07:30:04.300230Z",
     "iopub.status.idle": "2023-07-17T07:30:04.379968Z",
     "shell.execute_reply": "2023-07-17T07:30:04.379342Z",
     "shell.execute_reply.started": "2023-07-17T07:30:04.300362Z"
    }
   },
   "outputs": [],
   "source": [
    "import torch\n",
    "# Start with a subset of your data for testing\n",
    "train_subset = dataset['train'][:100]  # Adjust this as needed\n",
    "\n",
    "model_train_data = prep_data(train_subset)\n",
    "\n",
    "\n",
    "# Start with a subset of your data for testing\n",
    "val_subset = dataset['validation'][:10]  # Adjust this as needed\n",
    "\n",
    "model_val_data = prep_data(val_subset)\n",
    "          \n",
    "          "
   ]
  },
  {
   "cell_type": "markdown",
   "id": "1f65aea7-c5fc-406a-99e3-7c81f75492a8",
   "metadata": {},
   "source": [
    "## Data ready test"
   ]
  },
  {
   "cell_type": "code",
   "execution_count": 6,
   "id": "243cc01a-bef7-40c6-bc18-dccfc03fd5e8",
   "metadata": {
    "execution": {
     "iopub.execute_input": "2023-07-17T07:30:04.382395Z",
     "iopub.status.busy": "2023-07-17T07:30:04.382252Z",
     "iopub.status.idle": "2023-07-17T07:30:04.386317Z",
     "shell.execute_reply": "2023-07-17T07:30:04.385643Z",
     "shell.execute_reply.started": "2023-07-17T07:30:04.382380Z"
    }
   },
   "outputs": [
    {
     "name": "stdout",
     "output_type": "stream",
     "text": [
      "Your dataset appears to be correctly structured for Trainer.\n"
     ]
    }
   ],
   "source": [
    "# replace 'train_dataset' with your dataset variable\n",
    "sample = model_train_data[0]\n",
    "\n",
    "assert isinstance(sample, dict), \"Each item in dataset must be a dictionary\"\n",
    "assert 'input_ids' in sample, \"input_ids must be in the dataset\"\n",
    "assert 'attention_mask' in sample, \"attention_mask must be in the dataset\"\n",
    "assert 'labels' in sample, \"labels must be in the dataset\"\n",
    "\n",
    "print(\"Your dataset appears to be correctly structured for Trainer.\")\n"
   ]
  },
  {
   "cell_type": "code",
   "execution_count": 7,
   "id": "1628ea9a-ace1-4609-a954-ffefdb2de12e",
   "metadata": {
    "execution": {
     "iopub.execute_input": "2023-07-17T07:30:04.389953Z",
     "iopub.status.busy": "2023-07-17T07:30:04.389422Z",
     "iopub.status.idle": "2023-07-17T07:30:04.393479Z",
     "shell.execute_reply": "2023-07-17T07:30:04.392770Z",
     "shell.execute_reply.started": "2023-07-17T07:30:04.389940Z"
    }
   },
   "outputs": [
    {
     "name": "stdout",
     "output_type": "stream",
     "text": [
      "Your dataset appears to be correctly structured for Trainer.\n"
     ]
    }
   ],
   "source": [
    "# replace 'train_dataset' with your dataset variable\n",
    "sample = model_val_data[0]\n",
    "\n",
    "assert isinstance(sample, dict), \"Each item in dataset must be a dictionary\"\n",
    "assert 'input_ids' in sample, \"input_ids must be in the dataset\"\n",
    "assert 'attention_mask' in sample, \"attention_mask must be in the dataset\"\n",
    "assert 'labels' in sample, \"labels must be in the dataset\"\n",
    "\n",
    "print(\"Your dataset appears to be correctly structured for Trainer.\")\n"
   ]
  },
  {
   "cell_type": "code",
   "execution_count": 8,
   "id": "5dc3b1ce-6b19-4b5d-86b2-231153552e14",
   "metadata": {
    "execution": {
     "iopub.execute_input": "2023-07-17T07:30:04.395639Z",
     "iopub.status.busy": "2023-07-17T07:30:04.395503Z",
     "iopub.status.idle": "2023-07-17T07:30:04.399638Z",
     "shell.execute_reply": "2023-07-17T07:30:04.398947Z",
     "shell.execute_reply.started": "2023-07-17T07:30:04.395625Z"
    }
   },
   "outputs": [
    {
     "name": "stdout",
     "output_type": "stream",
     "text": [
      "torch.Size([512])\n",
      "torch.Size([512])\n",
      "torch.Size([128])\n"
     ]
    }
   ],
   "source": [
    "print(model_val_data[0]['input_ids'].shape)\n",
    "print(model_val_data[0]['attention_mask'].shape)\n",
    "print(model_val_data[0]['labels'].shape)\n",
    "                        "
   ]
  },
  {
   "cell_type": "code",
   "execution_count": null,
   "id": "4f261f6d-2d1a-452b-9ccf-c46b7eeb67ee",
   "metadata": {},
   "outputs": [],
   "source": []
  },
  {
   "cell_type": "markdown",
   "id": "3d9f781b-e08d-4151-b3a1-bda9cd7f04f4",
   "metadata": {},
   "source": [
    "## Fine Tuning"
   ]
  },
  {
   "cell_type": "code",
   "execution_count": 9,
   "id": "c8231375-e644-444d-94b6-d00528777b99",
   "metadata": {
    "execution": {
     "iopub.execute_input": "2023-07-17T07:30:04.401585Z",
     "iopub.status.busy": "2023-07-17T07:30:04.401447Z",
     "iopub.status.idle": "2023-07-17T07:30:39.012311Z",
     "shell.execute_reply": "2023-07-17T07:30:39.011842Z",
     "shell.execute_reply.started": "2023-07-17T07:30:04.401573Z"
    }
   },
   "outputs": [
    {
     "name": "stdout",
     "output_type": "stream",
     "text": [
      "huggingface/tokenizers: The current process just got forked, after parallelism has already been used. Disabling parallelism to avoid deadlocks...\n",
      "To disable this warning, you can either:\n",
      "\t- Avoid using `tokenizers` before the fork if possible\n",
      "\t- Explicitly set the environment variable TOKENIZERS_PARALLELISM=(true | false)\n",
      "huggingface/tokenizers: The current process just got forked, after parallelism has already been used. Disabling parallelism to avoid deadlocks...\n",
      "To disable this warning, you can either:\n",
      "\t- Avoid using `tokenizers` before the fork if possible\n",
      "\t- Explicitly set the environment variable TOKENIZERS_PARALLELISM=(true | false)\n",
      "huggingface/tokenizers: The current process just got forked, after parallelism has already been used. Disabling parallelism to avoid deadlocks...\n",
      "To disable this warning, you can either:\n",
      "\t- Avoid using `tokenizers` before the fork if possible\n",
      "\t- Explicitly set the environment variable TOKENIZERS_PARALLELISM=(true | false)\n"
     ]
    },
    {
     "name": "stderr",
     "output_type": "stream",
     "text": [
      "/usr/local/lib/python3.9/dist-packages/transformers/optimization.py:306: FutureWarning: This implementation of AdamW is deprecated and will be removed in a future version. Use the PyTorch implementation torch.optim.AdamW instead, or set `no_deprecation_warning=True` to disable this warning\n",
      "  warnings.warn(\n",
      "***** Running training *****\n",
      "  Num examples = 100\n",
      "  Num Epochs = 3\n",
      "  Instantaneous batch size per device = 4\n",
      "  Total train batch size (w. parallel, distributed & accumulation) = 4\n",
      "  Gradient Accumulation steps = 1\n",
      "  Total optimization steps = 75\n",
      "Automatic Weights & Biases logging enabled, to disable set os.environ[\"WANDB_DISABLED\"] = \"true\"\n"
     ]
    },
    {
     "name": "stdout",
     "output_type": "stream",
     "text": [
      "huggingface/tokenizers: The current process just got forked, after parallelism has already been used. Disabling parallelism to avoid deadlocks...\n",
      "To disable this warning, you can either:\n",
      "\t- Avoid using `tokenizers` before the fork if possible\n",
      "\t- Explicitly set the environment variable TOKENIZERS_PARALLELISM=(true | false)\n"
     ]
    },
    {
     "name": "stderr",
     "output_type": "stream",
     "text": [
      "\u001b[34m\u001b[1mwandb\u001b[0m: Currently logged in as: \u001b[33mjprivera44\u001b[0m (\u001b[33mcs7643_jp\u001b[0m). Use \u001b[1m`wandb login --relogin`\u001b[0m to force relogin\n"
     ]
    },
    {
     "name": "stdout",
     "output_type": "stream",
     "text": [
      "huggingface/tokenizers: The current process just got forked, after parallelism has already been used. Disabling parallelism to avoid deadlocks...\n",
      "To disable this warning, you can either:\n",
      "\t- Avoid using `tokenizers` before the fork if possible\n",
      "\t- Explicitly set the environment variable TOKENIZERS_PARALLELISM=(true | false)\n",
      "huggingface/tokenizers: The current process just got forked, after parallelism has already been used. Disabling parallelism to avoid deadlocks...\n",
      "To disable this warning, you can either:\n",
      "\t- Avoid using `tokenizers` before the fork if possible\n",
      "\t- Explicitly set the environment variable TOKENIZERS_PARALLELISM=(true | false)\n"
     ]
    },
    {
     "data": {
      "text/html": [
       "wandb version 0.15.5 is available!  To upgrade, please run:\n",
       " $ pip install wandb --upgrade"
      ],
      "text/plain": [
       "<IPython.core.display.HTML object>"
      ]
     },
     "metadata": {},
     "output_type": "display_data"
    },
    {
     "data": {
      "text/html": [
       "Tracking run with wandb version 0.13.4"
      ],
      "text/plain": [
       "<IPython.core.display.HTML object>"
      ]
     },
     "metadata": {},
     "output_type": "display_data"
    },
    {
     "data": {
      "text/html": [
       "Run data is saved locally in <code>/notebooks/GPT-J-model-comparison/wandb/run-20230717_073013-3jlj357d</code>"
      ],
      "text/plain": [
       "<IPython.core.display.HTML object>"
      ]
     },
     "metadata": {},
     "output_type": "display_data"
    },
    {
     "data": {
      "text/html": [
       "Syncing run <strong><a href=\"https://wandb.ai/cs7643_jp/huggingface/runs/3jlj357d\" target=\"_blank\">./results</a></strong> to <a href=\"https://wandb.ai/cs7643_jp/huggingface\" target=\"_blank\">Weights & Biases</a> (<a href=\"https://wandb.me/run\" target=\"_blank\">docs</a>)<br/>"
      ],
      "text/plain": [
       "<IPython.core.display.HTML object>"
      ]
     },
     "metadata": {},
     "output_type": "display_data"
    },
    {
     "data": {
      "text/html": [
       "\n",
       "    <div>\n",
       "      \n",
       "      <progress value='75' max='75' style='width:300px; height:20px; vertical-align: middle;'></progress>\n",
       "      [75/75 00:23, Epoch 3/3]\n",
       "    </div>\n",
       "    <table border=\"1\" class=\"dataframe\">\n",
       "  <thead>\n",
       " <tr style=\"text-align: left;\">\n",
       "      <th>Step</th>\n",
       "      <th>Training Loss</th>\n",
       "    </tr>\n",
       "  </thead>\n",
       "  <tbody>\n",
       "    <tr>\n",
       "      <td>10</td>\n",
       "      <td>48.656100</td>\n",
       "    </tr>\n",
       "    <tr>\n",
       "      <td>20</td>\n",
       "      <td>47.316400</td>\n",
       "    </tr>\n",
       "    <tr>\n",
       "      <td>30</td>\n",
       "      <td>47.761800</td>\n",
       "    </tr>\n",
       "    <tr>\n",
       "      <td>40</td>\n",
       "      <td>47.493800</td>\n",
       "    </tr>\n",
       "    <tr>\n",
       "      <td>50</td>\n",
       "      <td>46.993100</td>\n",
       "    </tr>\n",
       "    <tr>\n",
       "      <td>60</td>\n",
       "      <td>46.464100</td>\n",
       "    </tr>\n",
       "    <tr>\n",
       "      <td>70</td>\n",
       "      <td>46.140400</td>\n",
       "    </tr>\n",
       "  </tbody>\n",
       "</table><p>"
      ],
      "text/plain": [
       "<IPython.core.display.HTML object>"
      ]
     },
     "metadata": {},
     "output_type": "display_data"
    },
    {
     "name": "stderr",
     "output_type": "stream",
     "text": [
      "\n",
      "\n",
      "Training completed. Do not forget to share your model on huggingface.co/models =)\n",
      "\n",
      "\n"
     ]
    },
    {
     "data": {
      "text/plain": [
       "TrainOutput(global_step=75, training_loss=47.157890625, metrics={'train_runtime': 26.4371, 'train_samples_per_second': 11.348, 'train_steps_per_second': 2.837, 'total_flos': 359713839513600.0, 'train_loss': 47.157890625, 'epoch': 3.0})"
      ]
     },
     "execution_count": 9,
     "metadata": {},
     "output_type": "execute_result"
    }
   ],
   "source": [
    "from transformers import MT5ForConditionalGeneration, Trainer, TrainingArguments\n",
    "\n",
    "# Initialize the model\n",
    "model = MT5ForConditionalGeneration.from_pretrained(\"google/mt5-base\")\n",
    "\n",
    "# Initialize the training arguments\n",
    "training_args = TrainingArguments(\n",
    "    output_dir=\"./results\",          # output directory\n",
    "    num_train_epochs=3,              # total number of training epochs\n",
    "    per_device_train_batch_size=4,  # batch size per device during training\n",
    "    per_device_eval_batch_size=10,   # batch size for evaluation\n",
    "    warmup_steps=500,                # number of warmup steps for learning rate scheduler\n",
    "    weight_decay=0.01,               # strength of weight decay\n",
    "    logging_dir='./logs',            # directory for storing logs\n",
    "    logging_steps=10,\n",
    ")\n",
    "\n",
    "# Define the compute metrics function\n",
    "def compute_metrics(eval_pred):\n",
    "    predictions, labels = eval_pred\n",
    "    predictions = np.argmax(predictions, axis=1)\n",
    "    return {\"accuracy\": (predictions == labels).mean()}\n",
    "\n",
    "# Initialize the Trainer\n",
    "trainer = Trainer(\n",
    "    model=model,                         # the instantiated 🤗 Transformers model to be trained\n",
    "    args=training_args,                  # training arguments, defined above\n",
    "    train_dataset=model_train_data,            # training dataset\n",
    "    eval_dataset=model_val_data,         # evaluation dataset\n",
    "    compute_metrics=compute_metrics,     # the callback that computes metrics of interest\n",
    ")\n",
    "\n",
    "# Train the model\n",
    "trainer.train()\n"
   ]
  },
  {
   "cell_type": "code",
   "execution_count": 10,
   "id": "db512dea-1e4b-4ca9-83b8-746bbba72916",
   "metadata": {
    "execution": {
     "iopub.execute_input": "2023-07-17T07:30:39.015416Z",
     "iopub.status.busy": "2023-07-17T07:30:39.014872Z",
     "iopub.status.idle": "2023-07-17T07:30:42.893629Z",
     "shell.execute_reply": "2023-07-17T07:30:42.893082Z",
     "shell.execute_reply.started": "2023-07-17T07:30:39.015395Z"
    }
   },
   "outputs": [
    {
     "name": "stderr",
     "output_type": "stream",
     "text": [
      "Configuration saved in model_input/model/config.json\n",
      "Model weights saved in model_input/model/pytorch_model.bin\n"
     ]
    }
   ],
   "source": [
    "#saving data to disk\n",
    "\n",
    "import torch\n",
    "\n",
    "# Save the model and training_args\n",
    "#torch.save(model.state_dict(), 'model_input/model.pth')\n",
    "model.save_pretrained('model_input/model')\n",
    "torch.save(training_args, 'model_input/training_args.pth')\n",
    "\n",
    "import pickle\n",
    "\n",
    "with open('model_input/train_data.pkl', 'wb') as f:\n",
    "    pickle.dump(model_train_data, f)\n",
    "\n",
    "with open('model_input/val_data.pkl', 'wb') as f:\n",
    "    pickle.dump(model_val_data, f)\n",
    "\n",
    "# Here, compute_metrics is a function. You cannot save it directly, but you can define it in your script or import it from a shared Python module.\n"
   ]
  },
  {
   "cell_type": "code",
   "execution_count": 15,
   "id": "3a11a14f-7131-41e6-aaec-1bd13cf238a0",
   "metadata": {
    "execution": {
     "iopub.execute_input": "2023-07-17T07:35:06.133479Z",
     "iopub.status.busy": "2023-07-17T07:35:06.132559Z",
     "iopub.status.idle": "2023-07-17T07:35:24.185757Z",
     "shell.execute_reply": "2023-07-17T07:35:24.185025Z",
     "shell.execute_reply.started": "2023-07-17T07:35:06.133453Z"
    }
   },
   "outputs": [
    {
     "name": "stdout",
     "output_type": "stream",
     "text": [
      "huggingface/tokenizers: The current process just got forked, after parallelism has already been used. Disabling parallelism to avoid deadlocks...\n",
      "To disable this warning, you can either:\n",
      "\t- Avoid using `tokenizers` before the fork if possible\n",
      "\t- Explicitly set the environment variable TOKENIZERS_PARALLELISM=(true | false)\n",
      "Warning: LBR backtrace method is not supported on this platform. DWARF backtrace method will be used.\n",
      "Some weights of the model checkpoint at model_input/model were not used when initializing MT5Model: ['lm_head.weight']\n",
      "- This IS expected if you are initializing MT5Model from the checkpoint of a model trained on another task or with another architecture (e.g. initializing a BertForSequenceClassification model from a BertForPreTraining model).\n",
      "- This IS NOT expected if you are initializing MT5Model from the checkpoint of a model that you expect to be exactly identical (initializing a BertForSequenceClassification model from a BertForSequenceClassification model).\n",
      "/usr/local/lib/python3.9/dist-packages/transformers/optimization.py:306: FutureWarning: This implementation of AdamW is deprecated and will be removed in a future version. Use the PyTorch implementation torch.optim.AdamW instead, or set `no_deprecation_warning=True` to disable this warning\n",
      "  warnings.warn(\n",
      "***** Running training *****\n",
      "  Num examples = 100\n",
      "  Num Epochs = 3\n",
      "  Instantaneous batch size per device = 4\n",
      "  Total train batch size (w. parallel, distributed & accumulation) = 4\n",
      "  Gradient Accumulation steps = 1\n",
      "  Total optimization steps = 75\n",
      "Automatic Weights & Biases logging enabled, to disable set os.environ[\"WANDB_DISABLED\"] = \"true\"\n",
      "wandb: Currently logged in as: jprivera44 (cs7643_jp). Use `wandb login --relogin` to force relogin\n",
      "wandb: wandb version 0.15.5 is available!  To upgrade, please run:\n",
      "wandb:  $ pip install wandb --upgrade\n",
      "wandb: Tracking run with wandb version 0.13.4\n",
      "wandb: Run data is saved locally in /notebooks/GPT-J-model-comparison/wandb/run-20230717_073518-spigv3fy\n",
      "wandb: Run `wandb offline` to turn off syncing.\n",
      "wandb: Syncing run ./results\n",
      "wandb: ⭐️ View project at https://wandb.ai/cs7643_jp/huggingface\n",
      "wandb: 🚀 View run at https://wandb.ai/cs7643_jp/huggingface/runs/spigv3fy\n",
      "  0%|          | 0/75 [00:00<?, ?it/s]The following columns in the training set don't have a corresponding argument in `MT5Model.forward` and have been ignored: labels. If labels are not expected by `MT5Model.forward`,  you can safely ignore this message.\n",
      "Traceback (most recent call last):\n",
      "  File \"/notebooks/GPT-J-model-comparison/Mt5-fine-tuning.py\", line 52, in <module>\n",
      "    main(args.model_path, args.train_data_path, args.val_data_path, args.training_args_path)\n",
      "  File \"/notebooks/GPT-J-model-comparison/Mt5-fine-tuning.py\", line 39, in main\n",
      "    trainer.train()\n",
      "  File \"/usr/local/lib/python3.9/dist-packages/transformers/trainer.py\", line 1498, in train\n",
      "    return inner_training_loop(\n",
      "  File \"/usr/local/lib/python3.9/dist-packages/transformers/trainer.py\", line 1740, in _inner_training_loop\n",
      "    tr_loss_step = self.training_step(model, inputs)\n",
      "  File \"/usr/local/lib/python3.9/dist-packages/transformers/trainer.py\", line 2470, in training_step\n",
      "    loss = self.compute_loss(model, inputs)\n",
      "  File \"/usr/local/lib/python3.9/dist-packages/transformers/trainer.py\", line 2502, in compute_loss\n",
      "    outputs = model(**inputs)\n",
      "  File \"/usr/local/lib/python3.9/dist-packages/torch/nn/modules/module.py\", line 1130, in _call_impl\n",
      "    return forward_call(*input, **kwargs)\n",
      "  File \"/usr/local/lib/python3.9/dist-packages/transformers/models/t5/modeling_t5.py\", line 1426, in forward\n",
      "    decoder_outputs = self.decoder(\n",
      "  File \"/usr/local/lib/python3.9/dist-packages/torch/nn/modules/module.py\", line 1130, in _call_impl\n",
      "    return forward_call(*input, **kwargs)\n",
      "  File \"/usr/local/lib/python3.9/dist-packages/transformers/models/t5/modeling_t5.py\", line 932, in forward\n",
      "    raise ValueError(f\"You have to specify either {err_msg_prefix}input_ids or {err_msg_prefix}inputs_embeds\")\n",
      "ValueError: You have to specify either decoder_input_ids or decoder_inputs_embeds\n",
      "  0%|          | 0/75 [00:01<?, ?it/s]\n",
      "Generating '/tmp/nsys-report-2abd.qdstrm'\n",
      "[1/6] [========================100%] report1.nsys-rep\n",
      "[2/6] [========================100%] report1.sqlite\n",
      "[3/6] Executing 'cudaapisum' stats report\n",
      "\n",
      "CUDA API Statistics:\n",
      "\n",
      " Time (%)  Total Time (ns)  Num Calls   Avg (ns)     Med (ns)    Min (ns)    Max (ns)   StdDev (ns)               Name              \n",
      " --------  ---------------  ---------  -----------  -----------  ---------  ----------  -----------  -------------------------------\n",
      "     64.1       2188752406        284    7706874.7     247392.0       4942  2105765440  124936997.7  cudaMemcpyAsync                \n",
      "     32.2       1099795065          2  549897532.5  549897532.5  182868549   916926516  519057366.2  cudaFree                       \n",
      "      2.4         83608192        236     354272.0       1436.5       1006    83248487    5418915.3  cudaStreamIsCapturing_v10000   \n",
      "      0.8         26751837        189     141544.1     127303.0       4365      642333      53779.9  cudaMalloc                     \n",
      "      0.2          7542869        284      26559.4      28502.5       4095       66318      14189.8  cudaStreamSynchronize          \n",
      "      0.2          5616586        538      10439.8       6565.0       4161     1633977      70190.5  cudaLaunchKernel               \n",
      "      0.0          1156096          2     578048.0     578048.0       9721     1146375     803735.8  cudaHostAlloc                  \n",
      "      0.0           839709       1123        747.7        690.0        572        4387        203.4  cuGetProcAddress               \n",
      "      0.0           431862         60       7197.7       7212.0       4296       19329       1926.5  cudaMemsetAsync                \n",
      "      0.0           198172        180       1101.0        968.5        726        3516        395.6  cudaStreamGetCaptureInfo_v10010\n",
      "      0.0           180880         60       3014.7       2801.0       1737        7506       1062.6  cudaEventQuery                 \n",
      "      0.0           128481         60       2141.4       2016.5       1463       10126       1117.0  cudaEventRecord                \n",
      "      0.0            20508         18       1139.3       1043.0        805        3504        611.7  cudaEventCreateWithFlags       \n",
      "      0.0            10216          3       3405.3       2792.0       1983        5441       1808.7  cuInit                         \n",
      "\n",
      "[4/6] Executing 'gpukernsum' stats report\n",
      "\n",
      "CUDA Kernel Statistics:\n",
      "\n",
      " Time (%)  Total Time (ns)  Instances  Avg (ns)  Med (ns)  Min (ns)  Max (ns)  StdDev (ns)                                                  Name                                                \n",
      " --------  ---------------  ---------  --------  --------  --------  --------  -----------  ----------------------------------------------------------------------------------------------------\n",
      "     38.9         17831023         84  212274.1  127231.0    125728    334942      99368.1  ampere_sgemm_128x64_tn                                                                              \n",
      "     19.3          8852440         13  680956.9  725053.0    151743    725404     159009.2  void at::native::elementwise_kernel<(int)128, (int)2, void at::native::gpu_kernel_impl<at::native::…\n",
      "      8.1          3710162         24  154590.1  154911.0    118943    190943      33243.9  ampere_sgemm_128x128_nn                                                                             \n",
      "      7.4          3397531         50   67950.6   24432.0     23552    173567      60642.0  void at::native::<unnamed>::fused_dropout_kernel_vec<float, float, unsigned int, (int)1, (int)4, bo…\n",
      "      4.1          1863195         40   46579.9   51392.0      2176     52096      14843.2  void at::native::vectorized_elementwise_kernel<(int)4, at::native::BUnaryFunctor<float, float, floa…\n",
      "      4.0          1824156         24   76006.5   76016.0     75264     76896        376.4  void at::native::vectorized_elementwise_kernel<(int)4, at::native::BinaryFunctor<float, float, floa…\n",
      "      3.8          1762617         12  146884.8  146815.5    145600    149151        948.1  void <unnamed>::softmax_warp_forward<float, float, float, (int)9, (bool)0, (bool)0>(T2 *, const T1 …\n",
      "      3.6          1631132         36   45309.2   30031.5     29471     76863      22085.5  void at::native::vectorized_elementwise_kernel<(int)4, at::native::CUDAFunctor_add<float>, at::deta…\n",
      "      2.4          1099068         48   22897.3   22480.5     18912     28159       2912.2  void at::native::elementwise_kernel<(int)128, (int)2, void at::native::gpu_kernel_impl<at::native::…\n",
      "      2.3          1075062         50   21501.2   21439.5     20256     22880        909.9  void at::native::elementwise_kernel<(int)128, (int)2, void at::native::gpu_kernel_impl<at::native::…\n",
      "      1.5           679168         37   18355.9    2336.0      2240     52191      23453.2  void at::native::vectorized_elementwise_kernel<(int)4, at::native::CUDAFunctorOnSelf_add<float>, at…\n",
      "      1.4           624507         12   52042.3   52095.5     51552     52448        293.1  void at::native::vectorized_elementwise_kernel<(int)4, at::native::tanh_kernel_cuda(at::TensorItera…\n",
      "      1.3           619420         12   51618.3   51632.5     50975     52127        290.7  void at::native::vectorized_elementwise_kernel<(int)4, void at::native::<unnamed>::pow_tensor_scala…\n",
      "      1.1           496449         25   19858.0   19840.0     19329     20449        251.4  void at::native::vectorized_elementwise_kernel<(int)4, void at::native::<unnamed>::pow_tensor_scala…\n",
      "      0.5           228571         25    9142.8    9120.0      8863      9376        168.9  void at::native::reduce_kernel<(int)512, (int)1, at::native::ReduceOp<float, at::native::MeanOps<fl…\n",
      "      0.1            57538         25    2301.5    2336.0      2048      2496         96.3  void at::native::vectorized_elementwise_kernel<(int)4, at::native::rsqrt_kernel_cuda(at::TensorIter…\n",
      "      0.1            55294          2   27647.0   27647.0     19167     36127      11992.5  void at::native::<unnamed>::indexSelectLargeIndex<float, long, unsigned int, (int)2, (int)2, (int)-…\n",
      "      0.0             8671          2    4335.5    4335.5      4320      4351         21.9  void at::native::unrolled_elementwise_kernel<at::native::<unnamed>::direct_copy_kernel_cuda(at::Ten…\n",
      "      0.0             8544          1    8544.0    8544.0      8544      8544          0.0  void at::native::vectorized_elementwise_kernel<(int)4, at::native::<unnamed>::where_kernel_impl(at:…\n",
      "      0.0             8384          2    4192.0    4192.0      3872      4512        452.5  void at::native::unrolled_elementwise_kernel<at::native::<unnamed>::direct_copy_kernel_cuda(at::Ten…\n",
      "      0.0             8160          1    8160.0    8160.0      8160      8160          0.0  void at::native::vectorized_elementwise_kernel<(int)4, at::native::CUDAFunctor_add<long>, at::detai…\n",
      "      0.0             7872          2    3936.0    3936.0      3296      4576        905.1  void at::native::vectorized_elementwise_kernel<(int)4, at::native::CUDAFunctorOnSelf_add<long>, at:…\n",
      "      0.0             6752          2    3376.0    3376.0      3328      3424         67.9  void at::native::vectorized_elementwise_kernel<(int)4, at::native::BUnaryFunctor<long, long, bool, …\n",
      "      0.0             5440          1    5440.0    5440.0      5440      5440          0.0  void at::native::elementwise_kernel<(int)128, (int)2, void at::native::gpu_kernel_impl<at::native::…\n",
      "      0.0             5376          1    5376.0    5376.0      5376      5376          0.0  void at::native::vectorized_elementwise_kernel<(int)4, at::native::AbsFunctor<long>, at::detail::Ar…\n",
      "      0.0             4512          1    4512.0    4512.0      4512      4512          0.0  void at::native::vectorized_elementwise_kernel<(int)4, at::native::FillFunctor<long>, at::detail::A…\n",
      "      0.0             4449          1    4449.0    4449.0      4449      4449          0.0  void at::native::vectorized_elementwise_kernel<(int)4, at::native::BUnaryFunctor<long, long, long, …\n",
      "      0.0             4288          2    2144.0    2144.0      2112      2176         45.3  void <unnamed>::elementwise_kernel_with_index<int, at::native::arange_cuda_out(const c10::Scalar &,…\n",
      "      0.0             4065          1    4065.0    4065.0      4065      4065          0.0  void at::native::vectorized_elementwise_kernel<(int)4, at::native::BinaryFunctor<long, long, long, …\n",
      "      0.0             3360          1    3360.0    3360.0      3360      3360          0.0  void at::native::vectorized_elementwise_kernel<(int)4, at::native::log_kernel_cuda(at::TensorIterat…\n",
      "      0.0             2304          1    2304.0    2304.0      2304      2304          0.0  void at::native::vectorized_elementwise_kernel<(int)4, at::native::CUDAFunctorOnOther_add<float>, a…\n",
      "\n",
      "[5/6] Executing 'gpumemtimesum' stats report\n",
      "\n",
      "CUDA Memory Operation Statistics (by time):\n",
      "\n",
      " Time (%)  Total Time (ns)  Count  Avg (ns)  Med (ns)  Min (ns)  Max (ns)  StdDev (ns)      Operation     \n",
      " --------  ---------------  -----  --------  --------  --------  --------  -----------  ------------------\n",
      "    100.0        136711409    284  481378.2  157007.0       800  72364949    4285805.9  [CUDA memcpy HtoD]\n",
      "      0.0            57634     60     960.6     865.0       800      1312        152.0  [CUDA memset]     \n",
      "\n",
      "[6/6] Executing 'gpumemsizesum' stats report\n",
      "\n",
      "CUDA Memory Operation Statistics (by size):\n",
      "\n",
      " Total (MB)  Count  Avg (MB)  Med (MB)  Min (MB)  Max (MB)  StdDev (MB)      Operation     \n",
      " ----------  -----  --------  --------  --------  --------  -----------  ------------------\n",
      "   1561.294    284     5.498     2.359     0.000   768.344       45.482  [CUDA memcpy HtoD]\n",
      "      0.046     60     0.001     0.001     0.001     0.001        0.000  [CUDA memset]     \n",
      "\n",
      "Generated:\n",
      "    /notebooks/GPT-J-model-comparison/report1.nsys-rep\n",
      "    /notebooks/GPT-J-model-comparison/report1.sqlite\n"
     ]
    }
   ],
   "source": [
    "!nsys profile --trace=cuda --stats=true --force-overwrite=true python3 Mt5-fine-tuning.py --model 'model_input/model' --training_args 'model_input/training_args.pth' --train_data_path 'model_input/train_data.pkl' --val_data_path 'model_input/val_data.pkl'\n",
    "\n",
    "\n"
   ]
  },
  {
   "cell_type": "markdown",
   "id": "52f0a923-6264-416e-bdbd-8f923d33ced4",
   "metadata": {
    "execution": {
     "iopub.execute_input": "2023-07-17T07:23:35.717758Z",
     "iopub.status.busy": "2023-07-17T07:23:35.717575Z",
     "iopub.status.idle": "2023-07-17T07:23:35.730185Z",
     "shell.execute_reply": "2023-07-17T07:23:35.729756Z",
     "shell.execute_reply.started": "2023-07-17T07:23:35.717734Z"
    }
   },
   "source": [
    "## Analyze CUDA"
   ]
  },
  {
   "cell_type": "code",
   "execution_count": 21,
   "id": "8fda9076-cf58-49b8-b544-ccfc43984051",
   "metadata": {
    "execution": {
     "iopub.execute_input": "2023-07-17T07:59:43.277142Z",
     "iopub.status.busy": "2023-07-17T07:59:43.276714Z",
     "iopub.status.idle": "2023-07-17T07:59:43.285532Z",
     "shell.execute_reply": "2023-07-17T07:59:43.284909Z",
     "shell.execute_reply.started": "2023-07-17T07:59:43.277116Z"
    }
   },
   "outputs": [
    {
     "name": "stdout",
     "output_type": "stream",
     "text": [
      "[('StringIds',), ('ProcessStreams',), ('TARGET_INFO_SYSTEM_ENV',), ('TARGET_INFO_SESSION_START_TIME',), ('ANALYSIS_DETAILS',), ('PROCESSES',), ('PROFILER_OVERHEAD',), ('CUPTI_ACTIVITY_KIND_RUNTIME',), ('CUPTI_ACTIVITY_KIND_MEMCPY',), ('CUPTI_ACTIVITY_KIND_SYNCHRONIZATION',), ('CUPTI_ACTIVITY_KIND_KERNEL',), ('CUPTI_ACTIVITY_KIND_MEMSET',), ('ThreadNames',), ('TARGET_INFO_GPU',), ('TARGET_INFO_CUDA_NULL_STREAM',), ('TARGET_INFO_CUDA_STREAM',), ('EXPORT_META_DATA',)]\n"
     ]
    }
   ],
   "source": [
    "#Importing files\n",
    "\n",
    "# Connecting the output sql file rom nsys\n",
    "conn = sqlite3.connect('report1.sqlite')\n",
    "cursor = conn.cursor()\n",
    "cursor.execute(\"SELECT name FROM sqlite_master WHERE type='table';\")\n",
    "print(cursor.fetchall())"
   ]
  },
  {
   "cell_type": "code",
   "execution_count": 24,
   "id": "3e0968d8-9cc9-43ca-a795-fcb5affd0039",
   "metadata": {
    "execution": {
     "iopub.execute_input": "2023-07-17T08:00:28.387621Z",
     "iopub.status.busy": "2023-07-17T08:00:28.387123Z",
     "iopub.status.idle": "2023-07-17T08:00:28.395441Z",
     "shell.execute_reply": "2023-07-17T08:00:28.394880Z",
     "shell.execute_reply.started": "2023-07-17T08:00:28.387600Z"
    }
   },
   "outputs": [
    {
     "name": "stdout",
     "output_type": "stream",
     "text": [
      "[(281474976710656, 0, 'NVIDIA RTX A6000', '0000:00:05.0', 1, 6291456, 51041271808, 768096000000, 1800000000, 84, 0, '3864ac0b-85ab-66c6-4273-4d92f1722332', 0, 'GA102', 0, '', '', 161, 0, 65536, 4, 65536, 49152, 101376, 102400, 65536, 32, 2, 48, 16, 1024, 1024, 1024, 64, 2147483647, 65535, 65535, 8, 6, 8, 6)]\n"
     ]
    }
   ],
   "source": [
    "import sqlite3\n",
    "\n",
    "def query_db(query):\n",
    "    conn = sqlite3.connect('report1.sqlite')\n",
    "    cursor = conn.execute(query)\n",
    "    result = cursor.fetchall()\n",
    "    conn.close()\n",
    "    return result\n",
    "\n",
    "# Query GPU details\n",
    "print(query_db(\"SELECT * FROM TARGET_INFO_GPU;\"))\n",
    "\n",
    "# Query Kernel execution details\n",
    "#print(query_db(\"SELECT * FROM CUPTI_ACTIVITY_KIND_KERNEL;\"))\n",
    "\n",
    "# Query Memory copy/set operations details\n",
    "#print(query_db(\"SELECT * FROM CUPTI_ACTIVITY_KIND_MEMCPY;\"))\n",
    "#print(query_db(\"SELECT * FROM CUPTI_ACTIVITY_KIND_MEMSET;\"))\n"
   ]
  },
  {
   "cell_type": "code",
   "execution_count": 25,
   "id": "6a2bc367-dfad-4275-b1be-a61c1ef39f5c",
   "metadata": {
    "execution": {
     "iopub.execute_input": "2023-07-17T08:04:44.208987Z",
     "iopub.status.busy": "2023-07-17T08:04:44.208214Z",
     "iopub.status.idle": "2023-07-17T08:04:44.222581Z",
     "shell.execute_reply": "2023-07-17T08:04:44.222060Z",
     "shell.execute_reply.started": "2023-07-17T08:04:44.208960Z"
    }
   },
   "outputs": [
    {
     "name": "stdout",
     "output_type": "stream",
     "text": [
      "[(11699523089, 11699542256, 0, 1, 7, 3646, 281488130048000, 71, 72, 60, 1, 1, 32, 672, 1, 1, 128, 1, 1, 0, 0, 0, 121110528, 1, 16384, None, 0), (11699733232, 11699737744, 0, 1, 7, 3658, 281488130048000, 74, 75, 61, 1, 1, 32, 4, 1, 1, 128, 1, 1, 0, 0, 0, 121110528, 2, 16384, None, 0), (11699852975, 11699855279, 0, 1, 7, 3667, 281488130048000, 76, 77, 62, 1, 1, 16, 4, 1, 1, 128, 1, 1, 0, 0, 0, 121110528, 3, 16384, None, 0), (11699927183, 11699929359, 0, 1, 7, 3675, 281488130048000, 78, 77, 63, 1, 1, 16, 4, 1, 1, 128, 1, 1, 0, 0, 0, 121110528, 4, 16384, None, 0), (11700109710, 11700133262, 0, 1, 7, 3697, 281488130048000, 79, 80, 64, 1, 1, 28, 504, 1, 1, 256, 1, 1, 0, 0, 0, 121110528, 5, 8192, None, 0), (11700253005, 11700273037, 0, 1, 7, 3705, 281488130048000, 81, 77, 65, 1, 1, 16, 3072, 1, 1, 128, 1, 1, 0, 0, 0, 121110528, 6, 16384, None, 0), (11700348622, 11700357485, 0, 1, 7, 3717, 281488130048000, 82, 83, 66, 1, 1, 32, 128, 1, 1, 32, 16, 1, 16, 0, 0, 121110528, 7, 8192, None, 0), (11700414733, 11700417005, 0, 1, 7, 3725, 281488130048000, 84, 77, 67, 1, 1, 16, 4, 1, 1, 128, 1, 1, 0, 0, 0, 121110528, 8, 16384, None, 0), (11700471949, 11700473997, 0, 1, 7, 3733, 281488130048000, 85, 77, 68, 1, 1, 18, 4, 1, 1, 128, 1, 1, 0, 0, 0, 121110528, 9, 16384, None, 0), (11700511212, 11700532077, 0, 1, 7, 3741, 281488130048000, 86, 87, 69, 1, 1, 16, 6144, 1, 1, 128, 1, 1, 0, 0, 0, 121110528, 10, 16384, None, 0), (11700753707, 11700775819, 0, 1, 7, 3753, 281488130048000, 86, 87, 69, 1, 1, 16, 6144, 1, 1, 128, 1, 1, 0, 0, 0, 121110528, 11, 16384, None, 0), (12803469683, 12803595891, 0, 1, 7, 4764, 281488130048000, 89, 89, 89, 1, 4, 122, 6, 32, 3, 128, 1, 1, 12800, 0, 0, 121110528, 12, 65536, None, 0), (12803775698, 12803901810, 0, 1, 7, 4781, 281488130048000, 89, 89, 89, 1, 4, 122, 6, 32, 3, 128, 1, 1, 12800, 0, 0, 121110528, 13, 65536, None, 0), (12804105457, 12804231920, 0, 1, 7, 4802, 281488130048000, 89, 89, 89, 1, 4, 122, 6, 32, 3, 128, 1, 1, 12800, 0, 0, 121110528, 14, 65536, None, 0), (12804266032, 12804288112, 0, 1, 7, 4815, 281488130048000, 115, 87, 90, 1, 1, 16, 6144, 1, 1, 128, 1, 1, 0, 0, 0, 121110528, 15, 16384, None, 0), (12804303344, 12804330064, 0, 1, 7, 4826, 281488130048000, 115, 87, 90, 1, 1, 16, 6144, 1, 1, 128, 1, 1, 0, 0, 0, 121110528, 16, 16384, None, 0), (12804552303, 12804675150, 0, 1, 7, 4846, 281488130048000, 91, 91, 91, 1, 4, 118, 4, 4, 48, 256, 1, 1, 16640, 0, 0, 121110528, 17, 65536, None, 0), (12804681550, 12804683726, 0, 1, 7, 4860, 281488130048000, 116, 117, 92, 1, 1, 16, 8, 1, 1, 64, 1, 1, 0, 0, 0, 121110528, 18, 16384, None, 0), (12804734094, 12804736206, 0, 1, 7, 4876, 281488130048000, 116, 117, 92, 1, 1, 16, 8, 1, 1, 64, 1, 1, 0, 0, 0, 121110528, 19, 16384, None, 0), (12804791502, 12804796942, 0, 1, 7, 4886, 281488130048000, 118, 87, 93, 1, 1, 16, 1024, 1, 1, 128, 1, 1, 0, 0, 0, 121110528, 20, 16384, None, 0), (12804863085, 12804866509, 0, 1, 7, 4894, 281488130048000, 119, 77, 94, 1, 1, 18, 512, 1, 1, 128, 1, 1, 0, 0, 0, 121110528, 21, 16384, None, 0), (12804906222, 12804910573, 0, 1, 7, 4904, 281488130048000, 120, 75, 95, 1, 1, 34, 512, 1, 1, 128, 1, 1, 0, 0, 0, 121110528, 22, 16384, None, 0), (12804955469, 12804959918, 0, 1, 7, 4913, 281488130048000, 121, 77, 96, 1, 1, 24, 512, 1, 1, 128, 1, 1, 0, 0, 0, 121110528, 23, 16384, None, 0), (12804990893, 12804994189, 0, 1, 7, 4921, 281488130048000, 122, 77, 97, 1, 1, 22, 512, 1, 1, 128, 1, 1, 0, 0, 0, 121110528, 24, 16384, None, 0), (12805054573, 12805059949, 0, 1, 7, 4935, 281488130048000, 123, 77, 98, 1, 1, 24, 512, 1, 1, 128, 1, 1, 0, 0, 0, 121110528, 25, 16384, None, 0), (12805087021, 12805090349, 0, 1, 7, 4943, 281488130048000, 119, 77, 94, 1, 1, 18, 512, 1, 1, 128, 1, 1, 0, 0, 0, 121110528, 26, 16384, None, 0), (12805119660, 12805123532, 0, 1, 7, 4953, 281488130048000, 74, 75, 61, 1, 1, 32, 512, 1, 1, 128, 1, 1, 0, 0, 0, 121110528, 27, 16384, None, 0), (12805444811, 12805447915, 0, 1, 7, 4966, 281488130048000, 78, 77, 63, 1, 1, 16, 512, 1, 1, 128, 1, 1, 0, 0, 0, 121110528, 28, 16384, None, 0), (12805507851, 12805511211, 0, 1, 7, 4974, 281488130048000, 124, 77, 99, 1, 1, 22, 512, 1, 1, 128, 1, 1, 0, 0, 0, 121110528, 29, 16384, None, 0), (12805540842, 12805543466, 0, 1, 7, 4982, 281488130048000, 78, 77, 63, 1, 1, 16, 512, 1, 1, 128, 1, 1, 0, 0, 0, 121110528, 30, 16384, None, 0), (12805565098, 12805567690, 0, 1, 7, 4990, 281488130048000, 78, 77, 63, 1, 1, 16, 512, 1, 1, 128, 1, 1, 0, 0, 0, 121110528, 31, 16384, None, 0), (12805596618, 12805600938, 0, 1, 7, 5000, 281488130048000, 120, 75, 95, 1, 1, 34, 512, 1, 1, 128, 1, 1, 0, 0, 0, 121110528, 32, 16384, None, 0), (12805627434, 12805632010, 0, 1, 7, 5009, 281488130048000, 122, 77, 97, 1, 1, 22, 512, 1, 1, 128, 1, 1, 0, 0, 0, 121110528, 33, 16384, None, 0), (12805685482, 12805689994, 0, 1, 7, 5019, 281488130048000, 125, 77, 100, 1, 1, 16, 512, 1, 1, 128, 1, 1, 0, 0, 0, 121110528, 34, 16384, None, 0), (12805752457, 12805756522, 0, 1, 7, 5027, 281488130048000, 126, 77, 101, 1, 1, 30, 512, 1, 1, 128, 1, 1, 0, 0, 0, 121110528, 35, 16384, None, 0), (12805828425, 12805836969, 0, 1, 7, 5041, 281488130048000, 127, 77, 102, 1, 1, 35, 512, 1, 1, 128, 1, 1, 0, 0, 0, 121110528, 36, 16384, None, 0), (12805862281, 12805870441, 0, 1, 7, 5046, 281488130048000, 128, 77, 103, 1, 1, 28, 512, 1, 1, 128, 1, 1, 0, 0, 0, 121110528, 37, 16384, None, 0), (12806083945, 12806120072, 0, 1, 7, 5066, 281488130048000, 71, 72, 60, 1, 1, 32, 672, 1, 1, 128, 1, 1, 0, 0, 0, 121110528, 38, 16384, None, 0), (12806350792, 12806502535, 0, 1, 7, 5078, 281488130048000, 129, 87, 104, 1, 1, 16, 49152, 1, 1, 128, 1, 1, 0, 0, 0, 121110528, 39, 16384, None, 0), (12806503303, 12807227876, 0, 1, 7, 5083, 281488130048000, 129, 87, 104, 1, 1, 16, 49152, 1, 1, 128, 1, 1, 0, 0, 0, 121110528, 40, 16384, None, 0), (12807228644, 12807374500, 0, 1, 7, 5097, 281488130048000, 130, 131, 105, 1, 1, 40, 6144, 1, 1, 32, 4, 1, 0, 0, 0, 121110528, 41, 16384, None, 0), (12807375171, 12807546562, 0, 1, 7, 5123, 281488130048000, 79, 80, 64, 1, 1, 28, 504, 1, 1, 256, 1, 1, 0, 0, 0, 121110528, 42, 8192, None, 0), (12807547266, 12807570210, 0, 1, 7, 5137, 281488130048000, 115, 87, 90, 1, 1, 16, 6144, 1, 1, 128, 1, 1, 0, 0, 0, 121110528, 43, 16384, None, 0), (12807570882, 12807757890, 0, 1, 7, 5153, 281488130048000, 91, 91, 91, 1, 4, 118, 1, 4, 48, 256, 1, 1, 16640, 0, 0, 121110528, 44, 65536, None, 0), (12807759010, 12807777985, 0, 1, 7, 5164, 281488130048000, 115, 87, 90, 1, 1, 16, 6144, 1, 1, 128, 1, 1, 0, 0, 0, 121110528, 45, 16384, None, 0), (12807781665, 12807907905, 0, 1, 7, 5180, 281488130048000, 89, 89, 89, 1, 4, 122, 6, 32, 3, 128, 1, 1, 12800, 0, 0, 121110528, 46, 65536, None, 0), (12807908577, 12807932705, 0, 1, 7, 5205, 281488130048000, 79, 80, 64, 1, 1, 28, 504, 1, 1, 256, 1, 1, 0, 0, 0, 121110528, 47, 8192, None, 0), (12807933441, 12807963137, 0, 1, 7, 5213, 281488130048000, 132, 77, 106, 1, 1, 22, 3072, 1, 1, 128, 1, 1, 0, 0, 0, 121110528, 48, 16384, None, 0), (12807963809, 12807984064, 0, 1, 7, 5221, 281488130048000, 81, 77, 65, 1, 1, 16, 3072, 1, 1, 128, 1, 1, 0, 0, 0, 121110528, 49, 16384, None, 0), (12807984864, 12807994209, 0, 1, 7, 5233, 281488130048000, 82, 83, 66, 1, 1, 32, 128, 1, 1, 32, 16, 1, 16, 0, 0, 121110528, 50, 8192, None, 0), (12807995009, 12807997313, 0, 1, 7, 5241, 281488130048000, 84, 77, 67, 1, 1, 16, 4, 1, 1, 128, 1, 1, 0, 0, 0, 121110528, 51, 16384, None, 0), (12807998113, 12808000513, 0, 1, 7, 5249, 281488130048000, 85, 77, 68, 1, 1, 18, 4, 1, 1, 128, 1, 1, 0, 0, 0, 121110528, 52, 16384, None, 0), (12808001185, 12808022145, 0, 1, 7, 5257, 281488130048000, 86, 87, 69, 1, 1, 16, 6144, 1, 1, 128, 1, 1, 0, 0, 0, 121110528, 53, 16384, None, 0), (12808022881, 12808045120, 0, 1, 7, 5265, 281488130048000, 86, 87, 69, 1, 1, 16, 6144, 1, 1, 128, 1, 1, 0, 0, 0, 121110528, 54, 16384, None, 0), (12808045824, 12808375711, 0, 1, 7, 5276, 281488130048000, 89, 89, 89, 1, 4, 122, 16, 32, 1, 128, 1, 1, 12800, 0, 0, 121110528, 55, 65536, None, 0), (12808376479, 12808427326, 0, 1, 7, 5284, 281488130048000, 78, 77, 63, 1, 1, 16, 8192, 1, 1, 128, 1, 1, 0, 0, 0, 121110528, 56, 16384, None, 0), (12808428158, 12808479902, 0, 1, 7, 5292, 281488130048000, 133, 77, 107, 1, 1, 16, 8192, 1, 1, 128, 1, 1, 0, 0, 0, 121110528, 57, 16384, None, 0), (12808480638, 12808532318, 0, 1, 7, 5304, 281488130048000, 78, 77, 63, 1, 1, 16, 8192, 1, 1, 128, 1, 1, 0, 0, 0, 121110528, 58, 16384, None, 0), (12808532990, 12808609022, 0, 1, 7, 5312, 281488130048000, 132, 77, 106, 1, 1, 22, 8192, 1, 1, 128, 1, 1, 0, 0, 0, 121110528, 59, 16384, None, 0), (12808609726, 12808661053, 0, 1, 7, 5320, 281488130048000, 78, 77, 63, 1, 1, 16, 8192, 1, 1, 128, 1, 1, 0, 0, 0, 121110528, 60, 16384, None, 0), (12808661725, 12808713789, 0, 1, 7, 5328, 281488130048000, 134, 77, 108, 1, 1, 17, 8192, 1, 1, 128, 1, 1, 0, 0, 0, 121110528, 61, 16384, None, 0), (12808714493, 12808766013, 0, 1, 7, 5336, 281488130048000, 84, 77, 67, 1, 1, 16, 8192, 1, 1, 128, 1, 1, 0, 0, 0, 121110528, 62, 16384, None, 0), (12808766685, 12808843389, 0, 1, 7, 5348, 281488130048000, 135, 77, 109, 1, 1, 22, 8192, 1, 1, 128, 1, 1, 0, 0, 0, 121110528, 63, 16384, None, 0), (12808844188, 12809172892, 0, 1, 7, 5363, 281488130048000, 89, 89, 89, 1, 4, 122, 16, 32, 1, 128, 1, 1, 12800, 0, 0, 121110528, 64, 65536, None, 0), (12809173724, 12809249531, 0, 1, 7, 5375, 281488130048000, 135, 77, 109, 1, 1, 22, 8192, 1, 1, 128, 1, 1, 0, 0, 0, 121110528, 65, 16384, None, 0), (12809250267, 12809309659, 0, 1, 7, 5401, 281488130048000, 79, 80, 64, 1, 1, 28, 504, 1, 1, 256, 1, 1, 0, 0, 0, 121110528, 66, 8192, None, 0), (12809312763, 12809630042, 0, 1, 7, 5415, 281488130048000, 89, 89, 89, 1, 4, 122, 6, 32, 5, 128, 1, 1, 12800, 0, 0, 121110528, 67, 65536, None, 0), (12809630778, 12809654458, 0, 1, 7, 5440, 281488130048000, 79, 80, 64, 1, 1, 28, 504, 1, 1, 256, 1, 1, 0, 0, 0, 121110528, 68, 8192, None, 0), (12809655162, 12809685209, 0, 1, 7, 5452, 281488130048000, 132, 77, 106, 1, 1, 22, 3072, 1, 1, 128, 1, 1, 0, 0, 0, 121110528, 69, 16384, None, 0), (12809686009, 12809705946, 0, 1, 7, 5460, 281488130048000, 81, 77, 65, 1, 1, 16, 3072, 1, 1, 128, 1, 1, 0, 0, 0, 121110528, 70, 16384, None, 0), (12809706746, 12809715833, 0, 1, 7, 5472, 281488130048000, 82, 83, 66, 1, 1, 32, 128, 1, 1, 32, 16, 1, 16, 0, 0, 121110528, 71, 8192, None, 0), (12809716633, 12809718905, 0, 1, 7, 5480, 281488130048000, 84, 77, 67, 1, 1, 16, 4, 1, 1, 128, 1, 1, 0, 0, 0, 121110528, 72, 16384, None, 0), (12809719577, 12809721913, 0, 1, 7, 5488, 281488130048000, 85, 77, 68, 1, 1, 18, 4, 1, 1, 128, 1, 1, 0, 0, 0, 121110528, 73, 16384, None, 0), (12809722713, 12809743641, 0, 1, 7, 5496, 281488130048000, 86, 87, 69, 1, 1, 16, 6144, 1, 1, 128, 1, 1, 0, 0, 0, 121110528, 74, 16384, None, 0), (12809744377, 12809767257, 0, 1, 7, 5504, 281488130048000, 86, 87, 69, 1, 1, 16, 6144, 1, 1, 128, 1, 1, 0, 0, 0, 121110528, 75, 16384, None, 0), (12809770425, 12809897368, 0, 1, 7, 5518, 281488130048000, 89, 89, 89, 1, 4, 122, 6, 32, 3, 128, 1, 1, 12800, 0, 0, 121110528, 76, 65536, None, 0), (12809900824, 12810026744, 0, 1, 7, 5535, 281488130048000, 89, 89, 89, 1, 4, 122, 6, 32, 3, 128, 1, 1, 12800, 0, 0, 121110528, 77, 65536, None, 0), (12810029912, 12810156759, 0, 1, 7, 5556, 281488130048000, 89, 89, 89, 1, 4, 122, 6, 32, 3, 128, 1, 1, 12800, 0, 0, 121110528, 78, 65536, None, 0), (12810157527, 12810180024, 0, 1, 7, 5569, 281488130048000, 115, 87, 90, 1, 1, 16, 6144, 1, 1, 128, 1, 1, 0, 0, 0, 121110528, 79, 16384, None, 0), (12810180760, 12810208120, 0, 1, 7, 5580, 281488130048000, 115, 87, 90, 1, 1, 16, 6144, 1, 1, 128, 1, 1, 0, 0, 0, 121110528, 80, 16384, None, 0), (12810208823, 12810332663, 0, 1, 7, 5600, 281488130048000, 91, 91, 91, 1, 4, 118, 4, 4, 48, 256, 1, 1, 16640, 0, 0, 121110528, 81, 65536, None, 0), (12810333431, 12811058292, 0, 1, 7, 5605, 281488130048000, 129, 87, 104, 1, 1, 16, 49152, 1, 1, 128, 1, 1, 0, 0, 0, 121110528, 82, 16384, None, 0), (12811058996, 12811208147, 0, 1, 7, 5619, 281488130048000, 130, 131, 105, 1, 1, 40, 6144, 1, 1, 32, 4, 1, 0, 0, 0, 121110528, 83, 16384, None, 0), (12811208883, 12811379859, 0, 1, 7, 5649, 281488130048000, 79, 80, 64, 1, 1, 28, 504, 1, 1, 256, 1, 1, 0, 0, 0, 121110528, 84, 8192, None, 0), (12811380627, 12811402930, 0, 1, 7, 5663, 281488130048000, 115, 87, 90, 1, 1, 16, 6144, 1, 1, 128, 1, 1, 0, 0, 0, 121110528, 85, 16384, None, 0), (12811403634, 12811590162, 0, 1, 7, 5679, 281488130048000, 91, 91, 91, 1, 4, 118, 1, 4, 48, 256, 1, 1, 16640, 0, 0, 121110528, 86, 65536, None, 0), (12811590930, 12811610289, 0, 1, 7, 5690, 281488130048000, 115, 87, 90, 1, 1, 16, 6144, 1, 1, 128, 1, 1, 0, 0, 0, 121110528, 87, 16384, None, 0), (12811613426, 12811739665, 0, 1, 7, 5706, 281488130048000, 89, 89, 89, 1, 4, 122, 6, 32, 3, 128, 1, 1, 12800, 0, 0, 121110528, 88, 65536, None, 0), (12811740465, 12811764305, 0, 1, 7, 5731, 281488130048000, 79, 80, 64, 1, 1, 28, 504, 1, 1, 256, 1, 1, 0, 0, 0, 121110528, 89, 8192, None, 0), (12811765105, 12811795121, 0, 1, 7, 5739, 281488130048000, 132, 77, 106, 1, 1, 22, 3072, 1, 1, 128, 1, 1, 0, 0, 0, 121110528, 90, 16384, None, 0), (12811795825, 12811815696, 0, 1, 7, 5747, 281488130048000, 81, 77, 65, 1, 1, 16, 3072, 1, 1, 128, 1, 1, 0, 0, 0, 121110528, 91, 16384, None, 0), (12811816400, 12811825713, 0, 1, 7, 5759, 281488130048000, 82, 83, 66, 1, 1, 32, 128, 1, 1, 32, 16, 1, 16, 0, 0, 121110528, 92, 8192, None, 0), (12811826449, 12811828721, 0, 1, 7, 5767, 281488130048000, 84, 77, 67, 1, 1, 16, 4, 1, 1, 128, 1, 1, 0, 0, 0, 121110528, 93, 16384, None, 0), (12811829521, 12811831825, 0, 1, 7, 5775, 281488130048000, 85, 77, 68, 1, 1, 18, 4, 1, 1, 128, 1, 1, 0, 0, 0, 121110528, 94, 16384, None, 0), (12811832625, 12811853233, 0, 1, 7, 5783, 281488130048000, 86, 87, 69, 1, 1, 16, 6144, 1, 1, 128, 1, 1, 0, 0, 0, 121110528, 95, 16384, None, 0), (12811853969, 12811875953, 0, 1, 7, 5791, 281488130048000, 86, 87, 69, 1, 1, 16, 6144, 1, 1, 128, 1, 1, 0, 0, 0, 121110528, 96, 16384, None, 0), (12811876657, 12812207759, 0, 1, 7, 5802, 281488130048000, 89, 89, 89, 1, 4, 122, 16, 32, 1, 128, 1, 1, 12800, 0, 0, 121110528, 97, 65536, None, 0), (12812208559, 12812259887, 0, 1, 7, 5810, 281488130048000, 78, 77, 63, 1, 1, 16, 8192, 1, 1, 128, 1, 1, 0, 0, 0, 121110528, 98, 16384, None, 0), (12812260847, 12812312462, 0, 1, 7, 5818, 281488130048000, 133, 77, 107, 1, 1, 16, 8192, 1, 1, 128, 1, 1, 0, 0, 0, 121110528, 99, 16384, None, 0), (12812313230, 12812364974, 0, 1, 7, 5830, 281488130048000, 78, 77, 63, 1, 1, 16, 8192, 1, 1, 128, 1, 1, 0, 0, 0, 121110528, 100, 16384, None, 0), (12812365646, 12812441774, 0, 1, 7, 5838, 281488130048000, 132, 77, 106, 1, 1, 22, 8192, 1, 1, 128, 1, 1, 0, 0, 0, 121110528, 101, 16384, None, 0), (12812442478, 12812493485, 0, 1, 7, 5846, 281488130048000, 78, 77, 63, 1, 1, 16, 8192, 1, 1, 128, 1, 1, 0, 0, 0, 121110528, 102, 16384, None, 0), (12812494158, 12812546061, 0, 1, 7, 5854, 281488130048000, 134, 77, 108, 1, 1, 17, 8192, 1, 1, 128, 1, 1, 0, 0, 0, 121110528, 103, 16384, None, 0), (12812546893, 12812598413, 0, 1, 7, 5862, 281488130048000, 84, 77, 67, 1, 1, 16, 8192, 1, 1, 128, 1, 1, 0, 0, 0, 121110528, 104, 16384, None, 0), (12812599181, 12812674733, 0, 1, 7, 5874, 281488130048000, 135, 77, 109, 1, 1, 22, 8192, 1, 1, 128, 1, 1, 0, 0, 0, 121110528, 105, 16384, None, 0), (12812675501, 12813004876, 0, 1, 7, 5889, 281488130048000, 89, 89, 89, 1, 4, 122, 16, 32, 1, 128, 1, 1, 12800, 0, 0, 121110528, 106, 65536, None, 0), (12813005676, 12813081707, 0, 1, 7, 5901, 281488130048000, 135, 77, 109, 1, 1, 22, 8192, 1, 1, 128, 1, 1, 0, 0, 0, 121110528, 107, 16384, None, 0), (12813082475, 12813141516, 0, 1, 7, 5927, 281488130048000, 79, 80, 64, 1, 1, 28, 504, 1, 1, 256, 1, 1, 0, 0, 0, 121110528, 108, 8192, None, 0), (12813144812, 12813462281, 0, 1, 7, 5941, 281488130048000, 89, 89, 89, 1, 4, 122, 6, 32, 5, 128, 1, 1, 12800, 0, 0, 121110528, 109, 65536, None, 0), (12813463049, 12813487178, 0, 1, 7, 5966, 281488130048000, 79, 80, 64, 1, 1, 28, 504, 1, 1, 256, 1, 1, 0, 0, 0, 121110528, 110, 8192, None, 0), (12813487913, 12813517865, 0, 1, 7, 5974, 281488130048000, 132, 77, 106, 1, 1, 22, 3072, 1, 1, 128, 1, 1, 0, 0, 0, 121110528, 111, 16384, None, 0), (12813518633, 12813538570, 0, 1, 7, 5982, 281488130048000, 81, 77, 65, 1, 1, 16, 3072, 1, 1, 128, 1, 1, 0, 0, 0, 121110528, 112, 16384, None, 0), (12813539306, 12813548617, 0, 1, 7, 5994, 281488130048000, 82, 83, 66, 1, 1, 32, 128, 1, 1, 32, 16, 1, 16, 0, 0, 121110528, 113, 8192, None, 0), (12813549417, 12813551817, 0, 1, 7, 6002, 281488130048000, 84, 77, 67, 1, 1, 16, 4, 1, 1, 128, 1, 1, 0, 0, 0, 121110528, 114, 16384, None, 0), (12813552521, 12813554826, 0, 1, 7, 6010, 281488130048000, 85, 77, 68, 1, 1, 18, 4, 1, 1, 128, 1, 1, 0, 0, 0, 121110528, 115, 16384, None, 0), (12813555626, 12813576201, 0, 1, 7, 6018, 281488130048000, 86, 87, 69, 1, 1, 16, 6144, 1, 1, 128, 1, 1, 0, 0, 0, 121110528, 116, 16384, None, 0), (12813577353, 12813599465, 0, 1, 7, 6026, 281488130048000, 86, 87, 69, 1, 1, 16, 6144, 1, 1, 128, 1, 1, 0, 0, 0, 121110528, 117, 16384, None, 0), (12813602601, 12813729064, 0, 1, 7, 6044, 281488130048000, 89, 89, 89, 1, 4, 122, 6, 32, 3, 128, 1, 1, 12800, 0, 0, 121110528, 118, 65536, None, 0), (12813732169, 12813859272, 0, 1, 7, 6061, 281488130048000, 89, 89, 89, 1, 4, 122, 6, 32, 3, 128, 1, 1, 12800, 0, 0, 121110528, 119, 65536, None, 0), (12813862408, 12813988871, 0, 1, 7, 6078, 281488130048000, 89, 89, 89, 1, 4, 122, 6, 32, 3, 128, 1, 1, 12800, 0, 0, 121110528, 120, 65536, None, 0), (12813989575, 12814012360, 0, 1, 7, 6095, 281488130048000, 115, 87, 90, 1, 1, 16, 6144, 1, 1, 128, 1, 1, 0, 0, 0, 121110528, 121, 16384, None, 0), (12814013095, 12814040775, 0, 1, 7, 6106, 281488130048000, 115, 87, 90, 1, 1, 16, 6144, 1, 1, 128, 1, 1, 0, 0, 0, 121110528, 122, 16384, None, 0), (12814041447, 12814162759, 0, 1, 7, 6126, 281488130048000, 91, 91, 91, 1, 4, 118, 4, 4, 48, 256, 1, 1, 16640, 0, 0, 121110528, 123, 65536, None, 0), (12814163591, 12814888644, 0, 1, 7, 6131, 281488130048000, 129, 87, 104, 1, 1, 16, 49152, 1, 1, 128, 1, 1, 0, 0, 0, 121110528, 124, 16384, None, 0), (12814889412, 12815035971, 0, 1, 7, 6145, 281488130048000, 130, 131, 105, 1, 1, 40, 6144, 1, 1, 32, 4, 1, 0, 0, 0, 121110528, 125, 16384, None, 0), (12815036803, 12815209411, 0, 1, 7, 6175, 281488130048000, 79, 80, 64, 1, 1, 28, 504, 1, 1, 256, 1, 1, 0, 0, 0, 121110528, 126, 8192, None, 0), (12815210115, 12815232387, 0, 1, 7, 6185, 281488130048000, 115, 87, 90, 1, 1, 16, 6144, 1, 1, 128, 1, 1, 0, 0, 0, 121110528, 127, 16384, None, 0), (12815233091, 12815419810, 0, 1, 7, 6205, 281488130048000, 91, 91, 91, 1, 4, 118, 1, 4, 48, 256, 1, 1, 16640, 0, 0, 121110528, 128, 65536, None, 0), (12815420994, 12815440290, 0, 1, 7, 6216, 281488130048000, 115, 87, 90, 1, 1, 16, 6144, 1, 1, 128, 1, 1, 0, 0, 0, 121110528, 129, 16384, None, 0), (12815443522, 12815569697, 0, 1, 7, 6232, 281488130048000, 89, 89, 89, 1, 4, 122, 6, 32, 3, 128, 1, 1, 12800, 0, 0, 121110528, 130, 65536, None, 0), (12815570401, 12815594209, 0, 1, 7, 6257, 281488130048000, 79, 80, 64, 1, 1, 28, 504, 1, 1, 256, 1, 1, 0, 0, 0, 121110528, 131, 8192, None, 0), (12815594881, 12815624833, 0, 1, 7, 6265, 281488130048000, 132, 77, 106, 1, 1, 22, 3072, 1, 1, 128, 1, 1, 0, 0, 0, 121110528, 132, 16384, None, 0), (12815625505, 12815645313, 0, 1, 7, 6273, 281488130048000, 81, 77, 65, 1, 1, 16, 3072, 1, 1, 128, 1, 1, 0, 0, 0, 121110528, 133, 16384, None, 0), (12815646081, 12815655329, 0, 1, 7, 6285, 281488130048000, 82, 83, 66, 1, 1, 32, 128, 1, 1, 32, 16, 1, 16, 0, 0, 121110528, 134, 8192, None, 0), (12815656001, 12815658369, 0, 1, 7, 6293, 281488130048000, 84, 77, 67, 1, 1, 16, 4, 1, 1, 128, 1, 1, 0, 0, 0, 121110528, 135, 16384, None, 0), (12815659105, 12815661281, 0, 1, 7, 6301, 281488130048000, 85, 77, 68, 1, 1, 18, 4, 1, 1, 128, 1, 1, 0, 0, 0, 121110528, 136, 16384, None, 0), (12815662049, 12815682465, 0, 1, 7, 6309, 281488130048000, 86, 87, 69, 1, 1, 16, 6144, 1, 1, 128, 1, 1, 0, 0, 0, 121110528, 137, 16384, None, 0), (12815683137, 12815705025, 0, 1, 7, 6317, 281488130048000, 86, 87, 69, 1, 1, 16, 6144, 1, 1, 128, 1, 1, 0, 0, 0, 121110528, 138, 16384, None, 0), (12815705729, 12816035487, 0, 1, 7, 6328, 281488130048000, 89, 89, 89, 1, 4, 122, 16, 32, 1, 128, 1, 1, 12800, 0, 0, 121110528, 139, 65536, None, 0), (12816036255, 12816088351, 0, 1, 7, 6336, 281488130048000, 78, 77, 63, 1, 1, 16, 8192, 1, 1, 128, 1, 1, 0, 0, 0, 121110528, 140, 16384, None, 0), (12816089055, 12816141182, 0, 1, 7, 6344, 281488130048000, 133, 77, 107, 1, 1, 16, 8192, 1, 1, 128, 1, 1, 0, 0, 0, 121110528, 141, 16384, None, 0), (12816141982, 12816194014, 0, 1, 7, 6356, 281488130048000, 78, 77, 63, 1, 1, 16, 8192, 1, 1, 128, 1, 1, 0, 0, 0, 121110528, 142, 16384, None, 0), (12816194782, 12816270590, 0, 1, 7, 6364, 281488130048000, 132, 77, 106, 1, 1, 22, 8192, 1, 1, 128, 1, 1, 0, 0, 0, 121110528, 143, 16384, None, 0), (12816271262, 12816323166, 0, 1, 7, 6372, 281488130048000, 78, 77, 63, 1, 1, 16, 8192, 1, 1, 128, 1, 1, 0, 0, 0, 121110528, 144, 16384, None, 0), (12816323838, 12816375933, 0, 1, 7, 6380, 281488130048000, 134, 77, 108, 1, 1, 17, 8192, 1, 1, 128, 1, 1, 0, 0, 0, 121110528, 145, 16384, None, 0), (12816376637, 12816428445, 0, 1, 7, 6388, 281488130048000, 84, 77, 67, 1, 1, 16, 8192, 1, 1, 128, 1, 1, 0, 0, 0, 121110528, 146, 16384, None, 0), (12816429277, 12816505661, 0, 1, 7, 6400, 281488130048000, 135, 77, 109, 1, 1, 22, 8192, 1, 1, 128, 1, 1, 0, 0, 0, 121110528, 147, 16384, None, 0), (12816506429, 12816835420, 0, 1, 7, 6415, 281488130048000, 89, 89, 89, 1, 4, 122, 16, 32, 1, 128, 1, 1, 12800, 0, 0, 121110528, 148, 65536, None, 0), (12816836156, 12816911420, 0, 1, 7, 6427, 281488130048000, 135, 77, 109, 1, 1, 22, 8192, 1, 1, 128, 1, 1, 0, 0, 0, 121110528, 149, 16384, None, 0), (12816912156, 12816971228, 0, 1, 7, 6453, 281488130048000, 79, 80, 64, 1, 1, 28, 504, 1, 1, 256, 1, 1, 0, 0, 0, 121110528, 150, 8192, None, 0), (12816974332, 12817291802, 0, 1, 7, 6467, 281488130048000, 89, 89, 89, 1, 4, 122, 6, 32, 5, 128, 1, 1, 12800, 0, 0, 121110528, 151, 65536, None, 0), (12817292538, 12817316154, 0, 1, 7, 6492, 281488130048000, 79, 80, 64, 1, 1, 28, 504, 1, 1, 256, 1, 1, 0, 0, 0, 121110528, 152, 8192, None, 0), (12817316922, 12817347161, 0, 1, 7, 6500, 281488130048000, 132, 77, 106, 1, 1, 22, 3072, 1, 1, 128, 1, 1, 0, 0, 0, 121110528, 153, 16384, None, 0), (12817347897, 12817368346, 0, 1, 7, 6508, 281488130048000, 81, 77, 65, 1, 1, 16, 3072, 1, 1, 128, 1, 1, 0, 0, 0, 121110528, 154, 16384, None, 0), (12817369114, 12817378233, 0, 1, 7, 6520, 281488130048000, 82, 83, 66, 1, 1, 32, 128, 1, 1, 32, 16, 1, 16, 0, 0, 121110528, 155, 8192, None, 0), (12817379033, 12817381306, 0, 1, 7, 6528, 281488130048000, 84, 77, 67, 1, 1, 16, 4, 1, 1, 128, 1, 1, 0, 0, 0, 121110528, 156, 16384, None, 0), (12817382138, 12817384474, 0, 1, 7, 6536, 281488130048000, 85, 77, 68, 1, 1, 18, 4, 1, 1, 128, 1, 1, 0, 0, 0, 121110528, 157, 16384, None, 0), (12817385210, 12817406105, 0, 1, 7, 6544, 281488130048000, 86, 87, 69, 1, 1, 16, 6144, 1, 1, 128, 1, 1, 0, 0, 0, 121110528, 158, 16384, None, 0), (12817406905, 12817429657, 0, 1, 7, 6552, 281488130048000, 86, 87, 69, 1, 1, 16, 6144, 1, 1, 128, 1, 1, 0, 0, 0, 121110528, 159, 16384, None, 0), (12817433049, 12817559673, 0, 1, 7, 6566, 281488130048000, 89, 89, 89, 1, 4, 122, 6, 32, 3, 128, 1, 1, 12800, 0, 0, 121110528, 160, 65536, None, 0), (12817563097, 12817689560, 0, 1, 7, 6587, 281488130048000, 89, 89, 89, 1, 4, 122, 6, 32, 3, 128, 1, 1, 12800, 0, 0, 121110528, 161, 65536, None, 0), (12817692696, 12817819095, 0, 1, 7, 6604, 281488130048000, 89, 89, 89, 1, 4, 122, 6, 32, 3, 128, 1, 1, 12800, 0, 0, 121110528, 162, 65536, None, 0), (12817819799, 12817842424, 0, 1, 7, 6617, 281488130048000, 115, 87, 90, 1, 1, 16, 6144, 1, 1, 128, 1, 1, 0, 0, 0, 121110528, 163, 16384, None, 0), (12817843159, 12817870647, 0, 1, 7, 6632, 281488130048000, 115, 87, 90, 1, 1, 16, 6144, 1, 1, 128, 1, 1, 0, 0, 0, 121110528, 164, 16384, None, 0), (12817871351, 12817995095, 0, 1, 7, 6652, 281488130048000, 91, 91, 91, 1, 4, 118, 4, 4, 48, 256, 1, 1, 16640, 0, 0, 121110528, 165, 65536, None, 0), (12817995895, 12818720980, 0, 1, 7, 6657, 281488130048000, 129, 87, 104, 1, 1, 16, 49152, 1, 1, 128, 1, 1, 0, 0, 0, 121110528, 166, 16384, None, 0), (12818721812, 12818868691, 0, 1, 7, 6671, 281488130048000, 130, 131, 105, 1, 1, 40, 6144, 1, 1, 32, 4, 1, 0, 0, 0, 121110528, 167, 16384, None, 0), (12818869395, 12819040691, 0, 1, 7, 6697, 281488130048000, 79, 80, 64, 1, 1, 28, 504, 1, 1, 256, 1, 1, 0, 0, 0, 121110528, 168, 8192, None, 0), (12819041459, 12819063571, 0, 1, 7, 6711, 281488130048000, 115, 87, 90, 1, 1, 16, 6144, 1, 1, 128, 1, 1, 0, 0, 0, 121110528, 169, 16384, None, 0), (12819064339, 12819249746, 0, 1, 7, 6727, 281488130048000, 91, 91, 91, 1, 4, 118, 1, 4, 48, 256, 1, 1, 16640, 0, 0, 121110528, 170, 65536, None, 0), (12819250450, 12819269682, 0, 1, 7, 6738, 281488130048000, 115, 87, 90, 1, 1, 16, 6144, 1, 1, 128, 1, 1, 0, 0, 0, 121110528, 171, 16384, None, 0), (12819272882, 12819398769, 0, 1, 7, 6754, 281488130048000, 89, 89, 89, 1, 4, 122, 6, 32, 3, 128, 1, 1, 12800, 0, 0, 121110528, 172, 65536, None, 0), (12819399473, 12819423345, 0, 1, 7, 6779, 281488130048000, 79, 80, 64, 1, 1, 28, 504, 1, 1, 256, 1, 1, 0, 0, 0, 121110528, 173, 8192, None, 0), (12819424081, 12819453777, 0, 1, 7, 6787, 281488130048000, 132, 77, 106, 1, 1, 22, 3072, 1, 1, 128, 1, 1, 0, 0, 0, 121110528, 174, 16384, None, 0), (12819454449, 12819474545, 0, 1, 7, 6795, 281488130048000, 81, 77, 65, 1, 1, 16, 3072, 1, 1, 128, 1, 1, 0, 0, 0, 121110528, 175, 16384, None, 0), (12819475313, 12819484465, 0, 1, 7, 6807, 281488130048000, 82, 83, 66, 1, 1, 32, 128, 1, 1, 32, 16, 1, 16, 0, 0, 121110528, 176, 8192, None, 0), (12819485233, 12819487537, 0, 1, 7, 6815, 281488130048000, 84, 77, 67, 1, 1, 16, 4, 1, 1, 128, 1, 1, 0, 0, 0, 121110528, 177, 16384, None, 0), (12819488529, 12819490865, 0, 1, 7, 6823, 281488130048000, 85, 77, 68, 1, 1, 18, 4, 1, 1, 128, 1, 1, 0, 0, 0, 121110528, 178, 16384, None, 0), (12819491633, 12819512625, 0, 1, 7, 6831, 281488130048000, 86, 87, 69, 1, 1, 16, 6144, 1, 1, 128, 1, 1, 0, 0, 0, 121110528, 179, 16384, None, 0), (12819513329, 12819535409, 0, 1, 7, 6839, 281488130048000, 86, 87, 69, 1, 1, 16, 6144, 1, 1, 128, 1, 1, 0, 0, 0, 121110528, 180, 16384, None, 0), (12819536145, 12819864623, 0, 1, 7, 6850, 281488130048000, 89, 89, 89, 1, 4, 122, 16, 32, 1, 128, 1, 1, 12800, 0, 0, 121110528, 181, 65536, None, 0), (12819865295, 12819916687, 0, 1, 7, 6858, 281488130048000, 78, 77, 63, 1, 1, 16, 8192, 1, 1, 128, 1, 1, 0, 0, 0, 121110528, 182, 16384, None, 0), (12819917487, 12819968462, 0, 1, 7, 6866, 281488130048000, 133, 77, 107, 1, 1, 16, 8192, 1, 1, 128, 1, 1, 0, 0, 0, 121110528, 183, 16384, None, 0), (12819969134, 12820020846, 0, 1, 7, 6878, 281488130048000, 78, 77, 63, 1, 1, 16, 8192, 1, 1, 128, 1, 1, 0, 0, 0, 121110528, 184, 16384, None, 0), (12820021550, 12820097615, 0, 1, 7, 6886, 281488130048000, 132, 77, 106, 1, 1, 22, 8192, 1, 1, 128, 1, 1, 0, 0, 0, 121110528, 185, 16384, None, 0), (12820098383, 12820150255, 0, 1, 7, 6894, 281488130048000, 78, 77, 63, 1, 1, 16, 8192, 1, 1, 128, 1, 1, 0, 0, 0, 121110528, 186, 16384, None, 0), (12820150959, 12820203150, 0, 1, 7, 6902, 281488130048000, 134, 77, 108, 1, 1, 17, 8192, 1, 1, 128, 1, 1, 0, 0, 0, 121110528, 187, 16384, None, 0), (12820203917, 12820255374, 0, 1, 7, 6910, 281488130048000, 84, 77, 67, 1, 1, 16, 8192, 1, 1, 128, 1, 1, 0, 0, 0, 121110528, 188, 16384, None, 0), (12820256142, 12820332014, 0, 1, 7, 6922, 281488130048000, 135, 77, 109, 1, 1, 22, 8192, 1, 1, 128, 1, 1, 0, 0, 0, 121110528, 189, 16384, None, 0), (12820332718, 12820660908, 0, 1, 7, 6937, 281488130048000, 89, 89, 89, 1, 4, 122, 16, 32, 1, 128, 1, 1, 12800, 0, 0, 121110528, 190, 65536, None, 0), (12820661708, 12820737292, 0, 1, 7, 6949, 281488130048000, 135, 77, 109, 1, 1, 22, 8192, 1, 1, 128, 1, 1, 0, 0, 0, 121110528, 191, 16384, None, 0), (12820737964, 12820797676, 0, 1, 7, 6975, 281488130048000, 79, 80, 64, 1, 1, 28, 504, 1, 1, 256, 1, 1, 0, 0, 0, 121110528, 192, 8192, None, 0), (12820800652, 12821117482, 0, 1, 7, 6989, 281488130048000, 89, 89, 89, 1, 4, 122, 6, 32, 5, 128, 1, 1, 12800, 0, 0, 121110528, 193, 65536, None, 0), (12821118251, 12821142250, 0, 1, 7, 7014, 281488130048000, 79, 80, 64, 1, 1, 28, 504, 1, 1, 256, 1, 1, 0, 0, 0, 121110528, 194, 8192, None, 0), (12821142986, 12821172970, 0, 1, 7, 7022, 281488130048000, 132, 77, 106, 1, 1, 22, 3072, 1, 1, 128, 1, 1, 0, 0, 0, 121110528, 195, 16384, None, 0), (12821173770, 12821193482, 0, 1, 7, 7030, 281488130048000, 81, 77, 65, 1, 1, 16, 3072, 1, 1, 128, 1, 1, 0, 0, 0, 121110528, 196, 16384, None, 0), (12821194218, 12821203081, 0, 1, 7, 7042, 281488130048000, 82, 83, 66, 1, 1, 32, 128, 1, 1, 32, 16, 1, 16, 0, 0, 121110528, 197, 8192, None, 0), (12821203785, 12821206314, 0, 1, 7, 7050, 281488130048000, 84, 77, 67, 1, 1, 16, 4, 1, 1, 128, 1, 1, 0, 0, 0, 121110528, 198, 16384, None, 0), (12821207018, 12821209194, 0, 1, 7, 7058, 281488130048000, 85, 77, 68, 1, 1, 18, 4, 1, 1, 128, 1, 1, 0, 0, 0, 121110528, 199, 16384, None, 0), (12821209994, 12821230377, 0, 1, 7, 7066, 281488130048000, 86, 87, 69, 1, 1, 16, 6144, 1, 1, 128, 1, 1, 0, 0, 0, 121110528, 200, 16384, None, 0), (12821231529, 12821253641, 0, 1, 7, 7074, 281488130048000, 86, 87, 69, 1, 1, 16, 6144, 1, 1, 128, 1, 1, 0, 0, 0, 121110528, 201, 16384, None, 0), (12821256617, 12821383178, 0, 1, 7, 7092, 281488130048000, 89, 89, 89, 1, 4, 122, 6, 32, 3, 128, 1, 1, 12800, 0, 0, 121110528, 202, 65536, None, 0), (12821386185, 12821512489, 0, 1, 7, 7109, 281488130048000, 89, 89, 89, 1, 4, 122, 6, 32, 3, 128, 1, 1, 12800, 0, 0, 121110528, 203, 65536, None, 0), (12821515592, 12821642504, 0, 1, 7, 7126, 281488130048000, 89, 89, 89, 1, 4, 122, 6, 32, 3, 128, 1, 1, 12800, 0, 0, 121110528, 204, 65536, None, 0), (12821643304, 12821665896, 0, 1, 7, 7143, 281488130048000, 115, 87, 90, 1, 1, 16, 6144, 1, 1, 128, 1, 1, 0, 0, 0, 121110528, 205, 16384, None, 0), (12821666664, 12821693896, 0, 1, 7, 7154, 281488130048000, 115, 87, 90, 1, 1, 16, 6144, 1, 1, 128, 1, 1, 0, 0, 0, 121110528, 206, 16384, None, 0), (12821694664, 12821818439, 0, 1, 7, 7174, 281488130048000, 91, 91, 91, 1, 4, 118, 4, 4, 48, 256, 1, 1, 16640, 0, 0, 121110528, 207, 65536, None, 0), (12821819239, 12822544004, 0, 1, 7, 7179, 281488130048000, 129, 87, 104, 1, 1, 16, 49152, 1, 1, 128, 1, 1, 0, 0, 0, 121110528, 208, 16384, None, 0), (12822544708, 12822691908, 0, 1, 7, 7193, 281488130048000, 130, 131, 105, 1, 1, 40, 6144, 1, 1, 32, 4, 1, 0, 0, 0, 121110528, 209, 16384, None, 0), (12822692676, 12822864643, 0, 1, 7, 7223, 281488130048000, 79, 80, 64, 1, 1, 28, 504, 1, 1, 256, 1, 1, 0, 0, 0, 121110528, 210, 8192, None, 0), (12822865379, 12822887843, 0, 1, 7, 7233, 281488130048000, 115, 87, 90, 1, 1, 16, 6144, 1, 1, 128, 1, 1, 0, 0, 0, 121110528, 211, 16384, None, 0), (12822888579, 12823075970, 0, 1, 7, 7253, 281488130048000, 91, 91, 91, 1, 4, 118, 1, 4, 48, 256, 1, 1, 16640, 0, 0, 121110528, 212, 65536, None, 0), (12823076770, 12823096034, 0, 1, 7, 7264, 281488130048000, 115, 87, 90, 1, 1, 16, 6144, 1, 1, 128, 1, 1, 0, 0, 0, 121110528, 213, 16384, None, 0), (12823099362, 12823226721, 0, 1, 7, 7280, 281488130048000, 89, 89, 89, 1, 4, 122, 6, 32, 3, 128, 1, 1, 12800, 0, 0, 121110528, 214, 65536, None, 0), (12823227393, 12823251489, 0, 1, 7, 7305, 281488130048000, 79, 80, 64, 1, 1, 28, 504, 1, 1, 256, 1, 1, 0, 0, 0, 121110528, 215, 8192, None, 0), (12823252321, 12823282209, 0, 1, 7, 7313, 281488130048000, 132, 77, 106, 1, 1, 22, 3072, 1, 1, 128, 1, 1, 0, 0, 0, 121110528, 216, 16384, None, 0), (12823282977, 12823302657, 0, 1, 7, 7321, 281488130048000, 81, 77, 65, 1, 1, 16, 3072, 1, 1, 128, 1, 1, 0, 0, 0, 121110528, 217, 16384, None, 0), (12823303393, 12823312769, 0, 1, 7, 7333, 281488130048000, 82, 83, 66, 1, 1, 32, 128, 1, 1, 32, 16, 1, 16, 0, 0, 121110528, 218, 8192, None, 0), (12823313569, 12823315873, 0, 1, 7, 7341, 281488130048000, 84, 77, 67, 1, 1, 16, 4, 1, 1, 128, 1, 1, 0, 0, 0, 121110528, 219, 16384, None, 0), (12823316641, 12823318977, 0, 1, 7, 7349, 281488130048000, 85, 77, 68, 1, 1, 18, 4, 1, 1, 128, 1, 1, 0, 0, 0, 121110528, 220, 16384, None, 0), (12823319777, 12823340737, 0, 1, 7, 7357, 281488130048000, 86, 87, 69, 1, 1, 16, 6144, 1, 1, 128, 1, 1, 0, 0, 0, 121110528, 221, 16384, None, 0), (12823341473, 12823364065, 0, 1, 7, 7365, 281488130048000, 86, 87, 69, 1, 1, 16, 6144, 1, 1, 128, 1, 1, 0, 0, 0, 121110528, 222, 16384, None, 0), (12823364769, 12823695199, 0, 1, 7, 7376, 281488130048000, 89, 89, 89, 1, 4, 122, 16, 32, 1, 128, 1, 1, 12800, 0, 0, 121110528, 223, 65536, None, 0), (12823695903, 12823747039, 0, 1, 7, 7384, 281488130048000, 78, 77, 63, 1, 1, 16, 8192, 1, 1, 128, 1, 1, 0, 0, 0, 121110528, 224, 16384, None, 0), (12823747711, 12823799647, 0, 1, 7, 7392, 281488130048000, 133, 77, 107, 1, 1, 16, 8192, 1, 1, 128, 1, 1, 0, 0, 0, 121110528, 225, 16384, None, 0), (12823800447, 12823852254, 0, 1, 7, 7404, 281488130048000, 78, 77, 63, 1, 1, 16, 8192, 1, 1, 128, 1, 1, 0, 0, 0, 121110528, 226, 16384, None, 0), (12823852926, 12823929023, 0, 1, 7, 7412, 281488130048000, 132, 77, 106, 1, 1, 22, 8192, 1, 1, 128, 1, 1, 0, 0, 0, 121110528, 227, 16384, None, 0), (12823929726, 12823980895, 0, 1, 7, 7420, 281488130048000, 78, 77, 63, 1, 1, 16, 8192, 1, 1, 128, 1, 1, 0, 0, 0, 121110528, 228, 16384, None, 0), (12823981694, 12824034142, 0, 1, 7, 7428, 281488130048000, 134, 77, 108, 1, 1, 17, 8192, 1, 1, 128, 1, 1, 0, 0, 0, 121110528, 229, 16384, None, 0), (12824034846, 12824086845, 0, 1, 7, 7436, 281488130048000, 84, 77, 67, 1, 1, 16, 8192, 1, 1, 128, 1, 1, 0, 0, 0, 121110528, 230, 16384, None, 0), (12824087581, 12824163582, 0, 1, 7, 7448, 281488130048000, 135, 77, 109, 1, 1, 22, 8192, 1, 1, 128, 1, 1, 0, 0, 0, 121110528, 231, 16384, None, 0), (12824164286, 12824494236, 0, 1, 7, 7463, 281488130048000, 89, 89, 89, 1, 4, 122, 16, 32, 1, 128, 1, 1, 12800, 0, 0, 121110528, 232, 65536, None, 0), (12824495036, 12824571068, 0, 1, 7, 7475, 281488130048000, 135, 77, 109, 1, 1, 22, 8192, 1, 1, 128, 1, 1, 0, 0, 0, 121110528, 233, 16384, None, 0), (12824571868, 12824631772, 0, 1, 7, 7501, 281488130048000, 79, 80, 64, 1, 1, 28, 504, 1, 1, 256, 1, 1, 0, 0, 0, 121110528, 234, 8192, None, 0), (12824634876, 12824953626, 0, 1, 7, 7515, 281488130048000, 89, 89, 89, 1, 4, 122, 6, 32, 5, 128, 1, 1, 12800, 0, 0, 121110528, 235, 65536, None, 0), (12824954362, 12824978363, 0, 1, 7, 7540, 281488130048000, 79, 80, 64, 1, 1, 28, 504, 1, 1, 256, 1, 1, 0, 0, 0, 121110528, 236, 8192, None, 0), (12824979130, 12825009338, 0, 1, 7, 7548, 281488130048000, 132, 77, 106, 1, 1, 22, 3072, 1, 1, 128, 1, 1, 0, 0, 0, 121110528, 237, 16384, None, 0), (12825010074, 12825029914, 0, 1, 7, 7556, 281488130048000, 81, 77, 65, 1, 1, 16, 3072, 1, 1, 128, 1, 1, 0, 0, 0, 121110528, 238, 16384, None, 0), (12825030650, 12825039706, 0, 1, 7, 7568, 281488130048000, 82, 83, 66, 1, 1, 32, 128, 1, 1, 32, 16, 1, 16, 0, 0, 121110528, 239, 8192, None, 0), (12825040474, 12825042746, 0, 1, 7, 7576, 281488130048000, 84, 77, 67, 1, 1, 16, 4, 1, 1, 128, 1, 1, 0, 0, 0, 121110528, 240, 16384, None, 0), (12825043578, 12825045786, 0, 1, 7, 7584, 281488130048000, 85, 77, 68, 1, 1, 18, 4, 1, 1, 128, 1, 1, 0, 0, 0, 121110528, 241, 16384, None, 0), (12825046490, 12825066874, 0, 1, 7, 7592, 281488130048000, 86, 87, 69, 1, 1, 16, 6144, 1, 1, 128, 1, 1, 0, 0, 0, 121110528, 242, 16384, None, 0), (12825067610, 12825089689, 0, 1, 7, 7600, 281488130048000, 86, 87, 69, 1, 1, 16, 6144, 1, 1, 128, 1, 1, 0, 0, 0, 121110528, 243, 16384, None, 0), (12825093050, 12825219737, 0, 1, 7, 7614, 281488130048000, 89, 89, 89, 1, 4, 122, 6, 32, 3, 128, 1, 1, 12800, 0, 0, 121110528, 244, 65536, None, 0), (12825223097, 12825349784, 0, 1, 7, 7635, 281488130048000, 89, 89, 89, 1, 4, 122, 6, 32, 3, 128, 1, 1, 12800, 0, 0, 121110528, 245, 65536, None, 0), (12825352824, 12825478552, 0, 1, 7, 7652, 281488130048000, 89, 89, 89, 1, 4, 122, 6, 32, 3, 128, 1, 1, 12800, 0, 0, 121110528, 246, 65536, None, 0), (12825479288, 12825501944, 0, 1, 7, 7665, 281488130048000, 115, 87, 90, 1, 1, 16, 6144, 1, 1, 128, 1, 1, 0, 0, 0, 121110528, 247, 16384, None, 0), (12825502648, 12825529847, 0, 1, 7, 7680, 281488130048000, 115, 87, 90, 1, 1, 16, 6144, 1, 1, 128, 1, 1, 0, 0, 0, 121110528, 248, 16384, None, 0), (12825530583, 12825653432, 0, 1, 7, 7700, 281488130048000, 91, 91, 91, 1, 4, 118, 4, 4, 48, 256, 1, 1, 16640, 0, 0, 121110528, 249, 65536, None, 0), (12825654136, 12826379540, 0, 1, 7, 7705, 281488130048000, 129, 87, 104, 1, 1, 16, 49152, 1, 1, 128, 1, 1, 0, 0, 0, 121110528, 250, 16384, None, 0), (12826380212, 12826525812, 0, 1, 7, 7719, 281488130048000, 130, 131, 105, 1, 1, 40, 6144, 1, 1, 32, 4, 1, 0, 0, 0, 121110528, 251, 16384, None, 0), (12826526515, 12826697427, 0, 1, 7, 7745, 281488130048000, 79, 80, 64, 1, 1, 28, 504, 1, 1, 256, 1, 1, 0, 0, 0, 121110528, 252, 8192, None, 0), (12826698259, 12826720467, 0, 1, 7, 7759, 281488130048000, 115, 87, 90, 1, 1, 16, 6144, 1, 1, 128, 1, 1, 0, 0, 0, 121110528, 253, 16384, None, 0), (12826721171, 12826907954, 0, 1, 7, 7775, 281488130048000, 91, 91, 91, 1, 4, 118, 1, 4, 48, 256, 1, 1, 16640, 0, 0, 121110528, 254, 65536, None, 0), (12826908754, 12826928242, 0, 1, 7, 7786, 281488130048000, 115, 87, 90, 1, 1, 16, 6144, 1, 1, 128, 1, 1, 0, 0, 0, 121110528, 255, 16384, None, 0), (12826931218, 12827057681, 0, 1, 7, 7802, 281488130048000, 89, 89, 89, 1, 4, 122, 6, 32, 3, 128, 1, 1, 12800, 0, 0, 121110528, 256, 65536, None, 0), (12827058513, 12827082513, 0, 1, 7, 7827, 281488130048000, 79, 80, 64, 1, 1, 28, 504, 1, 1, 256, 1, 1, 0, 0, 0, 121110528, 257, 8192, None, 0), (12827083217, 12827113201, 0, 1, 7, 7835, 281488130048000, 132, 77, 106, 1, 1, 22, 3072, 1, 1, 128, 1, 1, 0, 0, 0, 121110528, 258, 16384, None, 0), (12827114001, 12827134129, 0, 1, 7, 7843, 281488130048000, 81, 77, 65, 1, 1, 16, 3072, 1, 1, 128, 1, 1, 0, 0, 0, 121110528, 259, 16384, None, 0), (12827134865, 12827144145, 0, 1, 7, 7855, 281488130048000, 82, 83, 66, 1, 1, 32, 128, 1, 1, 32, 16, 1, 16, 0, 0, 121110528, 260, 8192, None, 0), (12827144881, 12827147281, 0, 1, 7, 7863, 281488130048000, 84, 77, 67, 1, 1, 16, 4, 1, 1, 128, 1, 1, 0, 0, 0, 121110528, 261, 16384, None, 0), (12827147985, 12827150481, 0, 1, 7, 7871, 281488130048000, 85, 77, 68, 1, 1, 18, 4, 1, 1, 128, 1, 1, 0, 0, 0, 121110528, 262, 16384, None, 0), (12827151217, 12827171633, 0, 1, 7, 7879, 281488130048000, 86, 87, 69, 1, 1, 16, 6144, 1, 1, 128, 1, 1, 0, 0, 0, 121110528, 263, 16384, None, 0), (12827172337, 12827194193, 0, 1, 7, 7887, 281488130048000, 86, 87, 69, 1, 1, 16, 6144, 1, 1, 128, 1, 1, 0, 0, 0, 121110528, 264, 16384, None, 0), (12827194993, 12827524239, 0, 1, 7, 7898, 281488130048000, 89, 89, 89, 1, 4, 122, 16, 32, 1, 128, 1, 1, 12800, 0, 0, 121110528, 265, 65536, None, 0), (12827524975, 12827575759, 0, 1, 7, 7906, 281488130048000, 78, 77, 63, 1, 1, 16, 8192, 1, 1, 128, 1, 1, 0, 0, 0, 121110528, 266, 16384, None, 0), (12827576527, 12827628176, 0, 1, 7, 7914, 281488130048000, 133, 77, 107, 1, 1, 16, 8192, 1, 1, 128, 1, 1, 0, 0, 0, 121110528, 267, 16384, None, 0), (12827628879, 12827680942, 0, 1, 7, 7926, 281488130048000, 78, 77, 63, 1, 1, 16, 8192, 1, 1, 128, 1, 1, 0, 0, 0, 121110528, 268, 16384, None, 0), (12827681646, 12827757487, 0, 1, 7, 7934, 281488130048000, 132, 77, 106, 1, 1, 22, 8192, 1, 1, 128, 1, 1, 0, 0, 0, 121110528, 269, 16384, None, 0), (12827758223, 12827810095, 0, 1, 7, 7942, 281488130048000, 78, 77, 63, 1, 1, 16, 8192, 1, 1, 128, 1, 1, 0, 0, 0, 121110528, 270, 16384, None, 0), (12827810767, 12827862479, 0, 1, 7, 7950, 281488130048000, 134, 77, 108, 1, 1, 17, 8192, 1, 1, 128, 1, 1, 0, 0, 0, 121110528, 271, 16384, None, 0), (12827863247, 12827915438, 0, 1, 7, 7958, 281488130048000, 84, 77, 67, 1, 1, 16, 8192, 1, 1, 128, 1, 1, 0, 0, 0, 121110528, 272, 16384, None, 0), (12827916174, 12827993070, 0, 1, 7, 7970, 281488130048000, 135, 77, 109, 1, 1, 22, 8192, 1, 1, 128, 1, 1, 0, 0, 0, 121110528, 273, 16384, None, 0), (12827993870, 12828324556, 0, 1, 7, 7985, 281488130048000, 89, 89, 89, 1, 4, 122, 16, 32, 1, 128, 1, 1, 12800, 0, 0, 121110528, 274, 65536, None, 0), (12828325324, 12828401324, 0, 1, 7, 7997, 281488130048000, 135, 77, 109, 1, 1, 22, 8192, 1, 1, 128, 1, 1, 0, 0, 0, 121110528, 275, 16384, None, 0), (12828402124, 12828461804, 0, 1, 7, 8023, 281488130048000, 79, 80, 64, 1, 1, 28, 504, 1, 1, 256, 1, 1, 0, 0, 0, 121110528, 276, 8192, None, 0), (12828465228, 12828782922, 0, 1, 7, 8037, 281488130048000, 89, 89, 89, 1, 4, 122, 6, 32, 5, 128, 1, 1, 12800, 0, 0, 121110528, 277, 65536, None, 0), (12828783722, 12828807883, 0, 1, 7, 8062, 281488130048000, 79, 80, 64, 1, 1, 28, 504, 1, 1, 256, 1, 1, 0, 0, 0, 121110528, 278, 8192, None, 0), (12828808651, 12828838122, 0, 1, 7, 8070, 281488130048000, 132, 77, 106, 1, 1, 22, 3072, 1, 1, 128, 1, 1, 0, 0, 0, 121110528, 279, 16384, None, 0), (12828838826, 12828858378, 0, 1, 7, 8078, 281488130048000, 81, 77, 65, 1, 1, 16, 3072, 1, 1, 128, 1, 1, 0, 0, 0, 121110528, 280, 16384, None, 0), (12828859211, 12828868298, 0, 1, 7, 8090, 281488130048000, 82, 83, 66, 1, 1, 32, 128, 1, 1, 32, 16, 1, 16, 0, 0, 121110528, 281, 8192, None, 0), (12828869130, 12828871402, 0, 1, 7, 8098, 281488130048000, 84, 77, 67, 1, 1, 16, 4, 1, 1, 128, 1, 1, 0, 0, 0, 121110528, 282, 16384, None, 0), (12828872202, 12828874538, 0, 1, 7, 8106, 281488130048000, 85, 77, 68, 1, 1, 18, 4, 1, 1, 128, 1, 1, 0, 0, 0, 121110528, 283, 16384, None, 0), (12828875338, 12828895914, 0, 1, 7, 8114, 281488130048000, 86, 87, 69, 1, 1, 16, 6144, 1, 1, 128, 1, 1, 0, 0, 0, 121110528, 284, 16384, None, 0), (12828897226, 12828919722, 0, 1, 7, 8122, 281488130048000, 86, 87, 69, 1, 1, 16, 6144, 1, 1, 128, 1, 1, 0, 0, 0, 121110528, 285, 16384, None, 0), (12828923242, 12829049513, 0, 1, 7, 8140, 281488130048000, 89, 89, 89, 1, 4, 122, 6, 32, 3, 128, 1, 1, 12800, 0, 0, 121110528, 286, 65536, None, 0), (12829052521, 12829178696, 0, 1, 7, 8157, 281488130048000, 89, 89, 89, 1, 4, 122, 6, 32, 3, 128, 1, 1, 12800, 0, 0, 121110528, 287, 65536, None, 0), (12829181672, 12829308136, 0, 1, 7, 8174, 281488130048000, 89, 89, 89, 1, 4, 122, 6, 32, 3, 128, 1, 1, 12800, 0, 0, 121110528, 288, 65536, None, 0), (12829308904, 12829331593, 0, 1, 7, 8191, 281488130048000, 115, 87, 90, 1, 1, 16, 6144, 1, 1, 128, 1, 1, 0, 0, 0, 121110528, 289, 16384, None, 0), (12829332393, 12829359657, 0, 1, 7, 8202, 281488130048000, 115, 87, 90, 1, 1, 16, 6144, 1, 1, 128, 1, 1, 0, 0, 0, 121110528, 290, 16384, None, 0), (12829360328, 12829480072, 0, 1, 7, 8222, 281488130048000, 91, 91, 91, 1, 4, 118, 4, 4, 48, 256, 1, 1, 16640, 0, 0, 121110528, 291, 65536, None, 0), (12829480840, 12830206148, 0, 1, 7, 8227, 281488130048000, 129, 87, 104, 1, 1, 16, 49152, 1, 1, 128, 1, 1, 0, 0, 0, 121110528, 292, 16384, None, 0), (12830206820, 12830354372, 0, 1, 7, 8241, 281488130048000, 130, 131, 105, 1, 1, 40, 6144, 1, 1, 32, 4, 1, 0, 0, 0, 121110528, 293, 16384, None, 0), (12830355044, 12830526147, 0, 1, 7, 8271, 281488130048000, 79, 80, 64, 1, 1, 28, 504, 1, 1, 256, 1, 1, 0, 0, 0, 121110528, 294, 8192, None, 0), (12830526947, 12830549027, 0, 1, 7, 8281, 281488130048000, 115, 87, 90, 1, 1, 16, 6144, 1, 1, 128, 1, 1, 0, 0, 0, 121110528, 295, 16384, None, 0), (12830549827, 12830735938, 0, 1, 7, 8301, 281488130048000, 91, 91, 91, 1, 4, 118, 1, 4, 48, 256, 1, 1, 16640, 0, 0, 121110528, 296, 65536, None, 0), (12830737122, 12830756130, 0, 1, 7, 8312, 281488130048000, 115, 87, 90, 1, 1, 16, 6144, 1, 1, 128, 1, 1, 0, 0, 0, 121110528, 297, 16384, None, 0), (12830759202, 12830886017, 0, 1, 7, 8328, 281488130048000, 89, 89, 89, 1, 4, 122, 6, 32, 3, 128, 1, 1, 12800, 0, 0, 121110528, 298, 65536, None, 0), (12830886753, 12830910817, 0, 1, 7, 8353, 281488130048000, 79, 80, 64, 1, 1, 28, 504, 1, 1, 256, 1, 1, 0, 0, 0, 121110528, 299, 8192, None, 0), (12830911521, 12830941185, 0, 1, 7, 8361, 281488130048000, 132, 77, 106, 1, 1, 22, 3072, 1, 1, 128, 1, 1, 0, 0, 0, 121110528, 300, 16384, None, 0), (12830941985, 12830961793, 0, 1, 7, 8369, 281488130048000, 81, 77, 65, 1, 1, 16, 3072, 1, 1, 128, 1, 1, 0, 0, 0, 121110528, 301, 16384, None, 0), (12830962625, 12830971745, 0, 1, 7, 8381, 281488130048000, 82, 83, 66, 1, 1, 32, 128, 1, 1, 32, 16, 1, 16, 0, 0, 121110528, 302, 8192, None, 0), (12830972513, 12830974817, 0, 1, 7, 8389, 281488130048000, 84, 77, 67, 1, 1, 16, 4, 1, 1, 128, 1, 1, 0, 0, 0, 121110528, 303, 16384, None, 0), (12830975585, 12830977921, 0, 1, 7, 8397, 281488130048000, 85, 77, 68, 1, 1, 18, 4, 1, 1, 128, 1, 1, 0, 0, 0, 121110528, 304, 16384, None, 0), (12830978722, 12830999393, 0, 1, 7, 8405, 281488130048000, 86, 87, 69, 1, 1, 16, 6144, 1, 1, 128, 1, 1, 0, 0, 0, 121110528, 305, 16384, None, 0), (12831000065, 12831022209, 0, 1, 7, 8413, 281488130048000, 86, 87, 69, 1, 1, 16, 6144, 1, 1, 128, 1, 1, 0, 0, 0, 121110528, 306, 16384, None, 0), (12831022913, 12831352064, 0, 1, 7, 8424, 281488130048000, 89, 89, 89, 1, 4, 122, 16, 32, 1, 128, 1, 1, 12800, 0, 0, 121110528, 307, 65536, None, 0), (12831352800, 12831404160, 0, 1, 7, 8432, 281488130048000, 78, 77, 63, 1, 1, 16, 8192, 1, 1, 128, 1, 1, 0, 0, 0, 121110528, 308, 16384, None, 0), (12831404928, 12831456544, 0, 1, 7, 8440, 281488130048000, 133, 77, 107, 1, 1, 16, 8192, 1, 1, 128, 1, 1, 0, 0, 0, 121110528, 309, 16384, None, 0), (12831457376, 12831508288, 0, 1, 7, 8452, 281488130048000, 78, 77, 63, 1, 1, 16, 8192, 1, 1, 128, 1, 1, 0, 0, 0, 121110528, 310, 16384, None, 0), (12831509088, 12831585951, 0, 1, 7, 8460, 281488130048000, 132, 77, 106, 1, 1, 22, 8192, 1, 1, 128, 1, 1, 0, 0, 0, 121110528, 311, 16384, None, 0), (12831586623, 12831638143, 0, 1, 7, 8468, 281488130048000, 78, 77, 63, 1, 1, 16, 8192, 1, 1, 128, 1, 1, 0, 0, 0, 121110528, 312, 16384, None, 0), (12831638847, 12831690975, 0, 1, 7, 8476, 281488130048000, 134, 77, 108, 1, 1, 17, 8192, 1, 1, 128, 1, 1, 0, 0, 0, 121110528, 313, 16384, None, 0), (12831691775, 12831743583, 0, 1, 7, 8484, 281488130048000, 84, 77, 67, 1, 1, 16, 8192, 1, 1, 128, 1, 1, 0, 0, 0, 121110528, 314, 16384, None, 0), (12831744383, 12831820030, 0, 1, 7, 8496, 281488130048000, 135, 77, 109, 1, 1, 22, 8192, 1, 1, 128, 1, 1, 0, 0, 0, 121110528, 315, 16384, None, 0), (12831820734, 12832150748, 0, 1, 7, 8511, 281488130048000, 89, 89, 89, 1, 4, 122, 16, 32, 1, 128, 1, 1, 12800, 0, 0, 121110528, 316, 65536, None, 0), (12832151580, 12832227164, 0, 1, 7, 8523, 281488130048000, 135, 77, 109, 1, 1, 22, 8192, 1, 1, 128, 1, 1, 0, 0, 0, 121110528, 317, 16384, None, 0), (12832227836, 12832286972, 0, 1, 7, 8549, 281488130048000, 79, 80, 64, 1, 1, 28, 504, 1, 1, 256, 1, 1, 0, 0, 0, 121110528, 318, 8192, None, 0), (12832290076, 12832608507, 0, 1, 7, 8563, 281488130048000, 89, 89, 89, 1, 4, 122, 6, 32, 5, 128, 1, 1, 12800, 0, 0, 121110528, 319, 65536, None, 0), (12832609211, 12832633115, 0, 1, 7, 8588, 281488130048000, 79, 80, 64, 1, 1, 28, 504, 1, 1, 256, 1, 1, 0, 0, 0, 121110528, 320, 8192, None, 0), (12832633883, 12832663515, 0, 1, 7, 8596, 281488130048000, 132, 77, 106, 1, 1, 22, 3072, 1, 1, 128, 1, 1, 0, 0, 0, 121110528, 321, 16384, None, 0), (12832664219, 12832684282, 0, 1, 7, 8604, 281488130048000, 81, 77, 65, 1, 1, 16, 3072, 1, 1, 128, 1, 1, 0, 0, 0, 121110528, 322, 16384, None, 0), (12832685082, 12832693946, 0, 1, 7, 8616, 281488130048000, 82, 83, 66, 1, 1, 32, 128, 1, 1, 32, 16, 1, 16, 0, 0, 121110528, 323, 8192, None, 0), (12832694650, 12832696922, 0, 1, 7, 8624, 281488130048000, 84, 77, 67, 1, 1, 16, 4, 1, 1, 128, 1, 1, 0, 0, 0, 121110528, 324, 16384, None, 0), (12832697594, 12832699930, 0, 1, 7, 8632, 281488130048000, 85, 77, 68, 1, 1, 18, 4, 1, 1, 128, 1, 1, 0, 0, 0, 121110528, 325, 16384, None, 0), (12832700698, 12832720954, 0, 1, 7, 8640, 281488130048000, 86, 87, 69, 1, 1, 16, 6144, 1, 1, 128, 1, 1, 0, 0, 0, 121110528, 326, 16384, None, 0), (12832721754, 12832744217, 0, 1, 7, 8648, 281488130048000, 86, 87, 69, 1, 1, 16, 6144, 1, 1, 128, 1, 1, 0, 0, 0, 121110528, 327, 16384, None, 0), (12832747546, 12832873498, 0, 1, 7, 8662, 281488130048000, 89, 89, 89, 1, 4, 122, 6, 32, 3, 128, 1, 1, 12800, 0, 0, 121110528, 328, 65536, None, 0), (12832876825, 12833003801, 0, 1, 7, 8683, 281488130048000, 89, 89, 89, 1, 4, 122, 6, 32, 3, 128, 1, 1, 12800, 0, 0, 121110528, 329, 65536, None, 0), (12833006904, 12833132793, 0, 1, 7, 8700, 281488130048000, 89, 89, 89, 1, 4, 122, 6, 32, 3, 128, 1, 1, 12800, 0, 0, 121110528, 330, 65536, None, 0), (12833133593, 12833156120, 0, 1, 7, 8713, 281488130048000, 115, 87, 90, 1, 1, 16, 6144, 1, 1, 128, 1, 1, 0, 0, 0, 121110528, 331, 16384, None, 0), (12833156921, 12833184280, 0, 1, 7, 8728, 281488130048000, 115, 87, 90, 1, 1, 16, 6144, 1, 1, 128, 1, 1, 0, 0, 0, 121110528, 332, 16384, None, 0), (12833185080, 12833305912, 0, 1, 7, 8748, 281488130048000, 91, 91, 91, 1, 4, 118, 4, 4, 48, 256, 1, 1, 16640, 0, 0, 121110528, 333, 65536, None, 0), (12833306712, 12834031668, 0, 1, 7, 8753, 281488130048000, 129, 87, 104, 1, 1, 16, 49152, 1, 1, 128, 1, 1, 0, 0, 0, 121110528, 334, 16384, None, 0), (12834032436, 12834179188, 0, 1, 7, 8767, 281488130048000, 130, 131, 105, 1, 1, 40, 6144, 1, 1, 32, 4, 1, 0, 0, 0, 121110528, 335, 16384, None, 0), (12834179860, 12834350931, 0, 1, 7, 8793, 281488130048000, 79, 80, 64, 1, 1, 28, 504, 1, 1, 256, 1, 1, 0, 0, 0, 121110528, 336, 8192, None, 0), (12834351699, 12834373971, 0, 1, 7, 8807, 281488130048000, 115, 87, 90, 1, 1, 16, 6144, 1, 1, 128, 1, 1, 0, 0, 0, 121110528, 337, 16384, None, 0), (12834374739, 12834561202, 0, 1, 7, 8823, 281488130048000, 91, 91, 91, 1, 4, 118, 1, 4, 48, 256, 1, 1, 16640, 0, 0, 121110528, 338, 65536, None, 0), (12834561906, 12834581490, 0, 1, 7, 8834, 281488130048000, 115, 87, 90, 1, 1, 16, 6144, 1, 1, 128, 1, 1, 0, 0, 0, 121110528, 339, 16384, None, 0), (12834584498, 12834711410, 0, 1, 7, 8850, 281488130048000, 89, 89, 89, 1, 4, 122, 6, 32, 3, 128, 1, 1, 12800, 0, 0, 121110528, 340, 65536, None, 0), (12834712241, 12834736498, 0, 1, 7, 8875, 281488130048000, 79, 80, 64, 1, 1, 28, 504, 1, 1, 256, 1, 1, 0, 0, 0, 121110528, 341, 8192, None, 0), (12834737298, 12834767313, 0, 1, 7, 8883, 281488130048000, 132, 77, 106, 1, 1, 22, 3072, 1, 1, 128, 1, 1, 0, 0, 0, 121110528, 342, 16384, None, 0), (12834768017, 12834787858, 0, 1, 7, 8891, 281488130048000, 81, 77, 65, 1, 1, 16, 3072, 1, 1, 128, 1, 1, 0, 0, 0, 121110528, 343, 16384, None, 0), (12834788562, 12834797873, 0, 1, 7, 8903, 281488130048000, 82, 83, 66, 1, 1, 32, 128, 1, 1, 32, 16, 1, 16, 0, 0, 121110528, 344, 8192, None, 0), (12834798641, 12834800945, 0, 1, 7, 8911, 281488130048000, 84, 77, 67, 1, 1, 16, 4, 1, 1, 128, 1, 1, 0, 0, 0, 121110528, 345, 16384, None, 0), (12834801713, 12834804049, 0, 1, 7, 8919, 281488130048000, 85, 77, 68, 1, 1, 18, 4, 1, 1, 128, 1, 1, 0, 0, 0, 121110528, 346, 16384, None, 0), (12834804850, 12834825873, 0, 1, 7, 8927, 281488130048000, 86, 87, 69, 1, 1, 16, 6144, 1, 1, 128, 1, 1, 0, 0, 0, 121110528, 347, 16384, None, 0), (12834826609, 12834849105, 0, 1, 7, 8935, 281488130048000, 86, 87, 69, 1, 1, 16, 6144, 1, 1, 128, 1, 1, 0, 0, 0, 121110528, 348, 16384, None, 0), (12834849905, 12835178352, 0, 1, 7, 8946, 281488130048000, 89, 89, 89, 1, 4, 122, 16, 32, 1, 128, 1, 1, 12800, 0, 0, 121110528, 349, 65536, None, 0), (12835179120, 12835230032, 0, 1, 7, 8954, 281488130048000, 78, 77, 63, 1, 1, 16, 8192, 1, 1, 128, 1, 1, 0, 0, 0, 121110528, 350, 16384, None, 0), (12835230704, 12835282416, 0, 1, 7, 8962, 281488130048000, 133, 77, 107, 1, 1, 16, 8192, 1, 1, 128, 1, 1, 0, 0, 0, 121110528, 351, 16384, None, 0), (12835283184, 12835334960, 0, 1, 7, 8974, 281488130048000, 78, 77, 63, 1, 1, 16, 8192, 1, 1, 128, 1, 1, 0, 0, 0, 121110528, 352, 16384, None, 0), (12835335664, 12835411631, 0, 1, 7, 8982, 281488130048000, 132, 77, 106, 1, 1, 22, 8192, 1, 1, 128, 1, 1, 0, 0, 0, 121110528, 353, 16384, None, 0), (12835412399, 12835464079, 0, 1, 7, 8990, 281488130048000, 78, 77, 63, 1, 1, 16, 8192, 1, 1, 128, 1, 1, 0, 0, 0, 121110528, 354, 16384, None, 0), (12835464783, 12835516335, 0, 1, 7, 8998, 281488130048000, 134, 77, 108, 1, 1, 17, 8192, 1, 1, 128, 1, 1, 0, 0, 0, 121110528, 355, 16384, None, 0), (12835517103, 12835568878, 0, 1, 7, 9006, 281488130048000, 84, 77, 67, 1, 1, 16, 8192, 1, 1, 128, 1, 1, 0, 0, 0, 121110528, 356, 16384, None, 0), (12835569678, 12835645646, 0, 1, 7, 9018, 281488130048000, 135, 77, 109, 1, 1, 22, 8192, 1, 1, 128, 1, 1, 0, 0, 0, 121110528, 357, 16384, None, 0), (12835646382, 12835974284, 0, 1, 7, 9033, 281488130048000, 89, 89, 89, 1, 4, 122, 16, 32, 1, 128, 1, 1, 12800, 0, 0, 121110528, 358, 65536, None, 0), (12835975020, 12836051212, 0, 1, 7, 9045, 281488130048000, 135, 77, 109, 1, 1, 22, 8192, 1, 1, 128, 1, 1, 0, 0, 0, 121110528, 359, 16384, None, 0), (12836051948, 12836111788, 0, 1, 7, 9071, 281488130048000, 79, 80, 64, 1, 1, 28, 504, 1, 1, 256, 1, 1, 0, 0, 0, 121110528, 360, 8192, None, 0), (12836115180, 12836433387, 0, 1, 7, 9085, 281488130048000, 89, 89, 89, 1, 4, 122, 6, 32, 5, 128, 1, 1, 12800, 0, 0, 121110528, 361, 65536, None, 0), (12836434091, 12836457803, 0, 1, 7, 9110, 281488130048000, 79, 80, 64, 1, 1, 28, 504, 1, 1, 256, 1, 1, 0, 0, 0, 121110528, 362, 8192, None, 0), (12836458571, 12836488491, 0, 1, 7, 9118, 281488130048000, 132, 77, 106, 1, 1, 22, 3072, 1, 1, 128, 1, 1, 0, 0, 0, 121110528, 363, 16384, None, 0), (12836489227, 12836508938, 0, 1, 7, 9126, 281488130048000, 81, 77, 65, 1, 1, 16, 3072, 1, 1, 128, 1, 1, 0, 0, 0, 121110528, 364, 16384, None, 0), (12836509738, 12836518635, 0, 1, 7, 9138, 281488130048000, 82, 83, 66, 1, 1, 32, 128, 1, 1, 32, 16, 1, 16, 0, 0, 121110528, 365, 8192, None, 0), (12836519371, 12836521611, 0, 1, 7, 9146, 281488130048000, 84, 77, 67, 1, 1, 16, 4, 1, 1, 128, 1, 1, 0, 0, 0, 121110528, 366, 16384, None, 0), (12836522282, 12836524554, 0, 1, 7, 9154, 281488130048000, 85, 77, 68, 1, 1, 18, 4, 1, 1, 128, 1, 1, 0, 0, 0, 121110528, 367, 16384, None, 0), (12836525258, 12836545835, 0, 1, 7, 9162, 281488130048000, 86, 87, 69, 1, 1, 16, 6144, 1, 1, 128, 1, 1, 0, 0, 0, 121110528, 368, 16384, None, 0), (12836546987, 12836569354, 0, 1, 7, 9170, 281488130048000, 86, 87, 69, 1, 1, 16, 6144, 1, 1, 128, 1, 1, 0, 0, 0, 121110528, 369, 16384, None, 0), (12836572363, 12836699274, 0, 1, 7, 9188, 281488130048000, 89, 89, 89, 1, 4, 122, 6, 32, 3, 128, 1, 1, 12800, 0, 0, 121110528, 370, 65536, None, 0), (12836702218, 12836828841, 0, 1, 7, 9205, 281488130048000, 89, 89, 89, 1, 4, 122, 6, 32, 3, 128, 1, 1, 12800, 0, 0, 121110528, 371, 65536, None, 0), (12836832297, 12836959081, 0, 1, 7, 9222, 281488130048000, 89, 89, 89, 1, 4, 122, 6, 32, 3, 128, 1, 1, 12800, 0, 0, 121110528, 372, 65536, None, 0), (12836959849, 12836982376, 0, 1, 7, 9239, 281488130048000, 115, 87, 90, 1, 1, 16, 6144, 1, 1, 128, 1, 1, 0, 0, 0, 121110528, 373, 16384, None, 0), (12836983081, 12837010120, 0, 1, 7, 9250, 281488130048000, 115, 87, 90, 1, 1, 16, 6144, 1, 1, 128, 1, 1, 0, 0, 0, 121110528, 374, 16384, None, 0), (12837010888, 12837129831, 0, 1, 7, 9270, 281488130048000, 91, 91, 91, 1, 4, 118, 4, 4, 48, 256, 1, 1, 16640, 0, 0, 121110528, 375, 65536, None, 0), (12837130600, 12837855557, 0, 1, 7, 9275, 281488130048000, 129, 87, 104, 1, 1, 16, 49152, 1, 1, 128, 1, 1, 0, 0, 0, 121110528, 376, 16384, None, 0), (12837856229, 12838003140, 0, 1, 7, 9289, 281488130048000, 130, 131, 105, 1, 1, 40, 6144, 1, 1, 32, 4, 1, 0, 0, 0, 121110528, 377, 16384, None, 0), (12838003844, 12838175651, 0, 1, 7, 9319, 281488130048000, 79, 80, 64, 1, 1, 28, 504, 1, 1, 256, 1, 1, 0, 0, 0, 121110528, 378, 8192, None, 0), (12838176419, 12838198692, 0, 1, 7, 9329, 281488130048000, 115, 87, 90, 1, 1, 16, 6144, 1, 1, 128, 1, 1, 0, 0, 0, 121110528, 379, 16384, None, 0), (12838199428, 12838385218, 0, 1, 7, 9349, 281488130048000, 91, 91, 91, 1, 4, 118, 1, 4, 48, 256, 1, 1, 16640, 0, 0, 121110528, 380, 65536, None, 0), (12838386434, 12838405827, 0, 1, 7, 9360, 281488130048000, 115, 87, 90, 1, 1, 16, 6144, 1, 1, 128, 1, 1, 0, 0, 0, 121110528, 381, 16384, None, 0), (12838408931, 12838535810, 0, 1, 7, 9376, 281488130048000, 89, 89, 89, 1, 4, 122, 6, 32, 3, 128, 1, 1, 12800, 0, 0, 121110528, 382, 65536, None, 0), (12838536642, 12838560834, 0, 1, 7, 9401, 281488130048000, 79, 80, 64, 1, 1, 28, 504, 1, 1, 256, 1, 1, 0, 0, 0, 121110528, 383, 8192, None, 0), (12838561634, 12838591586, 0, 1, 7, 9409, 281488130048000, 132, 77, 106, 1, 1, 22, 3072, 1, 1, 128, 1, 1, 0, 0, 0, 121110528, 384, 16384, None, 0), (12838592386, 12838612002, 0, 1, 7, 9417, 281488130048000, 81, 77, 65, 1, 1, 16, 3072, 1, 1, 128, 1, 1, 0, 0, 0, 121110528, 385, 16384, None, 0), (12838612674, 12838621889, 0, 1, 7, 9429, 281488130048000, 82, 83, 66, 1, 1, 32, 128, 1, 1, 32, 16, 1, 16, 0, 0, 121110528, 386, 8192, None, 0), (12838622721, 12838625377, 0, 1, 7, 9437, 281488130048000, 84, 77, 67, 1, 1, 16, 4, 1, 1, 128, 1, 1, 0, 0, 0, 121110528, 387, 16384, None, 0), (12838626081, 12838628449, 0, 1, 7, 9445, 281488130048000, 85, 77, 68, 1, 1, 18, 4, 1, 1, 128, 1, 1, 0, 0, 0, 121110528, 388, 16384, None, 0), (12838629217, 12838649825, 0, 1, 7, 9453, 281488130048000, 86, 87, 69, 1, 1, 16, 6144, 1, 1, 128, 1, 1, 0, 0, 0, 121110528, 389, 16384, None, 0), (12838650497, 12838672834, 0, 1, 7, 9461, 281488130048000, 86, 87, 69, 1, 1, 16, 6144, 1, 1, 128, 1, 1, 0, 0, 0, 121110528, 390, 16384, None, 0), (12838673537, 12839001440, 0, 1, 7, 9472, 281488130048000, 89, 89, 89, 1, 4, 122, 16, 32, 1, 128, 1, 1, 12800, 0, 0, 121110528, 391, 65536, None, 0), (12839002240, 12839053376, 0, 1, 7, 9480, 281488130048000, 78, 77, 63, 1, 1, 16, 8192, 1, 1, 128, 1, 1, 0, 0, 0, 121110528, 392, 16384, None, 0), (12839054080, 12839105824, 0, 1, 7, 9488, 281488130048000, 133, 77, 107, 1, 1, 16, 8192, 1, 1, 128, 1, 1, 0, 0, 0, 121110528, 393, 16384, None, 0), (12839106496, 12839158079, 0, 1, 7, 9500, 281488130048000, 78, 77, 63, 1, 1, 16, 8192, 1, 1, 128, 1, 1, 0, 0, 0, 121110528, 394, 16384, None, 0), (12839158815, 12839235103, 0, 1, 7, 9508, 281488130048000, 132, 77, 106, 1, 1, 22, 8192, 1, 1, 128, 1, 1, 0, 0, 0, 121110528, 395, 16384, None, 0), (12839235903, 12839287039, 0, 1, 7, 9516, 281488130048000, 78, 77, 63, 1, 1, 16, 8192, 1, 1, 128, 1, 1, 0, 0, 0, 121110528, 396, 16384, None, 0), (12839287839, 12839339935, 0, 1, 7, 9524, 281488130048000, 134, 77, 108, 1, 1, 17, 8192, 1, 1, 128, 1, 1, 0, 0, 0, 121110528, 397, 16384, None, 0), (12839340607, 12839391934, 0, 1, 7, 9532, 281488130048000, 84, 77, 67, 1, 1, 16, 8192, 1, 1, 128, 1, 1, 0, 0, 0, 121110528, 398, 16384, None, 0), (12839392702, 12839468350, 0, 1, 7, 9544, 281488130048000, 135, 77, 109, 1, 1, 22, 8192, 1, 1, 128, 1, 1, 0, 0, 0, 121110528, 399, 16384, None, 0), (12839469150, 12839797373, 0, 1, 7, 9559, 281488130048000, 89, 89, 89, 1, 4, 122, 16, 32, 1, 128, 1, 1, 12800, 0, 0, 121110528, 400, 65536, None, 0), (12839798109, 12839873821, 0, 1, 7, 9571, 281488130048000, 135, 77, 109, 1, 1, 22, 8192, 1, 1, 128, 1, 1, 0, 0, 0, 121110528, 401, 16384, None, 0), (12839874589, 12839934012, 0, 1, 7, 9597, 281488130048000, 79, 80, 64, 1, 1, 28, 504, 1, 1, 256, 1, 1, 0, 0, 0, 121110528, 402, 8192, None, 0), (12839937468, 12840255227, 0, 1, 7, 9611, 281488130048000, 89, 89, 89, 1, 4, 122, 6, 32, 5, 128, 1, 1, 12800, 0, 0, 121110528, 403, 65536, None, 0), (12840255995, 12840280251, 0, 1, 7, 9636, 281488130048000, 79, 80, 64, 1, 1, 28, 504, 1, 1, 256, 1, 1, 0, 0, 0, 121110528, 404, 8192, None, 0), (12840281051, 12840310907, 0, 1, 7, 9644, 281488130048000, 132, 77, 106, 1, 1, 22, 3072, 1, 1, 128, 1, 1, 0, 0, 0, 121110528, 405, 16384, None, 0), (12840311675, 12840331322, 0, 1, 7, 9652, 281488130048000, 81, 77, 65, 1, 1, 16, 3072, 1, 1, 128, 1, 1, 0, 0, 0, 121110528, 406, 16384, None, 0), (12840332026, 12840341115, 0, 1, 7, 9664, 281488130048000, 82, 83, 66, 1, 1, 32, 128, 1, 1, 32, 16, 1, 16, 0, 0, 121110528, 407, 8192, None, 0), (12840341851, 12840344123, 0, 1, 7, 9672, 281488130048000, 84, 77, 67, 1, 1, 16, 4, 1, 1, 128, 1, 1, 0, 0, 0, 121110528, 408, 16384, None, 0), (12840344795, 12840347131, 0, 1, 7, 9680, 281488130048000, 85, 77, 68, 1, 1, 18, 4, 1, 1, 128, 1, 1, 0, 0, 0, 121110528, 409, 16384, None, 0), (12840347867, 12840368187, 0, 1, 7, 9688, 281488130048000, 86, 87, 69, 1, 1, 16, 6144, 1, 1, 128, 1, 1, 0, 0, 0, 121110528, 410, 16384, None, 0), (12840368891, 12840391418, 0, 1, 7, 9696, 281488130048000, 86, 87, 69, 1, 1, 16, 6144, 1, 1, 128, 1, 1, 0, 0, 0, 121110528, 411, 16384, None, 0), (12840394554, 12840520954, 0, 1, 7, 9710, 281488130048000, 89, 89, 89, 1, 4, 122, 6, 32, 3, 128, 1, 1, 12800, 0, 0, 121110528, 412, 65536, None, 0), (12840524378, 12840650617, 0, 1, 7, 9731, 281488130048000, 89, 89, 89, 1, 4, 122, 6, 32, 3, 128, 1, 1, 12800, 0, 0, 121110528, 413, 65536, None, 0), (12840654009, 12840780345, 0, 1, 7, 9748, 281488130048000, 89, 89, 89, 1, 4, 122, 6, 32, 3, 128, 1, 1, 12800, 0, 0, 121110528, 414, 65536, None, 0), (12840781017, 12840803896, 0, 1, 7, 9761, 281488130048000, 115, 87, 90, 1, 1, 16, 6144, 1, 1, 128, 1, 1, 0, 0, 0, 121110528, 415, 16384, None, 0), (12840804696, 12840831864, 0, 1, 7, 9776, 281488130048000, 115, 87, 90, 1, 1, 16, 6144, 1, 1, 128, 1, 1, 0, 0, 0, 121110528, 416, 16384, None, 0), (12840832536, 12840954072, 0, 1, 7, 9796, 281488130048000, 91, 91, 91, 1, 4, 118, 4, 4, 48, 256, 1, 1, 16640, 0, 0, 121110528, 417, 65536, None, 0), (12840954808, 12841679989, 0, 1, 7, 9801, 281488130048000, 129, 87, 104, 1, 1, 16, 49152, 1, 1, 128, 1, 1, 0, 0, 0, 121110528, 418, 16384, None, 0), (12841680757, 12841827028, 0, 1, 7, 9815, 281488130048000, 130, 131, 105, 1, 1, 40, 6144, 1, 1, 32, 4, 1, 0, 0, 0, 121110528, 419, 16384, None, 0), (12841827732, 12841999124, 0, 1, 7, 9841, 281488130048000, 79, 80, 64, 1, 1, 28, 504, 1, 1, 256, 1, 1, 0, 0, 0, 121110528, 420, 8192, None, 0), (12841999860, 12842022100, 0, 1, 7, 9855, 281488130048000, 115, 87, 90, 1, 1, 16, 6144, 1, 1, 128, 1, 1, 0, 0, 0, 121110528, 421, 16384, None, 0), (12842022804, 12842208275, 0, 1, 7, 9871, 281488130048000, 91, 91, 91, 1, 4, 118, 1, 4, 48, 256, 1, 1, 16640, 0, 0, 121110528, 422, 65536, None, 0), (12842208979, 12842227891, 0, 1, 7, 9882, 281488130048000, 115, 87, 90, 1, 1, 16, 6144, 1, 1, 128, 1, 1, 0, 0, 0, 121110528, 423, 16384, None, 0), (12842231283, 12842357906, 0, 1, 7, 9898, 281488130048000, 89, 89, 89, 1, 4, 122, 6, 32, 3, 128, 1, 1, 12800, 0, 0, 121110528, 424, 65536, None, 0), (12842358578, 12842382354, 0, 1, 7, 9923, 281488130048000, 79, 80, 64, 1, 1, 28, 504, 1, 1, 256, 1, 1, 0, 0, 0, 121110528, 425, 8192, None, 0), (12842383122, 12842413298, 0, 1, 7, 9931, 281488130048000, 132, 77, 106, 1, 1, 22, 3072, 1, 1, 128, 1, 1, 0, 0, 0, 121110528, 426, 16384, None, 0), (12842414098, 12842433714, 0, 1, 7, 9939, 281488130048000, 81, 77, 65, 1, 1, 16, 3072, 1, 1, 128, 1, 1, 0, 0, 0, 121110528, 427, 16384, None, 0), (12842434450, 12842443538, 0, 1, 7, 9951, 281488130048000, 82, 83, 66, 1, 1, 32, 128, 1, 1, 32, 16, 1, 16, 0, 0, 121110528, 428, 8192, None, 0), (12842444242, 12842446578, 0, 1, 7, 9959, 281488130048000, 84, 77, 67, 1, 1, 16, 4, 1, 1, 128, 1, 1, 0, 0, 0, 121110528, 429, 16384, None, 0), (12842447346, 12842449682, 0, 1, 7, 9967, 281488130048000, 85, 77, 68, 1, 1, 18, 4, 1, 1, 128, 1, 1, 0, 0, 0, 121110528, 430, 16384, None, 0), (12842450450, 12842471218, 0, 1, 7, 9975, 281488130048000, 86, 87, 69, 1, 1, 16, 6144, 1, 1, 128, 1, 1, 0, 0, 0, 121110528, 431, 16384, None, 0), (12842471954, 12842494578, 0, 1, 7, 9983, 281488130048000, 86, 87, 69, 1, 1, 16, 6144, 1, 1, 128, 1, 1, 0, 0, 0, 121110528, 432, 16384, None, 0), (12842495378, 12842823216, 0, 1, 7, 9994, 281488130048000, 89, 89, 89, 1, 4, 122, 16, 32, 1, 128, 1, 1, 12800, 0, 0, 121110528, 433, 65536, None, 0), (12842824048, 12842875056, 0, 1, 7, 10002, 281488130048000, 78, 77, 63, 1, 1, 16, 8192, 1, 1, 128, 1, 1, 0, 0, 0, 121110528, 434, 16384, None, 0), (12842875728, 12842927087, 0, 1, 7, 10010, 281488130048000, 133, 77, 107, 1, 1, 16, 8192, 1, 1, 128, 1, 1, 0, 0, 0, 121110528, 435, 16384, None, 0), (12842927791, 12842979375, 0, 1, 7, 10022, 281488130048000, 78, 77, 63, 1, 1, 16, 8192, 1, 1, 128, 1, 1, 0, 0, 0, 121110528, 436, 16384, None, 0), (12842980143, 12843056431, 0, 1, 7, 10030, 281488130048000, 132, 77, 106, 1, 1, 22, 8192, 1, 1, 128, 1, 1, 0, 0, 0, 121110528, 437, 16384, None, 0), (12843057231, 12843108623, 0, 1, 7, 10038, 281488130048000, 78, 77, 63, 1, 1, 16, 8192, 1, 1, 128, 1, 1, 0, 0, 0, 121110528, 438, 16384, None, 0), (12843109327, 12843161710, 0, 1, 7, 10046, 281488130048000, 134, 77, 108, 1, 1, 17, 8192, 1, 1, 128, 1, 1, 0, 0, 0, 121110528, 439, 16384, None, 0), (12843162510, 12843214414, 0, 1, 7, 10054, 281488130048000, 84, 77, 67, 1, 1, 16, 8192, 1, 1, 128, 1, 1, 0, 0, 0, 121110528, 440, 16384, None, 0), (12843215118, 12843291406, 0, 1, 7, 10066, 281488130048000, 135, 77, 109, 1, 1, 22, 8192, 1, 1, 128, 1, 1, 0, 0, 0, 121110528, 441, 16384, None, 0), (12843292174, 12843620877, 0, 1, 7, 10081, 281488130048000, 89, 89, 89, 1, 4, 122, 16, 32, 1, 128, 1, 1, 12800, 0, 0, 121110528, 442, 65536, None, 0), (12843621677, 12843697805, 0, 1, 7, 10093, 281488130048000, 135, 77, 109, 1, 1, 22, 8192, 1, 1, 128, 1, 1, 0, 0, 0, 121110528, 443, 16384, None, 0), (12843698509, 12843758285, 0, 1, 7, 10119, 281488130048000, 79, 80, 64, 1, 1, 28, 504, 1, 1, 256, 1, 1, 0, 0, 0, 121110528, 444, 8192, None, 0), (12843761357, 12844078507, 0, 1, 7, 10133, 281488130048000, 89, 89, 89, 1, 4, 122, 6, 32, 5, 128, 1, 1, 12800, 0, 0, 121110528, 445, 65536, None, 0), (12844079275, 12844103243, 0, 1, 7, 10158, 281488130048000, 79, 80, 64, 1, 1, 28, 504, 1, 1, 256, 1, 1, 0, 0, 0, 121110528, 446, 8192, None, 0), (12844104042, 12844133610, 0, 1, 7, 10166, 281488130048000, 132, 77, 106, 1, 1, 22, 3072, 1, 1, 128, 1, 1, 0, 0, 0, 121110528, 447, 16384, None, 0), (12844134314, 12844153643, 0, 1, 7, 10174, 281488130048000, 81, 77, 65, 1, 1, 16, 3072, 1, 1, 128, 1, 1, 0, 0, 0, 121110528, 448, 16384, None, 0), (12844154347, 12844163242, 0, 1, 7, 10186, 281488130048000, 82, 83, 66, 1, 1, 32, 128, 1, 1, 32, 16, 1, 16, 0, 0, 121110528, 449, 8192, None, 0), (12844164010, 12844166283, 0, 1, 7, 10194, 281488130048000, 84, 77, 67, 1, 1, 16, 4, 1, 1, 128, 1, 1, 0, 0, 0, 121110528, 450, 16384, None, 0), (12844167083, 12844169291, 0, 1, 7, 10202, 281488130048000, 85, 77, 68, 1, 1, 18, 4, 1, 1, 128, 1, 1, 0, 0, 0, 121110528, 451, 16384, None, 0), (12844170059, 12844190602, 0, 1, 7, 10210, 281488130048000, 86, 87, 69, 1, 1, 16, 6144, 1, 1, 128, 1, 1, 0, 0, 0, 121110528, 452, 16384, None, 0), (12844191818, 12844214346, 0, 1, 7, 10218, 281488130048000, 86, 87, 69, 1, 1, 16, 6144, 1, 1, 128, 1, 1, 0, 0, 0, 121110528, 453, 16384, None, 0), (12844217386, 12844343594, 0, 1, 7, 10236, 281488130048000, 89, 89, 89, 1, 4, 122, 6, 32, 3, 128, 1, 1, 12800, 0, 0, 121110528, 454, 65536, None, 0), (12844346730, 12844473641, 0, 1, 7, 10253, 281488130048000, 89, 89, 89, 1, 4, 122, 6, 32, 3, 128, 1, 1, 12800, 0, 0, 121110528, 455, 65536, None, 0), (12844477065, 12844604168, 0, 1, 7, 10270, 281488130048000, 89, 89, 89, 1, 4, 122, 6, 32, 3, 128, 1, 1, 12800, 0, 0, 121110528, 456, 65536, None, 0), (12844604872, 12844627209, 0, 1, 7, 10287, 281488130048000, 115, 87, 90, 1, 1, 16, 6144, 1, 1, 128, 1, 1, 0, 0, 0, 121110528, 457, 16384, None, 0), (12844627977, 12844655336, 0, 1, 7, 10298, 281488130048000, 115, 87, 90, 1, 1, 16, 6144, 1, 1, 128, 1, 1, 0, 0, 0, 121110528, 458, 16384, None, 0), (12844656072, 12844777320, 0, 1, 7, 10318, 281488130048000, 91, 91, 91, 1, 4, 118, 4, 4, 48, 256, 1, 1, 16640, 0, 0, 121110528, 459, 65536, None, 0), (12844778024, 12845503205, 0, 1, 7, 10323, 281488130048000, 129, 87, 104, 1, 1, 16, 49152, 1, 1, 128, 1, 1, 0, 0, 0, 121110528, 460, 16384, None, 0), (12845504037, 12845651684, 0, 1, 7, 10337, 281488130048000, 130, 131, 105, 1, 1, 40, 6144, 1, 1, 32, 4, 1, 0, 0, 0, 121110528, 461, 16384, None, 0), (12845652516, 12845824388, 0, 1, 7, 10367, 281488130048000, 79, 80, 64, 1, 1, 28, 504, 1, 1, 256, 1, 1, 0, 0, 0, 121110528, 462, 8192, None, 0), (12845825092, 12845847908, 0, 1, 7, 10377, 281488130048000, 115, 87, 90, 1, 1, 16, 6144, 1, 1, 128, 1, 1, 0, 0, 0, 121110528, 463, 16384, None, 0), (12845848740, 12846039203, 0, 1, 7, 10397, 281488130048000, 91, 91, 91, 1, 4, 118, 1, 4, 48, 256, 1, 1, 16640, 0, 0, 121110528, 464, 65536, None, 0), (12846040515, 12846059971, 0, 1, 7, 10408, 281488130048000, 115, 87, 90, 1, 1, 16, 6144, 1, 1, 128, 1, 1, 0, 0, 0, 121110528, 465, 16384, None, 0), (12846063427, 12846192482, 0, 1, 7, 10424, 281488130048000, 89, 89, 89, 1, 4, 122, 6, 32, 3, 128, 1, 1, 12800, 0, 0, 121110528, 466, 65536, None, 0), (12846193218, 12846217410, 0, 1, 7, 10449, 281488130048000, 79, 80, 64, 1, 1, 28, 504, 1, 1, 256, 1, 1, 0, 0, 0, 121110528, 467, 8192, None, 0), (12846218242, 12846248162, 0, 1, 7, 10457, 281488130048000, 132, 77, 106, 1, 1, 22, 3072, 1, 1, 128, 1, 1, 0, 0, 0, 121110528, 468, 16384, None, 0), (12846248866, 12846268642, 0, 1, 7, 10465, 281488130048000, 81, 77, 65, 1, 1, 16, 3072, 1, 1, 128, 1, 1, 0, 0, 0, 121110528, 469, 16384, None, 0), (12846269378, 12846278754, 0, 1, 7, 10477, 281488130048000, 82, 83, 66, 1, 1, 32, 128, 1, 1, 32, 16, 1, 16, 0, 0, 121110528, 470, 8192, None, 0), (12846279490, 12846281857, 0, 1, 7, 10485, 281488130048000, 84, 77, 67, 1, 1, 16, 4, 1, 1, 128, 1, 1, 0, 0, 0, 121110528, 471, 16384, None, 0), (12846282689, 12846284834, 0, 1, 7, 10493, 281488130048000, 85, 77, 68, 1, 1, 18, 4, 1, 1, 128, 1, 1, 0, 0, 0, 121110528, 472, 16384, None, 0), (12846285602, 12846306370, 0, 1, 7, 10501, 281488130048000, 86, 87, 69, 1, 1, 16, 6144, 1, 1, 128, 1, 1, 0, 0, 0, 121110528, 473, 16384, None, 0), (12846307170, 12846329986, 0, 1, 7, 10509, 281488130048000, 86, 87, 69, 1, 1, 16, 6144, 1, 1, 128, 1, 1, 0, 0, 0, 121110528, 474, 16384, None, 0), (12846330754, 12846665024, 0, 1, 7, 10520, 281488130048000, 89, 89, 89, 1, 4, 122, 16, 32, 1, 128, 1, 1, 12800, 0, 0, 121110528, 475, 65536, None, 0), (12846665824, 12846717152, 0, 1, 7, 10528, 281488130048000, 78, 77, 63, 1, 1, 16, 8192, 1, 1, 128, 1, 1, 0, 0, 0, 121110528, 476, 16384, None, 0), (12846718240, 12846769664, 0, 1, 7, 10536, 281488130048000, 133, 77, 107, 1, 1, 16, 8192, 1, 1, 128, 1, 1, 0, 0, 0, 121110528, 477, 16384, None, 0), (12846770528, 12846822208, 0, 1, 7, 10548, 281488130048000, 78, 77, 63, 1, 1, 16, 8192, 1, 1, 128, 1, 1, 0, 0, 0, 121110528, 478, 16384, None, 0), (12846822976, 12846898815, 0, 1, 7, 10556, 281488130048000, 132, 77, 106, 1, 1, 22, 8192, 1, 1, 128, 1, 1, 0, 0, 0, 121110528, 479, 16384, None, 0), (12846899551, 12846951199, 0, 1, 7, 10564, 281488130048000, 78, 77, 63, 1, 1, 16, 8192, 1, 1, 128, 1, 1, 0, 0, 0, 121110528, 480, 16384, None, 0), (12846951999, 12847004319, 0, 1, 7, 10572, 281488130048000, 134, 77, 108, 1, 1, 17, 8192, 1, 1, 128, 1, 1, 0, 0, 0, 121110528, 481, 16384, None, 0), (12847005023, 12847056863, 0, 1, 7, 10580, 281488130048000, 84, 77, 67, 1, 1, 16, 8192, 1, 1, 128, 1, 1, 0, 0, 0, 121110528, 482, 16384, None, 0), (12847057631, 12847133790, 0, 1, 7, 10592, 281488130048000, 135, 77, 109, 1, 1, 22, 8192, 1, 1, 128, 1, 1, 0, 0, 0, 121110528, 483, 16384, None, 0), (12847134622, 12847469533, 0, 1, 7, 10607, 281488130048000, 89, 89, 89, 1, 4, 122, 16, 32, 1, 128, 1, 1, 12800, 0, 0, 121110528, 484, 65536, None, 0), (12847470365, 12847546556, 0, 1, 7, 10619, 281488130048000, 135, 77, 109, 1, 1, 22, 8192, 1, 1, 128, 1, 1, 0, 0, 0, 121110528, 485, 16384, None, 0), (12847547324, 12847606972, 0, 1, 7, 10645, 281488130048000, 79, 80, 64, 1, 1, 28, 504, 1, 1, 256, 1, 1, 0, 0, 0, 121110528, 486, 8192, None, 0), (12847610301, 12847933052, 0, 1, 7, 10659, 281488130048000, 89, 89, 89, 1, 4, 122, 6, 32, 5, 128, 1, 1, 12800, 0, 0, 121110528, 487, 65536, None, 0), (12847933788, 12847957787, 0, 1, 7, 10684, 281488130048000, 79, 80, 64, 1, 1, 28, 504, 1, 1, 256, 1, 1, 0, 0, 0, 121110528, 488, 8192, None, 0), (12847958619, 12847988250, 0, 1, 7, 10692, 281488130048000, 132, 77, 106, 1, 1, 22, 3072, 1, 1, 128, 1, 1, 0, 0, 0, 121110528, 489, 16384, None, 0), (12847989082, 12848008667, 0, 1, 7, 10700, 281488130048000, 81, 77, 65, 1, 1, 16, 3072, 1, 1, 128, 1, 1, 0, 0, 0, 121110528, 490, 16384, None, 0), (12848009403, 12848018618, 0, 1, 7, 10712, 281488130048000, 82, 83, 66, 1, 1, 32, 128, 1, 1, 32, 16, 1, 16, 0, 0, 121110528, 491, 8192, None, 0), (12848019354, 12848021659, 0, 1, 7, 10720, 281488130048000, 84, 77, 67, 1, 1, 16, 4, 1, 1, 128, 1, 1, 0, 0, 0, 121110528, 492, 16384, None, 0), (12848022395, 12848024795, 0, 1, 7, 10728, 281488130048000, 85, 77, 68, 1, 1, 18, 4, 1, 1, 128, 1, 1, 0, 0, 0, 121110528, 493, 16384, None, 0), (12848025595, 12848046042, 0, 1, 7, 10736, 281488130048000, 86, 87, 69, 1, 1, 16, 6144, 1, 1, 128, 1, 1, 0, 0, 0, 121110528, 494, 16384, None, 0), (12848046778, 12848069210, 0, 1, 7, 10744, 281488130048000, 86, 87, 69, 1, 1, 16, 6144, 1, 1, 128, 1, 1, 0, 0, 0, 121110528, 495, 16384, None, 0), (12848072506, 12848202266, 0, 1, 7, 10758, 281488130048000, 89, 89, 89, 1, 4, 122, 6, 32, 3, 128, 1, 1, 12800, 0, 0, 121110528, 496, 65536, None, 0), (12848205850, 12848334969, 0, 1, 7, 10779, 281488130048000, 89, 89, 89, 1, 4, 122, 6, 32, 3, 128, 1, 1, 12800, 0, 0, 121110528, 497, 65536, None, 0), (12848338553, 12848468249, 0, 1, 7, 10796, 281488130048000, 89, 89, 89, 1, 4, 122, 6, 32, 3, 128, 1, 1, 12800, 0, 0, 121110528, 498, 65536, None, 0), (12848469017, 12848491737, 0, 1, 7, 10809, 281488130048000, 115, 87, 90, 1, 1, 16, 6144, 1, 1, 128, 1, 1, 0, 0, 0, 121110528, 499, 16384, None, 0), (12848492441, 12848520600, 0, 1, 7, 10824, 281488130048000, 115, 87, 90, 1, 1, 16, 6144, 1, 1, 128, 1, 1, 0, 0, 0, 121110528, 500, 16384, None, 0), (12848521433, 12848645848, 0, 1, 7, 10844, 281488130048000, 91, 91, 91, 1, 4, 118, 4, 4, 48, 256, 1, 1, 16640, 0, 0, 121110528, 501, 65536, None, 0), (12848646616, 12849371989, 0, 1, 7, 10849, 281488130048000, 129, 87, 104, 1, 1, 16, 49152, 1, 1, 128, 1, 1, 0, 0, 0, 121110528, 502, 16384, None, 0), (12849372725, 12849518964, 0, 1, 7, 10863, 281488130048000, 130, 131, 105, 1, 1, 40, 6144, 1, 1, 32, 4, 1, 0, 0, 0, 121110528, 503, 16384, None, 0), (12849519796, 12849693363, 0, 1, 7, 10889, 281488130048000, 79, 80, 64, 1, 1, 28, 504, 1, 1, 256, 1, 1, 0, 0, 0, 121110528, 504, 8192, None, 0), (12849694067, 12849716468, 0, 1, 7, 10903, 281488130048000, 115, 87, 90, 1, 1, 16, 6144, 1, 1, 128, 1, 1, 0, 0, 0, 121110528, 505, 16384, None, 0), (12849717204, 12849908147, 0, 1, 7, 10919, 281488130048000, 91, 91, 91, 1, 4, 118, 1, 4, 48, 256, 1, 1, 16640, 0, 0, 121110528, 506, 65536, None, 0), (12849908883, 12849928658, 0, 1, 7, 10930, 281488130048000, 115, 87, 90, 1, 1, 16, 6144, 1, 1, 128, 1, 1, 0, 0, 0, 121110528, 507, 16384, None, 0), (12849931730, 12850060690, 0, 1, 7, 10946, 281488130048000, 89, 89, 89, 1, 4, 122, 6, 32, 3, 128, 1, 1, 12800, 0, 0, 121110528, 508, 65536, None, 0), (12850061490, 12850085490, 0, 1, 7, 10971, 281488130048000, 79, 80, 64, 1, 1, 28, 504, 1, 1, 256, 1, 1, 0, 0, 0, 121110528, 509, 8192, None, 0), (12850086258, 12850116434, 0, 1, 7, 10979, 281488130048000, 132, 77, 106, 1, 1, 22, 3072, 1, 1, 128, 1, 1, 0, 0, 0, 121110528, 510, 16384, None, 0), (12850117266, 12850137362, 0, 1, 7, 10987, 281488130048000, 81, 77, 65, 1, 1, 16, 3072, 1, 1, 128, 1, 1, 0, 0, 0, 121110528, 511, 16384, None, 0), (12850138129, 12850147442, 0, 1, 7, 10999, 281488130048000, 82, 83, 66, 1, 1, 32, 128, 1, 1, 32, 16, 1, 16, 0, 0, 121110528, 512, 8192, None, 0), (12850148274, 12850150610, 0, 1, 7, 11007, 281488130048000, 84, 77, 67, 1, 1, 16, 4, 1, 1, 128, 1, 1, 0, 0, 0, 121110528, 513, 16384, None, 0), (12850151378, 12850153650, 0, 1, 7, 11015, 281488130048000, 85, 77, 68, 1, 1, 18, 4, 1, 1, 128, 1, 1, 0, 0, 0, 121110528, 514, 16384, None, 0), (12850154482, 12850175026, 0, 1, 7, 11023, 281488130048000, 86, 87, 69, 1, 1, 16, 6144, 1, 1, 128, 1, 1, 0, 0, 0, 121110528, 515, 16384, None, 0), (12850175858, 12850198257, 0, 1, 7, 11031, 281488130048000, 86, 87, 69, 1, 1, 16, 6144, 1, 1, 128, 1, 1, 0, 0, 0, 121110528, 516, 16384, None, 0), (12850198962, 12850533040, 0, 1, 7, 11042, 281488130048000, 89, 89, 89, 1, 4, 122, 16, 32, 1, 128, 1, 1, 12800, 0, 0, 121110528, 517, 65536, None, 0), (12850533776, 12850584720, 0, 1, 7, 11050, 281488130048000, 78, 77, 63, 1, 1, 16, 8192, 1, 1, 128, 1, 1, 0, 0, 0, 121110528, 518, 16384, None, 0), (12850585552, 12850637071, 0, 1, 7, 11058, 281488130048000, 133, 77, 107, 1, 1, 16, 8192, 1, 1, 128, 1, 1, 0, 0, 0, 121110528, 519, 16384, None, 0), (12850637775, 12850689391, 0, 1, 7, 11070, 281488130048000, 78, 77, 63, 1, 1, 16, 8192, 1, 1, 128, 1, 1, 0, 0, 0, 121110528, 520, 16384, None, 0), (12850690223, 12850766256, 0, 1, 7, 11078, 281488130048000, 132, 77, 106, 1, 1, 22, 8192, 1, 1, 128, 1, 1, 0, 0, 0, 121110528, 521, 16384, None, 0), (12850766960, 12850818672, 0, 1, 7, 11086, 281488130048000, 78, 77, 63, 1, 1, 16, 8192, 1, 1, 128, 1, 1, 0, 0, 0, 121110528, 522, 16384, None, 0), (12850819504, 12850871119, 0, 1, 7, 11094, 281488130048000, 134, 77, 108, 1, 1, 17, 8192, 1, 1, 128, 1, 1, 0, 0, 0, 121110528, 523, 16384, None, 0), (12850871919, 12850923727, 0, 1, 7, 11102, 281488130048000, 84, 77, 67, 1, 1, 16, 8192, 1, 1, 128, 1, 1, 0, 0, 0, 121110528, 524, 16384, None, 0), (12850924463, 12851000783, 0, 1, 7, 11114, 281488130048000, 135, 77, 109, 1, 1, 22, 8192, 1, 1, 128, 1, 1, 0, 0, 0, 121110528, 525, 16384, None, 0), (12851001487, 12851336429, 0, 1, 7, 11129, 281488130048000, 89, 89, 89, 1, 4, 122, 16, 32, 1, 128, 1, 1, 12800, 0, 0, 121110528, 526, 65536, None, 0), (12851337133, 12851413325, 0, 1, 7, 11141, 281488130048000, 135, 77, 109, 1, 1, 22, 8192, 1, 1, 128, 1, 1, 0, 0, 0, 121110528, 527, 16384, None, 0), (12851414029, 12851473293, 0, 1, 7, 11167, 281488130048000, 79, 80, 64, 1, 1, 28, 504, 1, 1, 256, 1, 1, 0, 0, 0, 121110528, 528, 8192, None, 0), (12851476492, 12851800235, 0, 1, 7, 11181, 281488130048000, 89, 89, 89, 1, 4, 122, 6, 32, 5, 128, 1, 1, 12800, 0, 0, 121110528, 529, 65536, None, 0), (12851801099, 12851824971, 0, 1, 7, 11206, 281488130048000, 79, 80, 64, 1, 1, 28, 504, 1, 1, 256, 1, 1, 0, 0, 0, 121110528, 530, 8192, None, 0), (12851825803, 12851856043, 0, 1, 7, 11214, 281488130048000, 132, 77, 106, 1, 1, 22, 3072, 1, 1, 128, 1, 1, 0, 0, 0, 121110528, 531, 16384, None, 0), (12851856843, 12851876907, 0, 1, 7, 11222, 281488130048000, 81, 77, 65, 1, 1, 16, 3072, 1, 1, 128, 1, 1, 0, 0, 0, 121110528, 532, 16384, None, 0), (12851877771, 12851886859, 0, 1, 7, 11234, 281488130048000, 82, 83, 66, 1, 1, 32, 128, 1, 1, 32, 16, 1, 16, 0, 0, 121110528, 533, 8192, None, 0), (12851887595, 12851889899, 0, 1, 7, 11242, 281488130048000, 84, 77, 67, 1, 1, 16, 4, 1, 1, 128, 1, 1, 0, 0, 0, 121110528, 534, 16384, None, 0), (12851890635, 12851893035, 0, 1, 7, 11250, 281488130048000, 85, 77, 68, 1, 1, 18, 4, 1, 1, 128, 1, 1, 0, 0, 0, 121110528, 535, 16384, None, 0), (12851893867, 12851914347, 0, 1, 7, 11258, 281488130048000, 86, 87, 69, 1, 1, 16, 6144, 1, 1, 128, 1, 1, 0, 0, 0, 121110528, 536, 16384, None, 0), (12851915115, 12851937899, 0, 1, 7, 11266, 281488130048000, 86, 87, 69, 1, 1, 16, 6144, 1, 1, 128, 1, 1, 0, 0, 0, 121110528, 537, 16384, None, 0), (12851938667, 12851963274, 0, 1, 7, 11292, 281488130048000, 79, 80, 64, 1, 1, 28, 504, 1, 1, 256, 1, 1, 0, 0, 0, 121110528, 538, 8192, None, 0)]\n"
     ]
    }
   ],
   "source": [
    "print(query_db(\"SELECT * FROM CUPTI_ACTIVITY_KIND_KERNEL;\"))"
   ]
  },
  {
   "cell_type": "code",
   "execution_count": 27,
   "id": "58bfb0b5-8489-4b78-bd03-fe7d17393fa9",
   "metadata": {
    "execution": {
     "iopub.execute_input": "2023-07-17T08:07:46.163770Z",
     "iopub.status.busy": "2023-07-17T08:07:46.162943Z",
     "iopub.status.idle": "2023-07-17T08:07:46.178625Z",
     "shell.execute_reply": "2023-07-17T08:07:46.177903Z",
     "shell.execute_reply.started": "2023-07-17T08:07:46.163735Z"
    }
   },
   "outputs": [],
   "source": [
    "# Connect to the SQLite database\n",
    "conn = sqlite3.connect('report1.sqlite')\n",
    "\n",
    "# Run the query and load the results into a pandas DataFrame\n",
    "query = \"SELECT * FROM CUPTI_ACTIVITY_KIND_KERNEL\"\n",
    "df_kernel_data = pd.read_sql_query(query, conn)\n",
    "\n",
    "# Close the connection\n",
    "conn.close()\n",
    "\n"
   ]
  },
  {
   "cell_type": "code",
   "execution_count": 28,
   "id": "0f040ef9-a6b2-441f-8a99-42a1b9f8d968",
   "metadata": {
    "execution": {
     "iopub.execute_input": "2023-07-17T08:08:01.482089Z",
     "iopub.status.busy": "2023-07-17T08:08:01.481357Z",
     "iopub.status.idle": "2023-07-17T08:08:01.501235Z",
     "shell.execute_reply": "2023-07-17T08:08:01.500695Z",
     "shell.execute_reply.started": "2023-07-17T08:08:01.482063Z"
    }
   },
   "outputs": [
    {
     "data": {
      "text/html": [
       "<div>\n",
       "<style scoped>\n",
       "    .dataframe tbody tr th:only-of-type {\n",
       "        vertical-align: middle;\n",
       "    }\n",
       "\n",
       "    .dataframe tbody tr th {\n",
       "        vertical-align: top;\n",
       "    }\n",
       "\n",
       "    .dataframe thead th {\n",
       "        text-align: right;\n",
       "    }\n",
       "</style>\n",
       "<table border=\"1\" class=\"dataframe\">\n",
       "  <thead>\n",
       "    <tr style=\"text-align: right;\">\n",
       "      <th></th>\n",
       "      <th>start</th>\n",
       "      <th>end</th>\n",
       "      <th>deviceId</th>\n",
       "      <th>contextId</th>\n",
       "      <th>streamId</th>\n",
       "      <th>correlationId</th>\n",
       "      <th>globalPid</th>\n",
       "      <th>demangledName</th>\n",
       "      <th>shortName</th>\n",
       "      <th>mangledName</th>\n",
       "      <th>...</th>\n",
       "      <th>blockY</th>\n",
       "      <th>blockZ</th>\n",
       "      <th>staticSharedMemory</th>\n",
       "      <th>dynamicSharedMemory</th>\n",
       "      <th>localMemoryPerThread</th>\n",
       "      <th>localMemoryTotal</th>\n",
       "      <th>gridId</th>\n",
       "      <th>sharedMemoryExecuted</th>\n",
       "      <th>graphNodeId</th>\n",
       "      <th>sharedMemoryLimitConfig</th>\n",
       "    </tr>\n",
       "  </thead>\n",
       "  <tbody>\n",
       "    <tr>\n",
       "      <th>0</th>\n",
       "      <td>11699523089</td>\n",
       "      <td>11699542256</td>\n",
       "      <td>0</td>\n",
       "      <td>1</td>\n",
       "      <td>7</td>\n",
       "      <td>3646</td>\n",
       "      <td>281488130048000</td>\n",
       "      <td>71</td>\n",
       "      <td>72</td>\n",
       "      <td>60</td>\n",
       "      <td>...</td>\n",
       "      <td>1</td>\n",
       "      <td>1</td>\n",
       "      <td>0</td>\n",
       "      <td>0</td>\n",
       "      <td>0</td>\n",
       "      <td>121110528</td>\n",
       "      <td>1</td>\n",
       "      <td>16384</td>\n",
       "      <td>None</td>\n",
       "      <td>0</td>\n",
       "    </tr>\n",
       "    <tr>\n",
       "      <th>1</th>\n",
       "      <td>11699733232</td>\n",
       "      <td>11699737744</td>\n",
       "      <td>0</td>\n",
       "      <td>1</td>\n",
       "      <td>7</td>\n",
       "      <td>3658</td>\n",
       "      <td>281488130048000</td>\n",
       "      <td>74</td>\n",
       "      <td>75</td>\n",
       "      <td>61</td>\n",
       "      <td>...</td>\n",
       "      <td>1</td>\n",
       "      <td>1</td>\n",
       "      <td>0</td>\n",
       "      <td>0</td>\n",
       "      <td>0</td>\n",
       "      <td>121110528</td>\n",
       "      <td>2</td>\n",
       "      <td>16384</td>\n",
       "      <td>None</td>\n",
       "      <td>0</td>\n",
       "    </tr>\n",
       "    <tr>\n",
       "      <th>2</th>\n",
       "      <td>11699852975</td>\n",
       "      <td>11699855279</td>\n",
       "      <td>0</td>\n",
       "      <td>1</td>\n",
       "      <td>7</td>\n",
       "      <td>3667</td>\n",
       "      <td>281488130048000</td>\n",
       "      <td>76</td>\n",
       "      <td>77</td>\n",
       "      <td>62</td>\n",
       "      <td>...</td>\n",
       "      <td>1</td>\n",
       "      <td>1</td>\n",
       "      <td>0</td>\n",
       "      <td>0</td>\n",
       "      <td>0</td>\n",
       "      <td>121110528</td>\n",
       "      <td>3</td>\n",
       "      <td>16384</td>\n",
       "      <td>None</td>\n",
       "      <td>0</td>\n",
       "    </tr>\n",
       "    <tr>\n",
       "      <th>3</th>\n",
       "      <td>11699927183</td>\n",
       "      <td>11699929359</td>\n",
       "      <td>0</td>\n",
       "      <td>1</td>\n",
       "      <td>7</td>\n",
       "      <td>3675</td>\n",
       "      <td>281488130048000</td>\n",
       "      <td>78</td>\n",
       "      <td>77</td>\n",
       "      <td>63</td>\n",
       "      <td>...</td>\n",
       "      <td>1</td>\n",
       "      <td>1</td>\n",
       "      <td>0</td>\n",
       "      <td>0</td>\n",
       "      <td>0</td>\n",
       "      <td>121110528</td>\n",
       "      <td>4</td>\n",
       "      <td>16384</td>\n",
       "      <td>None</td>\n",
       "      <td>0</td>\n",
       "    </tr>\n",
       "    <tr>\n",
       "      <th>4</th>\n",
       "      <td>11700109710</td>\n",
       "      <td>11700133262</td>\n",
       "      <td>0</td>\n",
       "      <td>1</td>\n",
       "      <td>7</td>\n",
       "      <td>3697</td>\n",
       "      <td>281488130048000</td>\n",
       "      <td>79</td>\n",
       "      <td>80</td>\n",
       "      <td>64</td>\n",
       "      <td>...</td>\n",
       "      <td>1</td>\n",
       "      <td>1</td>\n",
       "      <td>0</td>\n",
       "      <td>0</td>\n",
       "      <td>0</td>\n",
       "      <td>121110528</td>\n",
       "      <td>5</td>\n",
       "      <td>8192</td>\n",
       "      <td>None</td>\n",
       "      <td>0</td>\n",
       "    </tr>\n",
       "    <tr>\n",
       "      <th>...</th>\n",
       "      <td>...</td>\n",
       "      <td>...</td>\n",
       "      <td>...</td>\n",
       "      <td>...</td>\n",
       "      <td>...</td>\n",
       "      <td>...</td>\n",
       "      <td>...</td>\n",
       "      <td>...</td>\n",
       "      <td>...</td>\n",
       "      <td>...</td>\n",
       "      <td>...</td>\n",
       "      <td>...</td>\n",
       "      <td>...</td>\n",
       "      <td>...</td>\n",
       "      <td>...</td>\n",
       "      <td>...</td>\n",
       "      <td>...</td>\n",
       "      <td>...</td>\n",
       "      <td>...</td>\n",
       "      <td>...</td>\n",
       "      <td>...</td>\n",
       "    </tr>\n",
       "    <tr>\n",
       "      <th>533</th>\n",
       "      <td>12851887595</td>\n",
       "      <td>12851889899</td>\n",
       "      <td>0</td>\n",
       "      <td>1</td>\n",
       "      <td>7</td>\n",
       "      <td>11242</td>\n",
       "      <td>281488130048000</td>\n",
       "      <td>84</td>\n",
       "      <td>77</td>\n",
       "      <td>67</td>\n",
       "      <td>...</td>\n",
       "      <td>1</td>\n",
       "      <td>1</td>\n",
       "      <td>0</td>\n",
       "      <td>0</td>\n",
       "      <td>0</td>\n",
       "      <td>121110528</td>\n",
       "      <td>534</td>\n",
       "      <td>16384</td>\n",
       "      <td>None</td>\n",
       "      <td>0</td>\n",
       "    </tr>\n",
       "    <tr>\n",
       "      <th>534</th>\n",
       "      <td>12851890635</td>\n",
       "      <td>12851893035</td>\n",
       "      <td>0</td>\n",
       "      <td>1</td>\n",
       "      <td>7</td>\n",
       "      <td>11250</td>\n",
       "      <td>281488130048000</td>\n",
       "      <td>85</td>\n",
       "      <td>77</td>\n",
       "      <td>68</td>\n",
       "      <td>...</td>\n",
       "      <td>1</td>\n",
       "      <td>1</td>\n",
       "      <td>0</td>\n",
       "      <td>0</td>\n",
       "      <td>0</td>\n",
       "      <td>121110528</td>\n",
       "      <td>535</td>\n",
       "      <td>16384</td>\n",
       "      <td>None</td>\n",
       "      <td>0</td>\n",
       "    </tr>\n",
       "    <tr>\n",
       "      <th>535</th>\n",
       "      <td>12851893867</td>\n",
       "      <td>12851914347</td>\n",
       "      <td>0</td>\n",
       "      <td>1</td>\n",
       "      <td>7</td>\n",
       "      <td>11258</td>\n",
       "      <td>281488130048000</td>\n",
       "      <td>86</td>\n",
       "      <td>87</td>\n",
       "      <td>69</td>\n",
       "      <td>...</td>\n",
       "      <td>1</td>\n",
       "      <td>1</td>\n",
       "      <td>0</td>\n",
       "      <td>0</td>\n",
       "      <td>0</td>\n",
       "      <td>121110528</td>\n",
       "      <td>536</td>\n",
       "      <td>16384</td>\n",
       "      <td>None</td>\n",
       "      <td>0</td>\n",
       "    </tr>\n",
       "    <tr>\n",
       "      <th>536</th>\n",
       "      <td>12851915115</td>\n",
       "      <td>12851937899</td>\n",
       "      <td>0</td>\n",
       "      <td>1</td>\n",
       "      <td>7</td>\n",
       "      <td>11266</td>\n",
       "      <td>281488130048000</td>\n",
       "      <td>86</td>\n",
       "      <td>87</td>\n",
       "      <td>69</td>\n",
       "      <td>...</td>\n",
       "      <td>1</td>\n",
       "      <td>1</td>\n",
       "      <td>0</td>\n",
       "      <td>0</td>\n",
       "      <td>0</td>\n",
       "      <td>121110528</td>\n",
       "      <td>537</td>\n",
       "      <td>16384</td>\n",
       "      <td>None</td>\n",
       "      <td>0</td>\n",
       "    </tr>\n",
       "    <tr>\n",
       "      <th>537</th>\n",
       "      <td>12851938667</td>\n",
       "      <td>12851963274</td>\n",
       "      <td>0</td>\n",
       "      <td>1</td>\n",
       "      <td>7</td>\n",
       "      <td>11292</td>\n",
       "      <td>281488130048000</td>\n",
       "      <td>79</td>\n",
       "      <td>80</td>\n",
       "      <td>64</td>\n",
       "      <td>...</td>\n",
       "      <td>1</td>\n",
       "      <td>1</td>\n",
       "      <td>0</td>\n",
       "      <td>0</td>\n",
       "      <td>0</td>\n",
       "      <td>121110528</td>\n",
       "      <td>538</td>\n",
       "      <td>8192</td>\n",
       "      <td>None</td>\n",
       "      <td>0</td>\n",
       "    </tr>\n",
       "  </tbody>\n",
       "</table>\n",
       "<p>538 rows × 27 columns</p>\n",
       "</div>"
      ],
      "text/plain": [
       "           start          end  deviceId  contextId  streamId  correlationId  \\\n",
       "0    11699523089  11699542256         0          1         7           3646   \n",
       "1    11699733232  11699737744         0          1         7           3658   \n",
       "2    11699852975  11699855279         0          1         7           3667   \n",
       "3    11699927183  11699929359         0          1         7           3675   \n",
       "4    11700109710  11700133262         0          1         7           3697   \n",
       "..           ...          ...       ...        ...       ...            ...   \n",
       "533  12851887595  12851889899         0          1         7          11242   \n",
       "534  12851890635  12851893035         0          1         7          11250   \n",
       "535  12851893867  12851914347         0          1         7          11258   \n",
       "536  12851915115  12851937899         0          1         7          11266   \n",
       "537  12851938667  12851963274         0          1         7          11292   \n",
       "\n",
       "           globalPid  demangledName  shortName  mangledName  ...  blockY  \\\n",
       "0    281488130048000             71         72           60  ...       1   \n",
       "1    281488130048000             74         75           61  ...       1   \n",
       "2    281488130048000             76         77           62  ...       1   \n",
       "3    281488130048000             78         77           63  ...       1   \n",
       "4    281488130048000             79         80           64  ...       1   \n",
       "..               ...            ...        ...          ...  ...     ...   \n",
       "533  281488130048000             84         77           67  ...       1   \n",
       "534  281488130048000             85         77           68  ...       1   \n",
       "535  281488130048000             86         87           69  ...       1   \n",
       "536  281488130048000             86         87           69  ...       1   \n",
       "537  281488130048000             79         80           64  ...       1   \n",
       "\n",
       "     blockZ  staticSharedMemory  dynamicSharedMemory  localMemoryPerThread  \\\n",
       "0         1                   0                    0                     0   \n",
       "1         1                   0                    0                     0   \n",
       "2         1                   0                    0                     0   \n",
       "3         1                   0                    0                     0   \n",
       "4         1                   0                    0                     0   \n",
       "..      ...                 ...                  ...                   ...   \n",
       "533       1                   0                    0                     0   \n",
       "534       1                   0                    0                     0   \n",
       "535       1                   0                    0                     0   \n",
       "536       1                   0                    0                     0   \n",
       "537       1                   0                    0                     0   \n",
       "\n",
       "     localMemoryTotal  gridId  sharedMemoryExecuted  graphNodeId  \\\n",
       "0           121110528       1                 16384         None   \n",
       "1           121110528       2                 16384         None   \n",
       "2           121110528       3                 16384         None   \n",
       "3           121110528       4                 16384         None   \n",
       "4           121110528       5                  8192         None   \n",
       "..                ...     ...                   ...          ...   \n",
       "533         121110528     534                 16384         None   \n",
       "534         121110528     535                 16384         None   \n",
       "535         121110528     536                 16384         None   \n",
       "536         121110528     537                 16384         None   \n",
       "537         121110528     538                  8192         None   \n",
       "\n",
       "     sharedMemoryLimitConfig  \n",
       "0                          0  \n",
       "1                          0  \n",
       "2                          0  \n",
       "3                          0  \n",
       "4                          0  \n",
       "..                       ...  \n",
       "533                        0  \n",
       "534                        0  \n",
       "535                        0  \n",
       "536                        0  \n",
       "537                        0  \n",
       "\n",
       "[538 rows x 27 columns]"
      ]
     },
     "execution_count": 28,
     "metadata": {},
     "output_type": "execute_result"
    }
   ],
   "source": [
    "df_kernel_data"
   ]
  },
  {
   "cell_type": "code",
   "execution_count": 32,
   "id": "affcba4d-569d-4ce9-afa8-86cf6ae6c054",
   "metadata": {
    "execution": {
     "iopub.execute_input": "2023-07-17T08:14:50.799874Z",
     "iopub.status.busy": "2023-07-17T08:14:50.799165Z",
     "iopub.status.idle": "2023-07-17T08:14:51.241347Z",
     "shell.execute_reply": "2023-07-17T08:14:51.240897Z",
     "shell.execute_reply.started": "2023-07-17T08:14:50.799836Z"
    }
   },
   "outputs": [
    {
     "data": {
      "image/png": "[encoded data removed]",
      "text/plain": [
       "<Figure size 1000x600 with 1 Axes>"
      ]
     },
     "metadata": {},
     "output_type": "display_data"
    },
    {
     "data": {
      "image/png": "[encoded data removed]",
      "text/plain": [
       "<Figure size 1000x600 with 1 Axes>"
      ]
     },
     "metadata": {},
     "output_type": "display_data"
    },
    {
     "data": {
      "image/png": "[encoded data removed]",
      "text/plain": [
       "<Figure size 1000x600 with 1 Axes>"
      ]
     },
     "metadata": {},
     "output_type": "display_data"
    },
    {
     "data": {
      "image/png": "[encoded data removed]",
      "text/plain": [
       "<Figure size 1000x600 with 1 Axes>"
      ]
     },
     "metadata": {},
     "output_type": "display_data"
    }
   ],
   "source": [
    "import matplotlib.pyplot as plt\n",
    "\n",
    "# Calculate the execution time for each kernel in microseconds\n",
    "df_kernel_data['execution_time_us'] = df_kernel_data['end'] - df_kernel_data['start']\n",
    "\n",
    "# Define a function to create a histogram\n",
    "def plot_histogram(data, title, xlabel, ylabel, bins='auto'):\n",
    "    plt.figure(figsize=(10,6))\n",
    "    plt.hist(data, bins=bins, edgecolor='black')\n",
    "    plt.title(title)\n",
    "    plt.xlabel(xlabel)\n",
    "    plt.ylabel(ylabel)\n",
    "    plt.grid(True)\n",
    "    plt.show()\n",
    "\n",
    "# Plot a histogram of the kernel execution times\n",
    "plot_histogram(df_kernel_data['execution_time_us'], \n",
    "               'Histogram of Kernel Execution Time', \n",
    "               'Execution Time (us)', \n",
    "               'Frequency')\n",
    "\n",
    "\n",
    "# Analyzing block size\n",
    "block_columns = ['blockX', 'blockY', 'blockZ']\n",
    "for col in block_columns:\n",
    "    plot_histogram(df_kernel_data[col], \n",
    "                   f'Histogram of {col}', \n",
    "                   'Block Size', \n",
    "                   'Frequency')\n"
   ]
  },
  {
   "cell_type": "code",
   "execution_count": 29,
   "id": "3c6f2cf9-4fda-4e88-8c33-9899150878c2",
   "metadata": {
    "execution": {
     "iopub.execute_input": "2023-07-17T08:09:17.553106Z",
     "iopub.status.busy": "2023-07-17T08:09:17.552467Z",
     "iopub.status.idle": "2023-07-17T08:09:17.562747Z",
     "shell.execute_reply": "2023-07-17T08:09:17.562333Z",
     "shell.execute_reply.started": "2023-07-17T08:09:17.553081Z"
    }
   },
   "outputs": [],
   "source": [
    "df_kernel_data.to_csv('kernel_activity.csv', index=False)\n"
   ]
  }
 ],
 "metadata": {
  "kernelspec": {
   "display_name": "Python 3 (ipykernel)",
   "language": "python",
   "name": "python3"
  },
  "language_info": {
   "codemirror_mode": {
    "name": "ipython",
    "version": 3
   },
   "file_extension": ".py",
   "mimetype": "text/x-python",
   "name": "python",
   "nbconvert_exporter": "python",
   "pygments_lexer": "ipython3",
   "version": "3.9.16"
  }
 },
 "nbformat": 4,
 "nbformat_minor": 5
}
